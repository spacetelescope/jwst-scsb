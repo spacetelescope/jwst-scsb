{
 "cells": [
  {
   "cell_type": "markdown",
   "metadata": {},
   "source": [
    "# Abstract"
   ]
  },
  {
   "cell_type": "markdown",
   "metadata": {},
   "source": [
    "Query a JWST engineering database, retrieving the list of available mnemonics, and then plotting those mnemonics over a specified time period.\n",
    "\n",
    "Some mnemonics to start with are the spacecraft orientation menmonics, which start with `SA_ZATTEST`. Other ones which usually have values are any that deal with temperature; they will have `TEMP` in the name.\n",
    "\n",
    "## Warning\n",
    "Some mnemonics have a very high cadence/points-per-second. Choosing large time ranges, such as a day, will result in long wait times as the data is downloaded. An hour or so are good starting points.\n",
    "\n",
    "The engineering database itself is currently only available from the internal Institute network."
   ]
  },
  {
   "cell_type": "markdown",
   "metadata": {},
   "source": [
    "# Environment"
   ]
  },
  {
   "cell_type": "code",
   "execution_count": null,
   "metadata": {},
   "outputs": [],
   "source": [
    "# Pick some suitable intial time frame.\n",
    "# And, yes, its the future. It is test data!\n",
    "\n",
    "STIME_DEF = '2019-06-03T15:00'\n",
    "ETIME_DEF = '2019-06-03T16:00'"
   ]
  },
  {
   "cell_type": "code",
   "execution_count": null,
   "metadata": {},
   "outputs": [],
   "source": [
    "from bokeh.io import (\n",
    "    output_notebook, \n",
    "    push_notebook,\n",
    "    show\n",
    ")\n",
    "from bokeh.layouts import row\n",
    "from bokeh.plotting import figure, output_notebook, show"
   ]
  },
  {
   "cell_type": "code",
   "execution_count": null,
   "metadata": {},
   "outputs": [],
   "source": [
    "from ipywidgets import interact, fixed"
   ]
  },
  {
   "cell_type": "code",
   "execution_count": null,
   "metadata": {},
   "outputs": [],
   "source": [
    "# Specify a different engineering database other than the standard, B-string, one.\n",
    "# This will use the C-string version.\n",
    "# os.environ['ENG_RESTFUL_URL'] = 'http://iwjwdmscemweb.stsci.edu/JWDMSEngFqAcc/TlmMnemonicDataSrv.svc/'"
   ]
  },
  {
   "cell_type": "code",
   "execution_count": null,
   "metadata": {},
   "outputs": [],
   "source": [
    "import numpy as np"
   ]
  },
  {
   "cell_type": "code",
   "execution_count": null,
   "metadata": {},
   "outputs": [],
   "source": [
    "from jwst.lib.engdb_tools import ENGDB_Service"
   ]
  },
  {
   "cell_type": "markdown",
   "metadata": {},
   "source": [
    "# Library"
   ]
  },
  {
   "cell_type": "code",
   "execution_count": null,
   "metadata": {},
   "outputs": [],
   "source": [
    "def engplot(mnemonic, stime=STIME_DEF, etime=ETIME_DEF):\n",
    "    \"\"\"Plot a mnemonic\n",
    "    \n",
    "    Parameters\n",
    "    ----------\n",
    "    mnemonic: str\n",
    "        The mnemonic to plot\n",
    "        \n",
    "    stime, etime: str\n",
    "        The start and end times to cover, in `YYYY-MM-DDTHH:MM::SS.sss` format.\n",
    "        \n",
    "    Returns\n",
    "    -------\n",
    "    fig: bokeh.Figure\n",
    "        The Bokeh Figure object to plot.\n",
    "    \"\"\"\n",
    "    print('Retrieving mnemonic {}'.format(mnemonic))\n",
    "    values = edb.get_values(mnemonic, stime, etime, include_obstime=True, zip=False)\n",
    "    print('Mnemonic {} returned {} values.'.format(mnemonic, len(values.value)))\n",
    "    if not len(values.value):\n",
    "        print('*** Warning: No data available to plot. Plot will be empty.')\n",
    "    times = np.array([o.isot for o in values.obstime], dtype=np.datetime64)\n",
    "    fig = figure(x_axis_type=\"datetime\")\n",
    "    fig.circle(times, values.value)\n",
    "    return fig"
   ]
  },
  {
   "cell_type": "code",
   "execution_count": null,
   "metadata": {},
   "outputs": [],
   "source": [
    "def engplot_update(mnemonic='SA_ZATTEST1', stime=STIME_DEF, etime=ETIME_DEF):\n",
    "    \"\"\"Callback to update the plot with new parameters\n",
    "    \n",
    "    Parameters\n",
    "    ----------\n",
    "    mnemonic: str\n",
    "        The mnemonic to plot\n",
    "        \n",
    "    stime, etime: str\n",
    "        The start and end times to cover, in `YYYY-MM-DDTHH:MM::SS.sss` format.\n",
    "        \n",
    "    Globals\n",
    "    -------\n",
    "    r, handle\n",
    "        Pointers to the Bokeh structures to update.\n",
    "    \"\"\"\n",
    "    try:\n",
    "        p = engplot(mnemonic=mnemonic, stime=stime, etime=etime)\n",
    "    except Exception as e:\n",
    "        print('*** Error retrieveing mnemonic {}: Plot will not be updated'.format(mnemonic))\n",
    "    else:\n",
    "        r.children[0] = p\n",
    "        push_notebook(handle=handle)"
   ]
  },
  {
   "cell_type": "markdown",
   "metadata": {},
   "source": [
    "# Main"
   ]
  },
  {
   "cell_type": "code",
   "execution_count": null,
   "metadata": {},
   "outputs": [],
   "source": [
    "output_notebook()"
   ]
  },
  {
   "cell_type": "markdown",
   "metadata": {},
   "source": [
    "## Setup access to the engineering DB"
   ]
  },
  {
   "cell_type": "code",
   "execution_count": null,
   "metadata": {},
   "outputs": [],
   "source": [
    "edb = ENGDB_Service()"
   ]
  },
  {
   "cell_type": "markdown",
   "metadata": {},
   "source": [
    "## Get the list of mnemonics"
   ]
  },
  {
   "cell_type": "code",
   "execution_count": null,
   "metadata": {},
   "outputs": [],
   "source": [
    "mnemonics = [m['TlmMnemonic'] for m in edb.get_meta()['TlmMnemonics']]"
   ]
  },
  {
   "cell_type": "markdown",
   "metadata": {},
   "source": [
    "## Initialize the first plot"
   ]
  },
  {
   "cell_type": "code",
   "execution_count": null,
   "metadata": {},
   "outputs": [],
   "source": [
    "fig = engplot('SA_ZATTEST1')\n",
    "r = row(fig)\n",
    "handle = show(r, notebook_handle=True)"
   ]
  },
  {
   "cell_type": "markdown",
   "metadata": {},
   "source": [
    "## Setup the callback to update the plot with a user-specified mnemonic and time range.\n",
    "The plot will automatically update when any of the fields are changed.\n",
    "\n",
    "The status of the data retrieval appears below the input form. If there is an error or no data is available, the status will indicate what the issue is."
   ]
  },
  {
   "cell_type": "code",
   "execution_count": null,
   "metadata": {},
   "outputs": [],
   "source": [
    "interact(\n",
    "    engplot_update, \n",
    "    mnemonic=mnemonics,\n",
    "    stime=STIME_DEF,\n",
    "    etime=ETIME_DEF,\n",
    "    __manual=True\n",
    ")"
   ]
  },
  {
   "cell_type": "code",
   "execution_count": null,
   "metadata": {},
   "outputs": [],
   "source": []
  }
 ],
 "metadata": {
  "anaconda-cloud": {},
  "kernelspec": {
   "display_name": "Python 3",
   "language": "python",
   "name": "python3"
  },
  "language_info": {
   "codemirror_mode": {
    "name": "ipython",
    "version": 3
   },
   "file_extension": ".py",
   "mimetype": "text/x-python",
   "name": "python",
   "nbconvert_exporter": "python",
   "pygments_lexer": "ipython3",
   "version": "3.7.1"
  },
  "widgets": {
   "state": {
    "38688c7a889347b486eda56a053657d2": {
     "views": [
      {
       "cell_index": 17
      }
     ]
    }
   },
   "version": "1.2.0"
  }
 },
 "nbformat": 4,
 "nbformat_minor": 1
}
