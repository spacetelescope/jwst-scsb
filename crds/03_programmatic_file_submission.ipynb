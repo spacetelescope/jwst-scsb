{
 "cells": [
  {
   "cell_type": "markdown",
   "metadata": {},
   "source": [
    "# CRDS programmatic reference file submission\n",
    "\n",
    "An introduction to reference file submission using the CRDS Python API."
   ]
  },
  {
   "cell_type": "markdown",
   "metadata": {},
   "source": [
    "## Prerequisites\n",
    "\n",
    "To follow along with the examples in this notebook, you will need:\n",
    "\n",
    "- A CRDS server deployment to serve as a sandbox.  As of September 2020, the JWST B-string CRDS deployment has been commandeered to support these notebooks.\n",
    "\n",
    "- An active STScI VPN connection.\n",
    "\n",
    "- An account on the CRDS server with permissions to submit files.  If you need an account, contact Ed Slavich or Jonathan Eisenhamer or SCSB generally.\n",
    "\n",
    "- Packages from the requirements.txt included in this notebook's directory:\n",
    "\n",
    "```\n",
    "$ pip install -r requirements.txt\n",
    "```"
   ]
  },
  {
   "cell_type": "markdown",
   "metadata": {},
   "source": [
    "## ¡CAUTION!\n",
    "\n",
    "As you perform tasks on the CRDS website, always double-check that you are using the correct dev deployment and not one of the HST or JWST test or ops servers.  The changes you make can always be reverted, but a) the cleanup will give the CRDS operators a headache, and b) the system will retain your submissions eternally as a monument to your mistake.\n",
    "\n",
    "That said, if you are on the correct server, please do experiment freely (\"go nuts\").  The dev server can be easily reset to its original state."
   ]
  },
  {
   "cell_type": "markdown",
   "metadata": {},
   "source": [
    "## Generate a MAST API token\n",
    "\n",
    "Since we're going to be submitting a file, we'll need to identify ourselves to CRDS to prove that we have the permissions necessary to modify the system.  The programmatic API does not support authentication with username and password -- this is a security feature, since users tend to leave such credentials lying around in plaintext in scripts and notebooks.  Instead we'll authenticate with an API token that we generate for this purpose.  Follow this link to auth.mast (you will be asked to authenticate with STScI SSO if you have not already):\n",
    "\n",
    "https://auth.mast.stsci.edu/token\n",
    "\n",
    "Enter a useful token name like \"CRDS tutorials\" and press the red \"Create Token\" button.  You should see a result like this:\n",
    "\n",
    "![Create Token result](images/token_generated.png)\n",
    "\n",
    "Copy the token value and paste it into the `MAST_API_TOKEN` variable below:"
   ]
  },
  {
   "cell_type": "code",
   "execution_count": null,
   "metadata": {},
   "outputs": [],
   "source": [
    "MAST_API_TOKEN = \"your-token-here\"\n",
    "assert MAST_API_TOKEN != \"your-token-here\", \"Please set MAST_API_TOKEN\""
   ]
  },
  {
   "cell_type": "markdown",
   "metadata": {},
   "source": [
    "## Setup\n",
    "\n",
    "We'll once again need to configure CRDS to use the JWST B-string server, and this time we'll also set an environment variable for the API token:"
   ]
  },
  {
   "cell_type": "code",
   "execution_count": null,
   "metadata": {},
   "outputs": [],
   "source": [
    "import os\n",
    "os.environ[\"CRDS_SERVER_URL\"] = \"https://jwst-crds-bit.stsci.edu\"\n",
    "os.environ[\"CRDS_PATH\"] = os.path.join(os.environ[\"HOME\"], \"crds-tutorial-cache\")\n",
    "os.environ[\"MAST_API_TOKEN\"] = MAST_API_TOKEN"
   ]
  },
  {
   "cell_type": "markdown",
   "metadata": {},
   "source": [
    "Then import the crds client library:"
   ]
  },
  {
   "cell_type": "code",
   "execution_count": null,
   "metadata": {},
   "outputs": [],
   "source": [
    "import crds"
   ]
  },
  {
   "cell_type": "markdown",
   "metadata": {},
   "source": [
    "## Select and download an existing reference file\n",
    "\n",
    "Like in the second notebook, we need to acquire a file to update and submit.  Let's use a FITS file this time.  Here's a section of an **.rmap** for the `nircam` `readnoise` reference file type:\n",
    "\n",
    "```\n",
    "header = {\n",
    "    'classes' : ('Match', 'UseAfter'),\n",
    "    'derived_from' : 'jwst_nircam_readnoise_0005.rmap',\n",
    "    'filekind' : 'READNOISE',\n",
    "    'instrument' : 'NIRCAM',\n",
    "    'mapping' : 'REFERENCE',\n",
    "    'name' : 'jwst_nircam_readnoise_0006.rmap',\n",
    "    'observatory' : 'JWST',\n",
    "    'parkey' : (('META.INSTRUMENT.DETECTOR', 'META.EXPOSURE.READPATT', 'META.SUBARRAY.NAME'), ('META.OBSERVATION.DATE', 'META.OBSERVATION.TIME')),\n",
    "    'sha1sum' : '4f7fe083dc1f65374299a435d824c124d33dcfb3',\n",
    "    'substitutions' : {\n",
    "        'META.SUBARRAY.NAME' : {\n",
    "            'GENERIC' : 'N/A',\n",
    "        },\n",
    "    },\n",
    "}\n",
    "\n",
    "selector = Match({\n",
    "    ('NRCA1', 'ANY', 'GENERIC') : UseAfter({\n",
    "        '2015-10-01 00:00:00' : 'jwst_nircam_readnoise_0025.fits',\n",
    "    }),\n",
    "    ...\n",
    "})\n",
    "```\n",
    "\n",
    "That first file will do.  We'll again harness `crds.getreferences` to download the file for us:"
   ]
  },
  {
   "cell_type": "code",
   "execution_count": null,
   "metadata": {},
   "outputs": [],
   "source": [
    "result = crds.getreferences(\n",
    "    {\n",
    "        \"META.INSTRUMENT.NAME\": \"NIRCAM\",\n",
    "        \"META.INSTRUMENT.DETECTOR\": \"NRCA1\",\n",
    "        \"META.EXPOSURE.READPATT\": \"I LOVE OATMEAL\",\n",
    "        \"META.SUBARRAY.NAME\": \"HARRIET\",\n",
    "        \"META.OBSERVATION.DATE\": \"2015-11-20\",\n",
    "        \"META.OBSERVATION.TIME\": \"10:11:12\",\n",
    "    },\n",
    "    reftypes=[\"readnoise\"],\n",
    "    observatory=\"jwst\",\n",
    "    context=\"jwst_0641.pmap\",\n",
    ")\n",
    "result"
   ]
  },
  {
   "cell_type": "markdown",
   "metadata": {},
   "source": [
    "... and voilà, the file is cached locally.  Notice the odd `META.EXPOSURE.READPATT` and `META.SUBARRAY.NAME` values that we passed to `getreferences`.  The `Match` selector supports wildcard matching, and both `ANY` and `GENERIC` are special values that match anything.  We'll get into the nitty-gritty of **.rmap** syntax later, but for now just know that there's more to matching than simple string comparisons."
   ]
  },
  {
   "cell_type": "code",
   "execution_count": null,
   "metadata": {},
   "outputs": [],
   "source": [
    "!cp {result[\"readnoise\"]} ./jwst_nircam_readnoise_new.fits"
   ]
  },
  {
   "cell_type": "markdown",
   "metadata": {},
   "source": [
    "We're ready to go about modifying the file."
   ]
  },
  {
   "cell_type": "markdown",
   "metadata": {},
   "source": [
    "## Modify the reference file"
   ]
  },
  {
   "cell_type": "markdown",
   "metadata": {},
   "source": [
    "We'll make a different sort of modification to the file this time around.  Since it's a FITS file, we'll need to use `astropy.io.fits` to open it:"
   ]
  },
  {
   "cell_type": "code",
   "execution_count": null,
   "metadata": {},
   "outputs": [],
   "source": [
    "from astropy.io import fits\n",
    "\n",
    "hdul = fits.open(\"jwst_nircam_readnoise_new.fits\", mode=\"update\")\n",
    "hdul[0].header"
   ]
  },
  {
   "cell_type": "markdown",
   "metadata": {},
   "source": [
    "The change we'll make this time is to update the `USEAFTER` header value, which will lead to some interesting consequences when we submit the file:"
   ]
  },
  {
   "cell_type": "code",
   "execution_count": null,
   "metadata": {},
   "outputs": [],
   "source": [
    "import datetime\n",
    "\n",
    "hdul[0].header[\"USEAFTER\"] = datetime.datetime.utcnow().isoformat(timespec=\"seconds\")\n",
    "hdul.close() # Changes are automatically flushed to disk on close()"
   ]
  },
  {
   "cell_type": "markdown",
   "metadata": {},
   "source": [
    "## Submit the file to CRDS... programmatically!\n",
    "\n",
    "At this point in the previous notebook, we followed a link to the CRDS website and uploaded our files and documentation via a web form.  Now we'll submit the same information, but use the `crds` library to submit it right from the notebook.  The first step is to create a `Submission` instance:"
   ]
  },
  {
   "cell_type": "code",
   "execution_count": null,
   "metadata": {},
   "outputs": [],
   "source": [
    "from crds.submit import Submission\n",
    "\n",
    "# TODO: Set derived-from context once that parameter becomes available\n",
    "submission = Submission(\"jwst\", \"bit\", context=\"jwst_0641.pmap\")"
   ]
  },
  {
   "cell_type": "markdown",
   "metadata": {},
   "source": [
    "That second argument is an identifier that refers to the server use case / operational environment.  We've specified `\"bit\"`, which corresponds to the B-string server.  The `Submission.help` method will guide us through what we need to do next:"
   ]
  },
  {
   "cell_type": "code",
   "execution_count": null,
   "metadata": {},
   "outputs": [],
   "source": [
    "submission.help()"
   ]
  },
  {
   "cell_type": "markdown",
   "metadata": {},
   "source": [
    "Each of these keys corresponds to a field on the web form, and we'll need to assign values for the required keys.  Let's use the same dummy values as before:"
   ]
  },
  {
   "cell_type": "code",
   "execution_count": null,
   "metadata": {},
   "outputs": [],
   "source": [
    "submission[\"deliverer\"] = \"testing\"\n",
    "submission[\"instrument\"] = \"nircam\"\n",
    "submission[\"file_type\"] = \"testing\"\n",
    "submission[\"history_updated\"] = True\n",
    "submission[\"pedigree_updated\"] = True\n",
    "submission[\"keywords_checked\"] = True\n",
    "submission[\"descrip_updated\"] = True\n",
    "submission[\"useafter_updated\"] = True\n",
    "submission[\"useafter_matches\"] = \"N/A\"\n",
    "submission[\"compliance_verified\"] = \"N/A\"\n",
    "submission[\"ingest_files\"] = False\n",
    "submission[\"etc_delivery\"] = False\n",
    "submission[\"jwst_etc\"] = False\n",
    "submission[\"calpipe_version\"] = \"testing\"\n",
    "submission[\"replacement_files\"] = False\n",
    "submission[\"replacing_badfiles\"] = \"N/A\"\n",
    "submission[\"modes_affected\"] = \"testing\"\n",
    "submission[\"change_level\"] = \"SEVERE\"\n",
    "submission[\"correctness_testing\"] = \"testing\"\n",
    "submission[\"description\"] = \"testing\""
   ]
  },
  {
   "cell_type": "markdown",
   "metadata": {},
   "source": [
    "Now add the new file to the submission and send it off to the server:"
   ]
  },
  {
   "cell_type": "code",
   "execution_count": null,
   "metadata": {},
   "outputs": [],
   "source": [
    "submission.add_file(\"jwst_nircam_readnoise_new.fits\")\n",
    "result = submission.submit()"
   ]
  },
  {
   "cell_type": "markdown",
   "metadata": {},
   "source": [
    "## Inspect and confirm the submission\n",
    "\n",
    "Completing this final submission step still requires use of the CRDS website.  The result object returned by `Submission.submit` includes a method that will pop open a browser window to the submission results page:"
   ]
  },
  {
   "cell_type": "code",
   "execution_count": null,
   "metadata": {},
   "outputs": [],
   "source": [
    "result.open_ready_url()"
   ]
  },
  {
   "cell_type": "markdown",
   "metadata": {},
   "source": [
    "The website will ask you to login.  Lock the `nircam` instrument that we're working with and proceed to the results page.  Notice the difference in the **.rmap** diff versus the previous notebook's submission:\n",
    "\n",
    "```\n",
    " selector = Match({\n",
    "     ('NRCA1', 'ANY', 'GENERIC') : UseAfter({\n",
    "         '2015-10-01 00:00:00' : 'jwst_nircam_readnoise_0025.fits',\n",
    "+        '2020-09-17 15:16:07' : 'jwst_nircam_readnoise_0045.fits',\n",
    "     }),\n",
    "     ('NRCA1', 'N/A', 'GENERIC') : UseAfter({\n",
    "         '1900-01-01 00:00:00' : 'jwst_nircam_readnoise_0010.fits',\n",
    "```\n",
    "\n",
    "We've added a line, but the previous line was not removed!  What's happening here?\n",
    "\n",
    "When we changed the `USEAFTER` timestamp in the reference file, what we were telling CRDS was that this file supercedes the old file _but only for data acquired after this date_.  The old rule persists because it still needs to handle matches for data timestamped prior to today's date.  We'll see how that plays out when making calls to `crds.getreferences` in the next section.\n",
    "\n",
    "Confirm the submission as before and set the `NEW_CONTEXT` variable to the new context identifier."
   ]
  },
  {
   "cell_type": "code",
   "execution_count": null,
   "metadata": {},
   "outputs": [],
   "source": [
    "NEW_CONTEXT = \"your-context-here\"\n",
    "assert NEW_CONTEXT != \"your-context-here\", \"Please set NEW_CONTEXT\""
   ]
  },
  {
   "cell_type": "markdown",
   "metadata": {},
   "source": [
    "Now spend 5 minutes doing jumping jacks while the CRDS server performs its simulated archiving."
   ]
  },
  {
   "cell_type": "markdown",
   "metadata": {},
   "source": [
    "## Explore the new context\n",
    "\n",
    "\n",
    "As before, we need to dig into the guts of crds and reset some caches:"
   ]
  },
  {
   "cell_type": "code",
   "execution_count": null,
   "metadata": {},
   "outputs": [],
   "source": [
    "from itertools import chain\n",
    "for value in chain(crds.heavy_client.__dict__.values(), crds.api.__dict__.values()):\n",
    "    if isinstance(value, crds.utils.CachedFunction):\n",
    "        value.cache = {}"
   ]
  },
  {
   "cell_type": "markdown",
   "metadata": {},
   "source": [
    "Let's make the same `crds.getreferences` call as before, but with the new context:"
   ]
  },
  {
   "cell_type": "code",
   "execution_count": null,
   "metadata": {},
   "outputs": [],
   "source": [
    "crds.getreferences(\n",
    "    {\n",
    "        \"META.INSTRUMENT.NAME\": \"NIRCAM\",\n",
    "        \"META.INSTRUMENT.DETECTOR\": \"NRCA1\",\n",
    "        \"META.EXPOSURE.READPATT\": \"I LOVE OATMEAL\",\n",
    "        \"META.SUBARRAY.NAME\": \"HARRIET\",\n",
    "        \"META.OBSERVATION.DATE\": \"2015-11-20\",\n",
    "        \"META.OBSERVATION.TIME\": \"10:11:12\",\n",
    "    },\n",
    "    reftypes=[\"readnoise\"],\n",
    "    observatory=\"jwst\",\n",
    "    context=NEW_CONTEXT,\n",
    ")"
   ]
  },
  {
   "cell_type": "markdown",
   "metadata": {},
   "source": [
    "It's the same file, and that's good -- the new file is only to be used for data taken in the future.  We should get back the new file when we advance the date:"
   ]
  },
  {
   "cell_type": "code",
   "execution_count": null,
   "metadata": {},
   "outputs": [],
   "source": [
    "crds.getreferences(\n",
    "    {\n",
    "        \"META.INSTRUMENT.NAME\": \"NIRCAM\",\n",
    "        \"META.INSTRUMENT.DETECTOR\": \"NRCA1\",\n",
    "        \"META.EXPOSURE.READPATT\": \"I LOVE OATMEAL\",\n",
    "        \"META.SUBARRAY.NAME\": \"HARRIET\",\n",
    "        \"META.OBSERVATION.DATE\": (datetime.date.today() + datetime.timedelta(days=5)).isoformat(),\n",
    "        \"META.OBSERVATION.TIME\": \"00:00:00\",\n",
    "    },\n",
    "    reftypes=[\"readnoise\"],\n",
    "    observatory=\"jwst\",\n",
    "    context=NEW_CONTEXT,\n",
    ")"
   ]
  },
  {
   "cell_type": "markdown",
   "metadata": {},
   "source": [
    "Yup, that's the one."
   ]
  },
  {
   "cell_type": "markdown",
   "metadata": {},
   "source": [
    "## Further reading\n",
    "\n",
    "The CRDS User Manual includes [detailed documentation](https://jwst-crds-bit.stsci.edu/static/users_guide/programmatic_interface.html) on use of the Python submission API."
   ]
  }
 ],
 "metadata": {
  "kernelspec": {
   "display_name": "Python 3",
   "language": "python",
   "name": "python3"
  },
  "language_info": {
   "codemirror_mode": {
    "name": "ipython",
    "version": 3
   },
   "file_extension": ".py",
   "mimetype": "text/x-python",
   "name": "python",
   "nbconvert_exporter": "python",
   "pygments_lexer": "ipython3",
   "version": "3.7.9"
  }
 },
 "nbformat": 4,
 "nbformat_minor": 4
}
