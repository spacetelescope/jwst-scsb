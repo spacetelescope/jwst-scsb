{
 "cells": [
  {
   "cell_type": "markdown",
   "metadata": {},
   "source": [
    "# Basic CRDS reference file submission\n",
    "\n",
    "An introduction to CRDS file submission using the web submission form."
   ]
  },
  {
   "cell_type": "markdown",
   "metadata": {},
   "source": [
    "## Prerequisites\n",
    "\n",
    "To follow along with the examples in this notebook, you will need:\n",
    "\n",
    "- A CRDS server deployment to serve as a sandbox.  As of September 2020, the JWST B-string CRDS deployment has been commandeered to support these notebooks.\n",
    "\n",
    "- An active STScI VPN connection.\n",
    "\n",
    "- An account on the CRDS server with permissions to submit files.  If you need an account, contact Ed Slavich or Jonathan Eisenhamer or SCSB generally.\n",
    "\n",
    "- The following Python packages installed:\n",
    "\n",
    "```\n",
    "$ pip install crds==7.6.0 asdf==2.7.1 astropy==4.0.1\n",
    "```"
   ]
  },
  {
   "cell_type": "markdown",
   "metadata": {},
   "source": [
    "## ¡CAUTION!\n",
    "\n",
    "As you perform tasks on the CRDS website, always double-check that you are using the correct dev deployment and not one of the HST or JWST test or ops servers.  The changes you make can always be reverted, but a) the cleanup will give the CRDS operators a headache, and b) the system will retain your submissions eternally as a monument to your mistake.\n",
    "\n",
    "That said, if you are on the correct server, please do experiment freely (\"go nuts\").  The dev server can be easily reset to its original state."
   ]
  },
  {
   "cell_type": "markdown",
   "metadata": {},
   "source": [
    "## Setup\n",
    "\n",
    "We'll need to configure CRDS to use the JWST B-string server.  Let's do that:"
   ]
  },
  {
   "cell_type": "code",
   "execution_count": null,
   "metadata": {},
   "outputs": [],
   "source": [
    "import os\n",
    "os.environ[\"CRDS_SERVER_URL\"] = \"https://jwst-crds-bit.stsci.edu\"\n",
    "os.environ[\"CRDS_PATH\"] = os.path.join(os.environ[\"HOME\"], \"crds-tutorial-cache\")"
   ]
  },
  {
   "cell_type": "markdown",
   "metadata": {},
   "source": [
    "Then import the crds client library:"
   ]
  },
  {
   "cell_type": "code",
   "execution_count": null,
   "metadata": {},
   "outputs": [],
   "source": [
    "import crds"
   ]
  },
  {
   "cell_type": "markdown",
   "metadata": {},
   "source": [
    "## Select and download an existing reference file\n",
    "\n",
    "Now we need to identify a file to update and submit.  Ordinarily users would start from the current edit context, which is the context containing the latest updates submitted to CRDS, but here we're going to use context `jwst_0641.pmap` so that this example produces a consistent result.  Here's a link to the page for the context:\n",
    "\n",
    "https://jwst-crds-bit.stsci.edu/context_table/jwst_0641.pmap\n",
    "\n",
    "For this example we're going to choose a MIRI `distortion` reference file, which is one of the relatively few JWST reference files written in ASDF.  Expand the `miri` accordion and scroll down to expand `distortion`.  The page will show a table of match rules from the reference file type's **.rmap** file.  We could select a file from the table, but let's click through to the actual `jwst_miri_distortion_0031.rmap` page and view the rules directly:\n",
    "\n",
    "```\n",
    "header = {\n",
    "    'classes' : ('Match', 'UseAfter'),\n",
    "    'derived_from' : 'jwst_miri_distortion_0030.rmap',\n",
    "    'filekind' : 'DISTORTION',\n",
    "    'instrument' : 'MIRI',\n",
    "    'mapping' : 'REFERENCE',\n",
    "    'name' : 'jwst_miri_distortion_0031.rmap',\n",
    "    'observatory' : 'JWST',\n",
    "    'parkey' : (('META.INSTRUMENT.DETECTOR', 'META.INSTRUMENT.CHANNEL', 'META.INSTRUMENT.BAND', 'META.EXPOSURE.TYPE'), ('META.OBSERVATION.DATE', 'META.OBSERVATION.TIME')),\n",
    "    'reference_to_dataset' : {\n",
    "        'BAND' : 'META.INSTRUMENT.BAND',\n",
    "        'CHANNEL' : 'META.INSTRUMENT.CHANNEL',\n",
    "        'DETECTOR' : 'META.INSTRUMENT.DETECTOR',\n",
    "        'EXP_TYPE' : 'META.EXPOSURE.TYPE',\n",
    "    },\n",
    "    'sha1sum' : '8a73a92aaa79136e054589823c0e25d79c01e25c',\n",
    "}\n",
    "\n",
    "selector = Match({\n",
    "    ('ANY', 'ANY', 'ANY', 'MIR_DARK') : 'N/A',\n",
    "    ('ANY', 'ANY', 'ANY', 'MIR_FLATIMAGE|MIR_FLAT-IMAGE|MIR_FLATMRS|MIR_FLAT-MRS') : 'N/A',\n",
    "    ('MIRIFULONG', '34', 'LONG', 'MIR_MRS') : UseAfter({\n",
    "        '2000-01-01 00:00:00' : 'jwst_miri_distortion_0032.asdf',\n",
    "    }),\n",
    "    ('MIRIFULONG', '34', 'MEDIUM', 'MIR_MRS') : UseAfter({\n",
    "        '2000-01-01 00:00:00' : 'jwst_miri_distortion_0033.asdf',\n",
    "    }),\n",
    "    ('MIRIFULONG', '34', 'SHORT', 'MIR_MRS') : UseAfter({\n",
    "        '2000-01-01 00:00:00' : 'jwst_miri_distortion_0034.asdf',\n",
    "    }),\n",
    "    ('MIRIFUSHORT', '12', 'LONG', 'MIR_MRS') : UseAfter({\n",
    "        '2000-01-01 00:00:00' : 'jwst_miri_distortion_0029.asdf',\n",
    "    }),\n",
    "    ('MIRIFUSHORT', '12', 'MEDIUM', 'MIR_MRS') : UseAfter({\n",
    "        '2000-01-01 00:00:00' : 'jwst_miri_distortion_0030.asdf',\n",
    "    }),\n",
    "    ('MIRIFUSHORT', '12', 'SHORT', 'MIR_MRS') : UseAfter({\n",
    "        '2000-01-01 00:00:00' : 'jwst_miri_distortion_0031.asdf',\n",
    "    }),\n",
    "    ('MIRIMAGE', 'N/A', 'N/A', 'MIR_IMAGE|MIR_TACQ|MIR_LYOT|MIR_4QPM|MIR_CORONCAL|MIR_LRS-FIXEDSLIT|MIR_LRS-SLITLESS|MIR_TACONFIRM') : UseAfter({\n",
    "        '2000-01-01 00:00:00' : 'jwst_miri_distortion_0028.asdf',\n",
    "    }),\n",
    "})\n",
    "```\n",
    "\n",
    "We have several options to choose from, so let's throw a dart and work with that third match rule in the list.  That's the one that points to the file `jwst_miri_distortion_0032.asdf`.  We could just download it from the website, but why not practice using the CRDS client?"
   ]
  },
  {
   "cell_type": "code",
   "execution_count": null,
   "metadata": {},
   "outputs": [],
   "source": [
    "result = crds.getreferences(\n",
    "    {\n",
    "        \"META.INSTRUMENT.NAME\": \"MIRI\",\n",
    "        \"META.INSTRUMENT.DETECTOR\": \"MIRIFULONG\",\n",
    "        \"META.INSTRUMENT.CHANNEL\": \"34\",\n",
    "        \"META.INSTRUMENT.BAND\": \"LONG\",\n",
    "        \"META.EXPOSURE.TYPE\": \"MIR_MRS\",\n",
    "        \"META.OBSERVATION.DATE\": \"2014-11-20\",\n",
    "        \"META.OBSERVATION.TIME\": \"11:53:02\",\n",
    "    },\n",
    "    reftypes=[\"distortion\"],\n",
    "    observatory=\"jwst\",\n",
    "    context=\"jwst_0641.pmap\",\n",
    ")\n",
    "result"
   ]
  },
  {
   "cell_type": "markdown",
   "metadata": {},
   "source": [
    "Great, now we have the file cached locally.  Let's make a working copy in our notebook directory:"
   ]
  },
  {
   "cell_type": "code",
   "execution_count": null,
   "metadata": {},
   "outputs": [],
   "source": [
    "!cp {result[\"distortion\"]} ./jwst_miri_distortion_new.asdf"
   ]
  },
  {
   "cell_type": "markdown",
   "metadata": {},
   "source": [
    "We're ready to go about modifying the file."
   ]
  },
  {
   "cell_type": "markdown",
   "metadata": {},
   "source": [
    "## Modify the reference file"
   ]
  },
  {
   "cell_type": "markdown",
   "metadata": {},
   "source": [
    "The next step is to modify the file so that CRDS will accept the update -- CRDS rejects files that it determines to be identical to an existing file.  This is an ASDF file, so we'll use the `asdf` library to open it and peek inside:"
   ]
  },
  {
   "cell_type": "code",
   "execution_count": null,
   "metadata": {},
   "outputs": [],
   "source": [
    "import asdf\n",
    "\n",
    "af = asdf.open(\"jwst_miri_distortion_new.asdf\", mode=\"rw\")\n",
    "af.info()"
   ]
  },
  {
   "cell_type": "markdown",
   "metadata": {},
   "source": [
    "Let's modify something in the \"bzero\" property:"
   ]
  },
  {
   "cell_type": "code",
   "execution_count": null,
   "metadata": {},
   "outputs": [],
   "source": [
    "asdf.info(af[\"bzero\"])"
   ]
  },
  {
   "cell_type": "markdown",
   "metadata": {},
   "source": [
    "`beta_zero` seems like a good candidate.  Change that to something we'll recognize later and flush the file to disk:"
   ]
  },
  {
   "cell_type": "code",
   "execution_count": null,
   "metadata": {},
   "outputs": [],
   "source": [
    "af[\"bzero\"][\"beta_zero\"][0] = -3.14159\n",
    "af.update()\n",
    "af.close()"
   ]
  },
  {
   "cell_type": "markdown",
   "metadata": {},
   "source": [
    "Gee whiz, science is easy!"
   ]
  },
  {
   "cell_type": "markdown",
   "metadata": {},
   "source": [
    "## Submit the file to CRDS\n",
    "\n",
    "### Login and navigate to the submission form\n",
    "\n",
    "Now that we have a modified file, we can submit it to CRDS.  In order to submit files we need to be logged in as a user with the appropriate permissions.  Follow this URL to the home page:\n",
    "\n",
    "https://jwst-crds-bit.stsci.edu/\n",
    "\n",
    "and, in the upper-right corner, click the login button:\n",
    "\n",
    "![Login button](images/login.png)\n",
    "\n",
    "The login page will ask you to select an instrument to \"lock\".  This lock grants you exclusive access to that instrument while making your submission.  Note that this means that multiple users cannot complete this notebook simultaneously.\n",
    "\n",
    "Select \"miri\" and press `Continue`.  You will be asked to identify yourself with your STScI SSO credentials, and perhaps also to authorize CRDS to access details of your SSO identity.\n",
    "\n",
    "Once logged in, new links will appear on the home page.  Follow the link titled `Extended Batch Submit References` which should take you to this page:\n",
    "\n",
    "https://jwst-crds-bit.stsci.edu/submission_form/redcat_submit/\n",
    "\n",
    "This is the main file submission form.\n",
    "\n",
    "### Upload the file to the server and fill required form fields\n",
    "\n",
    "Click the green `Add Files` button and select the `jwst_miri_distortion_new.asdf` file that we modified:\n",
    "\n",
    "![Add Files button](images/add_files.png)\n",
    "\n",
    "The next several form fields are for documentation and questions that for an ordinary submission, we'd answer with care.  In this case we'll just fill dummy values in for the required questions so that we can get the form submitted.  In order:\n",
    "\n",
    "- **Type of files (Bias, Dark, etc.)**: testing\n",
    "- **Has HISTORY section in the primary...**: yes\n",
    "- **Has PEDIGREE keyword been checked...**: yes\n",
    "- **Have REFTYPE and AUTHOR been checked...**: yes\n",
    "- **Was the DESCRIP keyword updated...**: yes\n",
    "- **Has the USEAFTER keyword been checked...**: yes\n",
    "- **Files run through the current version...**: testing\n",
    "- **Please indicate which modes...**: testing\n",
    "- **Description of how the files were tested...**: testing\n",
    "\n",
    "The next form field is `Derive From Context:`.  This tells CRDS what context to start with when adding the modified file.  We should set this to `jwst_0641.pmap`:\n",
    "\n",
    "![User specified context](images/user_specified_context.png)\n",
    "\n",
    "There are two more fields that require input:\n",
    "\n",
    "- **Creator**: testing\n",
    "- **Reason for Delivery**: testing\n",
    "\n",
    "Press the blue `Submit References` button and watch the gears turn!"
   ]
  },
  {
   "cell_type": "markdown",
   "metadata": {},
   "source": [
    "## Inspect and confirm the submission\n",
    "\n",
    "After the submission has been processed, we arrive at a `Batch Reference Submit Results` page.  The `Certify Results` section shows validation output for each of the submitted files:\n",
    "\n",
    "![Certify Results](images/certify_results.png)\n",
    "\n",
    "There are two files?  Didn't we only submit one?  Well, anytime a reference file is submitted, an **.rmap** file should also be submitted.  A reference file without a reference in any **.rmap** is an orphan file; it's impossible for CRDS to reach the file by following its rules.  To save file submitters from having to make rule updates themselves, CRDS by default attempts to generate an updated **.rmap** automatically.  It's done a good job in this case, replacing the old reference file with the new one as expected.  The `Differences` section of the page shows exactly what changed:\n",
    "\n",
    "```\n",
    " selector = Match({\n",
    "     ('ANY', 'ANY', 'ANY', 'MIR_DARK') : 'N/A',\n",
    "     ('ANY', 'ANY', 'ANY', 'MIR_FLATIMAGE|MIR_FLAT-IMAGE|MIR_FLATMRS|MIR_FLAT-MRS') : 'N/A',\n",
    "     ('MIRIFULONG', '34', 'LONG', 'MIR_MRS') : UseAfter({\n",
    "-        '2000-01-01 00:00:00' : 'jwst_miri_distortion_0032.asdf',\n",
    "+        '2000-01-01 00:00:00' : 'jwst_miri_distortion_0036.asdf',\n",
    "     }),\n",
    "     ('MIRIFULONG', '34', 'MEDIUM', 'MIR_MRS') : UseAfter({\n",
    "         '2000-01-01 00:00:00' : 'jwst_miri_distortion_0033.asdf',\n",
    "```\n",
    "\n",
    "Note that CRDS has also generated a new filename.  Yours will be different from `jwst_miri_distortion_0036.asdf` but will certainly be a later number than the original `0032`.\n",
    "\n",
    "Since we're happy with this result, we can check the `I confirm that any warnings or differences seen are expected` box at the bottom of the page and press the green `Confirm` button:\n",
    "\n",
    "![Confirm button](images/confirm_submission.png)\n",
    "\n",
    "Confirming takes a few seconds and then we arrive at the final result page:\n",
    "\n",
    "![Final result](images/final_result.png)\n",
    "\n",
    "CRDS has generated a new context that incorporates your updated **.rmap** and reference file.  In the example above, the new context is `jwst_0642.pmap`, but yours will be different (I've already claimed `jwst_0642.pmap` when writing this notebook).  Find your new context identifier on the page and assign it to the `NEW_CONTEXT` variable below so that we can use its value in subsequent cells."
   ]
  },
  {
   "cell_type": "code",
   "execution_count": null,
   "metadata": {},
   "outputs": [],
   "source": [
    "NEW_CONTEXT = \"your-context-here\"\n",
    "assert NEW_CONTEXT != \"your-context-here\", \"Please set NEW_CONTEXT\""
   ]
  },
  {
   "cell_type": "markdown",
   "metadata": {},
   "source": [
    "Finally, wait at least 5 minutes to proceed.  CRDS is careful to prohibit access to files that haven't yet been ingested into the archive.  The dev server files aren't archived, but we still need to wait for a cron job to run that will simulate successful ingestion."
   ]
  },
  {
   "cell_type": "markdown",
   "metadata": {},
   "source": [
    "## See what we have wrought\n",
    "\n",
    "Now let's look at the consequences of what we've done.  The `crds` library has some in-memory caches that prevents it from finding our new files.  We need to run some esoteric code to clear those caches and allow it to pick up the new material.  Nothing to see here:"
   ]
  },
  {
   "cell_type": "code",
   "execution_count": null,
   "metadata": {},
   "outputs": [],
   "source": [
    "from itertools import chain\n",
    "for value in chain(crds.heavy_client.__dict__.values(), crds.api.__dict__.values()):\n",
    "    if isinstance(value, crds.utils.CachedFunction):\n",
    "        value.cache = {}"
   ]
  },
  {
   "cell_type": "markdown",
   "metadata": {},
   "source": [
    "Request the best reference file again:"
   ]
  },
  {
   "cell_type": "code",
   "execution_count": null,
   "metadata": {},
   "outputs": [],
   "source": [
    "crds.getreferences(\n",
    "    {\n",
    "        \"META.INSTRUMENT.NAME\": \"MIRI\",\n",
    "        \"META.INSTRUMENT.DETECTOR\": \"MIRIFULONG\",\n",
    "        \"META.INSTRUMENT.CHANNEL\": \"34\",\n",
    "        \"META.INSTRUMENT.BAND\": \"LONG\",\n",
    "        \"META.EXPOSURE.TYPE\": \"MIR_MRS\",\n",
    "        \"META.OBSERVATION.DATE\": \"2014-11-20\",\n",
    "        \"META.OBSERVATION.TIME\": \"11:53:02\",\n",
    "    },\n",
    "    reftypes=[\"distortion\"],\n",
    "    observatory=\"jwst\",\n",
    "    context=\"jwst_0641.pmap\",\n",
    ")"
   ]
  },
  {
   "cell_type": "markdown",
   "metadata": {},
   "source": [
    "Er, wait, that's the same file.  As well it should be!  I just wanted to emphasize the immutability of contexts.  Even though we've delivered a new reference file, `crds.getreferences` returns the original file _because we haven't changed the context parameter_.  This magnificent feature is what allows a user to work with a frozen set of reference files (and rules) even while file submissions are proceeding in the background.  When we request our new context, we see the updated file:"
   ]
  },
  {
   "cell_type": "code",
   "execution_count": null,
   "metadata": {},
   "outputs": [],
   "source": [
    "result = crds.getreferences(\n",
    "    {\n",
    "        \"META.INSTRUMENT.NAME\": \"MIRI\",\n",
    "        \"META.INSTRUMENT.DETECTOR\": \"MIRIFULONG\",\n",
    "        \"META.INSTRUMENT.CHANNEL\": \"34\",\n",
    "        \"META.INSTRUMENT.BAND\": \"LONG\",\n",
    "        \"META.EXPOSURE.TYPE\": \"MIR_MRS\",\n",
    "        \"META.OBSERVATION.DATE\": \"2014-11-20\",\n",
    "        \"META.OBSERVATION.TIME\": \"11:53:02\",\n",
    "    },\n",
    "    reftypes=[\"distortion\"],\n",
    "    observatory=\"jwst\",\n",
    "    context=NEW_CONTEXT,\n",
    ")\n",
    "result"
   ]
  },
  {
   "cell_type": "markdown",
   "metadata": {},
   "source": [
    "There it is!  Let's open the file and make sure it contains our modified `bzero` value:"
   ]
  },
  {
   "cell_type": "code",
   "execution_count": null,
   "metadata": {},
   "outputs": [],
   "source": [
    "af = asdf.open(result[\"distortion\"])\n",
    "asdf.info(af[\"bzero\"])"
   ]
  },
  {
   "cell_type": "markdown",
   "metadata": {},
   "source": [
    "There's our old friend, negative-pi.  Hooray!"
   ]
  },
  {
   "cell_type": "code",
   "execution_count": null,
   "metadata": {},
   "outputs": [],
   "source": [
    "# Cleanup\n",
    "af.close()"
   ]
  },
  {
   "cell_type": "markdown",
   "metadata": {},
   "source": [
    "## Further reading\n",
    "\n",
    "The CRDS User Manual includes [detailed documentation](https://jwst-crds.stsci.edu/static/users_guide/file_submissions.html) on use of the web submission form."
   ]
  }
 ],
 "metadata": {
  "kernelspec": {
   "display_name": "Python 3",
   "language": "python",
   "name": "python3"
  },
  "language_info": {
   "codemirror_mode": {
    "name": "ipython",
    "version": 3
   },
   "file_extension": ".py",
   "mimetype": "text/x-python",
   "name": "python",
   "nbconvert_exporter": "python",
   "pygments_lexer": "ipython3",
   "version": "3.7.9"
  }
 },
 "nbformat": 4,
 "nbformat_minor": 4
}
