{
 "cells": [
  {
   "cell_type": "markdown",
   "metadata": {},
   "source": [
    "# Running Pipelines using MIRI image data from MAST"
   ]
  },
  {
   "cell_type": "markdown",
   "metadata": {},
   "source": [
    "## Table of Contents:\n",
    "> * [Detector1 Pipeline](#detector1_pipeline)\n",
    "> * [Resources and Documentation](#resources)\n",
    "> * [Download Data from MAST](#download_from_mast)\n",
    "> * [Run Pipeline with Default Configuration](#pipeline_with_defaults)\n",
    "> * [About Configuration Files](#pipeline_configs)\n",
    "> * [Run Pipeline with Configuration Files](#pipeline_with_cfgs)\n",
    "> * [Run Pipeline with Parameters Set Programmatically](#pipeline_no_configs)\n",
    "> * [Run Individual Steps with Configuration Files](#steps_with_config_files)\n",
    "> * [Run Level 1, 2, 3, Pipelines in Succession](#pipelines_level_123)\n",
    "\n",
    "***\n",
    "<a id=detector1_pipeline></a>\n",
    "##  Detector1 Pipeline\n",
    "\n",
    "Stage 1 consists of detector-level corrections that are performed on a group-by-group basis, followed by ramp fitting. \n",
    "\n",
    "More information can be found at: https://jwst-pipeline.readthedocs.io/en/latest/jwst/pipeline/calwebb_detector1.html#calwebb-detector1\n",
    "\n",
    "> **Inputs**: The inputs to stage 1 processing will usually be level-1b raw files.\n",
    "\n",
    "> **Outputs**: The output of stage 1 processing is a countrate image per exposure, or per integration for some modes.\n",
    "    \n",
    "### Level 1 pipeline:\n",
    "\n",
    "**Calwebb Detector1**   (jwst.pipeline, calwebb_detector1, Detector1Pipeline)   (calwebb_detector1.cfg)\n",
    "\n",
    "### Level 1 pipeline steps:\n",
    "\n",
    "**Group Scale** (jwst.group_scale, group_scale_step, GroupScaleStep)   (group_scale.cfg)\n",
    "\n",
    "**DQInit** (jwst.dq_init, dq_init_step, DQInitStep)    (dq_init.cfg)\n",
    "\n",
    "**Saturation** (jwst.saturation, saturation_step, SaturationStep)    (saturation.cfg)\n",
    "\n",
    "**IPC**   (jwst.ipc,  ipc_step,  IPCStep)    (ipc.cfg)\n",
    "\n",
    "**Super Bias**   (jwst.superbias,  superbias_step,  SuperBiasStep)    (superbias.cfg)\n",
    "\n",
    "**Refpix** (jwst.refpix,  refpix_step,  RefpixStep)    (refpix.cfg)\n",
    "\n",
    "**RSCD**   (jwst.rscd,  rscd_step,  RSCD_Step)   (rscd.cfd)\n",
    "\n",
    "**First Frame**  (jwst.firstframe, firstframe_step,  FirstFrameStep)   (firstframe.cfg)\n",
    "\n",
    "**Last Frame**  (jwst.lastframe,  lastframe_step, LastFrameStep)   (lastframe.cfg)\n",
    "\n",
    "**Linearity**  (jwst.linearity,  linearity_step, LinearityStep)   (linearity.cfg)\n",
    "\n",
    "**Dark Current**  (jwst.dark_current,  dark_current_step,  DarkCurrentStep)   (dark_current.cfg)\n",
    "\n",
    "**Peristence**  (jwst.persistence,  persistence_step, PersistenceStep)   (persistence.cfg)\n",
    "\n",
    "**Jump**  (jwst.jump, jump_step,  JumpStep)  (jump_step.cfg)\n",
    "\n",
    "**RampFit**   (jwst.ramp_fit,  ramp_fit_step,  RampFitStep)   (ramp_fit_step.cfg)\n",
    "\n",
    "**Gain Scale**  (jwst.gain_scale,  gain_scale_step,  GainScaleStep)   (gain_scale_step.cfg)\n",
    "\n",
    "(for more information on individual steps see: https://jwst-pipeline.readthedocs.io/en/latest/jwst/package_index.html)\n",
    "\n",
    "***\n",
    "<a id='resources'></a>\n",
    "## Resources and Documentation\n",
    "\n",
    "There are several different places to find information on installing and running the pipeline. This notebook will give a shortened description of the steps pulled from the detailed pipeline information pages, but to find more in-depth instructions use the links below. \n",
    "\n",
    ">1. JDox: https://jwst-docs.stsci.edu/display/JDAT/JWST+Data+Reduction+Pipeline\n",
    ">2. Installation page: http://astroconda.readthedocs.io/en/latest/releases.html#pipeline-install\n",
    ">3. Detailed pipeline information: https://jwst-pipeline.readthedocs.io/en/latest/jwst/introduction.html\n",
    ">4. Help Desk (click on Pipeline Support): https://stsci.service-now.com/jwst?id=sc_category\n",
    ">5. GitHub README installation instructions: https://github.com/spacetelescope/jwst/blob/master/README.md\n",
    "\n",
    "\n",
    "If this is your first time trying to run the pipeline from a jupyter notebook, you need to install the jupyter notebook in your pipeline environment:\n",
    ">1. In a new terminal, change the directory to your working directory, terminal command: cd [your working directory]\n",
    ">2. Terminal command: source activate jwst_dev\n",
    "(or whatever your environment name for the pipeline is)\n",
    ">3. Terminal command: conda install jupyter\n",
    ">4. Terminal command: jupyter notebook\n",
    "\n",
    "**NOTE:** During your first run CRDS may download and cache reference files in $HOME/crds_cache.  On subsequent runs cached files will be used."
   ]
  },
  {
   "cell_type": "markdown",
   "metadata": {},
   "source": [
    "## Imports"
   ]
  },
  {
   "cell_type": "code",
   "execution_count": 1,
   "metadata": {},
   "outputs": [],
   "source": [
    "import os\n",
    "\n",
    "from astropy.io import fits\n",
    "from urllib.request import urlretrieve\n",
    "import matplotlib.pyplot as plt\n",
    "%matplotlib inline\n",
    "\n",
    "from jwst.pipeline import Detector1Pipeline\n",
    "from jwst.pipeline import Image2Pipeline\n",
    "from jwst.pipeline import Image3Pipeline\n",
    "from jwst import datamodels\n",
    "from jwst.pipeline.collect_pipeline_cfgs import collect_pipeline_cfgs"
   ]
  },
  {
   "cell_type": "markdown",
   "metadata": {},
   "source": [
    "### Quick & Dirty Plots"
   ]
  },
  {
   "cell_type": "code",
   "execution_count": 2,
   "metadata": {},
   "outputs": [],
   "source": [
    "def plot_image(obj, index=None):\n",
    "    if isinstance(obj, str):\n",
    "        data = fits.getdata(obj)\n",
    "    else:\n",
    "        data = obj.data\n",
    "    image = data[index] if index is not None else data\n",
    "    fig = plt.figure(figsize=(12,12))\n",
    "    ax = fig.add_subplot(1, 1, 1)\n",
    "    im = ax.imshow(image, origin='lower') # , norm=norm)\n",
    "    fig.colorbar(im)\n",
    "    plt.show()"
   ]
  },
  {
   "cell_type": "markdown",
   "metadata": {},
   "source": [
    "***\n",
    "<a id=\"download_from_mast\"></a>\n",
    "## Download Data from MAST\n",
    "\n",
    "Test data can be downloaded from MAST using Astroquery"
   ]
  },
  {
   "cell_type": "code",
   "execution_count": 3,
   "metadata": {},
   "outputs": [],
   "source": [
    "MAST_URI_PREFIX = \"https://pwjwdmsauiweb.stsci.edu/portal/Download/file?uri=mast:JWST/product/\" \n",
    "\n",
    "def download_mast(data_name,  local_name):\n",
    "    return urlretrieve(MAST_URI_PREFIX + data_name,  local_name)"
   ]
  },
  {
   "cell_type": "code",
   "execution_count": 4,
   "metadata": {},
   "outputs": [
    {
     "data": {
      "text/plain": [
       "('test.fits', <http.client.HTTPMessage at 0x128061590>)"
      ]
     },
     "execution_count": 4,
     "metadata": {},
     "output_type": "execute_result"
    }
   ],
   "source": [
    "download_mast(\"jw00608002001_02101_00001_mirimage_uncal.fits\", \"test.fits\")"
   ]
  },
  {
   "cell_type": "markdown",
   "metadata": {},
   "source": [
    "***\n",
    "<a id=\"pipeline_with_defaults\"></a>\n",
    "## Run Pipeline With Default Configuration\n",
    "\n",
    "Pipelines can be run by using the .call() method on the Pipeline class and passing in a data file.   Running a pipeline generally executes each successive step on the output from the previous step.  The end result is an output data model."
   ]
  },
  {
   "cell_type": "code",
   "execution_count": 5,
   "metadata": {},
   "outputs": [
    {
     "name": "stderr",
     "output_type": "stream",
     "text": [
      "2019-09-11 08:37:31,698 - stpipe.Detector1Pipeline - INFO - Detector1Pipeline instance created.\n",
      "2019-09-11 08:37:31,700 - stpipe.Detector1Pipeline.group_scale - INFO - GroupScaleStep instance created.\n",
      "2019-09-11 08:37:31,702 - stpipe.Detector1Pipeline.dq_init - INFO - DQInitStep instance created.\n",
      "2019-09-11 08:37:31,704 - stpipe.Detector1Pipeline.saturation - INFO - SaturationStep instance created.\n",
      "2019-09-11 08:37:31,706 - stpipe.Detector1Pipeline.ipc - INFO - IPCStep instance created.\n",
      "2019-09-11 08:37:31,708 - stpipe.Detector1Pipeline.superbias - INFO - SuperBiasStep instance created.\n",
      "2019-09-11 08:37:31,711 - stpipe.Detector1Pipeline.refpix - INFO - RefPixStep instance created.\n",
      "2019-09-11 08:37:31,714 - stpipe.Detector1Pipeline.rscd - INFO - RSCD_Step instance created.\n",
      "2019-09-11 08:37:31,715 - stpipe.Detector1Pipeline.firstframe - INFO - FirstFrameStep instance created.\n",
      "2019-09-11 08:37:31,717 - stpipe.Detector1Pipeline.lastframe - INFO - LastFrameStep instance created.\n",
      "2019-09-11 08:37:31,718 - stpipe.Detector1Pipeline.linearity - INFO - LinearityStep instance created.\n",
      "2019-09-11 08:37:31,721 - stpipe.Detector1Pipeline.dark_current - INFO - DarkCurrentStep instance created.\n",
      "2019-09-11 08:37:31,724 - stpipe.Detector1Pipeline.persistence - INFO - PersistenceStep instance created.\n",
      "2019-09-11 08:37:31,727 - stpipe.Detector1Pipeline.jump - INFO - JumpStep instance created.\n",
      "2019-09-11 08:37:31,729 - stpipe.Detector1Pipeline.ramp_fit - INFO - RampFitStep instance created.\n",
      "2019-09-11 08:37:31,731 - stpipe.Detector1Pipeline.gain_scale - INFO - GainScaleStep instance created.\n",
      "2019-09-11 08:37:31,788 - stpipe.Detector1Pipeline - INFO - Step Detector1Pipeline running with args ('test.fits',).\n",
      "2019-09-11 08:37:32,611 - stpipe.Detector1Pipeline - WARNING - /Users/jmiller/miniconda3/envs/crds-env/lib/python3.7/site-packages/jwst/datamodels/util.py:165: NoTypeWarning: model_type not found. Opening test.fits as a RampModel\n",
      "  warnings.warn(errmsg, NoTypeWarning)\n",
      "\n",
      "2019-09-11 08:37:32,613 - stpipe.Detector1Pipeline - INFO - Prefetching reference files for dataset: 'test.fits' reftypes = ['dark', 'gain', 'ipc', 'linearity', 'mask', 'persat', 'readnoise', 'refpix', 'rscd', 'saturation', 'superbias', 'trapdensity', 'trappars']\n",
      "2019-09-11 08:37:33,685 - stpipe.Detector1Pipeline - INFO - Prefetch for DARK reference file is '/grp/crds/cache/references/jwst/jwst_miri_dark_0048.fits'.\n",
      "2019-09-11 08:37:33,689 - stpipe.Detector1Pipeline - INFO - Prefetch for GAIN reference file is '/grp/crds/cache/references/jwst/jwst_miri_gain_0008.fits'.\n",
      "2019-09-11 08:37:33,692 - stpipe.Detector1Pipeline - INFO - Prefetch for IPC reference file is '/grp/crds/cache/references/jwst/jwst_miri_ipc_0009.fits'.\n",
      "2019-09-11 08:37:33,696 - stpipe.Detector1Pipeline - INFO - Prefetch for LINEARITY reference file is '/grp/crds/cache/references/jwst/jwst_miri_linearity_0024.fits'.\n",
      "2019-09-11 08:37:33,699 - stpipe.Detector1Pipeline - INFO - Prefetch for MASK reference file is '/grp/crds/cache/references/jwst/jwst_miri_mask_0023.fits'.\n",
      "2019-09-11 08:37:33,703 - stpipe.Detector1Pipeline - INFO - Prefetch for PERSAT reference file is 'N/A'.\n",
      "2019-09-11 08:37:33,704 - stpipe.Detector1Pipeline - INFO - Prefetch for READNOISE reference file is '/grp/crds/cache/references/jwst/jwst_miri_readnoise_0039.fits'.\n",
      "2019-09-11 08:37:33,708 - stpipe.Detector1Pipeline - INFO - Prefetch for REFPIX reference file is 'N/A'.\n",
      "2019-09-11 08:37:33,709 - stpipe.Detector1Pipeline - INFO - Prefetch for RSCD reference file is '/grp/crds/cache/references/jwst/jwst_miri_rscd_0009.fits'.\n",
      "2019-09-11 08:37:33,714 - stpipe.Detector1Pipeline - INFO - Prefetch for SATURATION reference file is '/grp/crds/cache/references/jwst/jwst_miri_saturation_0022.fits'.\n",
      "2019-09-11 08:37:33,718 - stpipe.Detector1Pipeline - INFO - Prefetch for SUPERBIAS reference file is 'N/A'.\n",
      "2019-09-11 08:37:33,718 - stpipe.Detector1Pipeline - INFO - Prefetch for TRAPDENSITY reference file is 'N/A'.\n",
      "2019-09-11 08:37:33,719 - stpipe.Detector1Pipeline - INFO - Prefetch for TRAPPARS reference file is 'N/A'.\n",
      "2019-09-11 08:37:33,721 - stpipe.Detector1Pipeline - INFO - Starting calwebb_detector1 ...\n",
      "2019-09-11 08:37:33,935 - stpipe.Detector1Pipeline.group_scale - INFO - Step group_scale running with args (<RampModel(6, 10, 416, 72) from test.fits>,).\n",
      "2019-09-11 08:37:33,946 - stpipe.Detector1Pipeline.group_scale - INFO - NFRAMES and FRMDIVSR are equal; correction not needed\n",
      "2019-09-11 08:37:33,946 - stpipe.Detector1Pipeline.group_scale - INFO - Step will be skipped\n",
      "2019-09-11 08:37:33,948 - stpipe.Detector1Pipeline.group_scale - INFO - Step group_scale done\n",
      "2019-09-11 08:37:34,017 - stpipe.Detector1Pipeline.dq_init - INFO - Step dq_init running with args (<RampModel(6, 10, 416, 72) from test.fits>,).\n",
      "2019-09-11 08:37:34,033 - stpipe.Detector1Pipeline.dq_init - INFO - Using MASK reference file /grp/crds/cache/references/jwst/jwst_miri_mask_0023.fits\n",
      "2019-09-11 08:37:34,496 - stpipe.Detector1Pipeline.dq_init - INFO - Extracting mask subarray to match science data\n",
      "2019-09-11 08:37:34,508 - stpipe.Detector1Pipeline.dq_init - INFO - Step dq_init done\n",
      "2019-09-11 08:37:34,583 - stpipe.Detector1Pipeline.saturation - INFO - Step saturation running with args (<RampModel(6, 10, 416, 72) from test.fits>,).\n",
      "2019-09-11 08:37:34,603 - stpipe.Detector1Pipeline.saturation - INFO - Using SATURATION reference file /grp/crds/cache/references/jwst/jwst_miri_saturation_0022.fits\n",
      "2019-09-11 08:37:34,880 - stpipe.Detector1Pipeline.saturation - INFO - Extracting reference file subarray to match science data\n",
      "2019-09-11 08:37:35,018 - stpipe.Detector1Pipeline.saturation - INFO - Step saturation done\n",
      "2019-09-11 08:37:35,072 - stpipe.Detector1Pipeline.ipc - INFO - Step ipc running with args (<RampModel(6, 10, 416, 72) from test.fits>,).\n",
      "2019-09-11 08:37:35,088 - stpipe.Detector1Pipeline.ipc - INFO - Using IPC reference file /grp/crds/cache/references/jwst/jwst_miri_ipc_0009.fits\n",
      "2019-09-11 08:37:35,188 - stpipe.Detector1Pipeline.ipc - INFO - Step ipc done\n",
      "2019-09-11 08:37:35,257 - stpipe.Detector1Pipeline.firstframe - INFO - Step firstframe running with args (<RampModel(6, 10, 416, 72) from test.fits>,).\n",
      "2019-09-11 08:37:35,304 - stpipe.Detector1Pipeline.firstframe - INFO - Step firstframe done\n",
      "2019-09-11 08:37:35,363 - stpipe.Detector1Pipeline.lastframe - INFO - Step lastframe running with args (<RampModel(6, 10, 416, 72) from test.fits>,).\n",
      "2019-09-11 08:37:35,420 - stpipe.Detector1Pipeline.lastframe - INFO - Step lastframe done\n",
      "2019-09-11 08:37:35,496 - stpipe.Detector1Pipeline.linearity - INFO - Step linearity running with args (<RampModel(6, 10, 416, 72) from test.fits>,).\n",
      "2019-09-11 08:37:35,521 - stpipe.Detector1Pipeline.linearity - INFO - Using Linearity reference file /grp/crds/cache/references/jwst/jwst_miri_linearity_0024.fits\n",
      "2019-09-11 08:37:36,043 - stpipe.Detector1Pipeline.linearity - INFO - Extracting linearity subarray to match science data\n",
      "2019-09-11 08:37:36,592 - stpipe.Detector1Pipeline.linearity - INFO - Step linearity done\n",
      "2019-09-11 08:37:36,657 - stpipe.Detector1Pipeline.rscd - INFO - Step rscd running with args (<RampModel(6, 10, 416, 72) from test.fits>,).\n",
      "2019-09-11 08:37:36,673 - stpipe.Detector1Pipeline.rscd - INFO - Using RSCD reference file /grp/crds/cache/references/jwst/jwst_miri_rscd_0009.fits\n",
      "2019-09-11 08:37:36,752 - stpipe.Detector1Pipeline.rscd - INFO -  Working on integration 2\n",
      "2019-09-11 08:37:36,788 - stpipe.Detector1Pipeline.rscd - INFO -  Working on integration 3\n",
      "2019-09-11 08:37:36,801 - stpipe.Detector1Pipeline.rscd - INFO -  Working on integration 4\n",
      "2019-09-11 08:37:36,824 - stpipe.Detector1Pipeline.rscd - INFO -  Working on integration 5\n",
      "2019-09-11 08:37:36,847 - stpipe.Detector1Pipeline.rscd - INFO -  Working on integration 6\n",
      "2019-09-11 08:37:36,873 - stpipe.Detector1Pipeline.rscd - INFO - Step rscd done\n",
      "2019-09-11 08:37:36,939 - stpipe.Detector1Pipeline.dark_current - INFO - Step dark_current running with args (<RampModel(6, 10, 416, 72) from test.fits>,).\n",
      "2019-09-11 08:37:36,952 - stpipe.Detector1Pipeline.dark_current - INFO - Using DARK reference file /grp/crds/cache/references/jwst/jwst_miri_dark_0048.fits\n",
      "2019-09-11 08:37:37,183 - stpipe.Detector1Pipeline.dark_current - INFO - Science data nints=6, ngroups=10, nframes=1, groupgap=0\n"
     ]
    },
    {
     "name": "stderr",
     "output_type": "stream",
     "text": [
      "2019-09-11 08:37:37,184 - stpipe.Detector1Pipeline.dark_current - INFO - Dark data nints=2, ngroups=1000, nframes=1, groupgap=0\n",
      "2019-09-11 08:37:48,385 - stpipe.Detector1Pipeline.dark_current - INFO - Step dark_current done\n",
      "2019-09-11 08:37:48,468 - stpipe.Detector1Pipeline.refpix - INFO - Step refpix running with args (<RampModel(6, 10, 416, 72) from test.fits>,).\n",
      "2019-09-11 08:37:48,480 - stpipe.Detector1Pipeline.refpix - INFO - use_side_ref_pixels = True\n",
      "2019-09-11 08:37:48,481 - stpipe.Detector1Pipeline.refpix - INFO - odd_even_columns = True\n",
      "2019-09-11 08:37:48,481 - stpipe.Detector1Pipeline.refpix - INFO - side_smoothing_length = 11\n",
      "2019-09-11 08:37:48,482 - stpipe.Detector1Pipeline.refpix - INFO - side_gain = 1.000000\n",
      "2019-09-11 08:37:48,483 - stpipe.Detector1Pipeline.refpix - INFO - odd_even_rows = True\n",
      "2019-09-11 08:37:48,527 - stpipe.Detector1Pipeline.refpix - WARNING - Refpix correction skipped for MIRI subarrays\n",
      "2019-09-11 08:37:48,529 - stpipe.Detector1Pipeline.refpix - INFO - Step refpix done\n",
      "2019-09-11 08:37:48,594 - stpipe.Detector1Pipeline.jump - INFO - Step jump running with args (<RampModel(6, 10, 416, 72) from test.fits>,).\n",
      "2019-09-11 08:37:48,623 - stpipe.Detector1Pipeline.jump - INFO - CR rejection threshold = 4 sigma\n",
      "2019-09-11 08:37:48,629 - stpipe.Detector1Pipeline.jump - INFO - Using GAIN reference file: /grp/crds/cache/references/jwst/jwst_miri_gain_0008.fits\n",
      "2019-09-11 08:37:48,838 - stpipe.Detector1Pipeline.jump - INFO - Using READNOISE reference file: /grp/crds/cache/references/jwst/jwst_miri_readnoise_0039.fits\n",
      "2019-09-11 08:37:48,906 - stpipe.Detector1Pipeline.jump - INFO - Extracting gain subarray to match science data\n",
      "2019-09-11 08:37:49,010 - stpipe.Detector1Pipeline.jump - INFO - Executing two-point difference method\n",
      "2019-09-11 08:37:49,053 - stpipe.Detector1Pipeline.jump - INFO -  working on integration 1\n",
      "2019-09-11 08:37:49,070 - stpipe.Detector1Pipeline.jump - INFO - From highest outlier Two point found 24230 pixels with at least one CR\n",
      "2019-09-11 08:37:51,420 - stpipe.Detector1Pipeline.jump - INFO -  working on integration 2\n",
      "2019-09-11 08:37:51,433 - stpipe.Detector1Pipeline.jump - INFO - From highest outlier Two point found 19928 pixels with at least one CR\n",
      "2019-09-11 08:37:53,692 - stpipe.Detector1Pipeline.jump - INFO -  working on integration 3\n",
      "2019-09-11 08:37:53,705 - stpipe.Detector1Pipeline.jump - INFO - From highest outlier Two point found 22062 pixels with at least one CR\n",
      "2019-09-11 08:37:55,923 - stpipe.Detector1Pipeline.jump - INFO -  working on integration 4\n",
      "2019-09-11 08:37:55,934 - stpipe.Detector1Pipeline.jump - INFO - From highest outlier Two point found 24269 pixels with at least one CR\n",
      "2019-09-11 08:37:58,182 - stpipe.Detector1Pipeline.jump - INFO -  working on integration 5\n",
      "2019-09-11 08:37:58,194 - stpipe.Detector1Pipeline.jump - INFO - From highest outlier Two point found 22088 pixels with at least one CR\n",
      "2019-09-11 08:38:00,520 - stpipe.Detector1Pipeline.jump - INFO -  working on integration 6\n",
      "2019-09-11 08:38:00,531 - stpipe.Detector1Pipeline.jump - INFO - From highest outlier Two point found 19956 pixels with at least one CR\n",
      "2019-09-11 08:38:02,699 - stpipe.Detector1Pipeline.jump - INFO - The execution time in seconds: 14.076728\n",
      "2019-09-11 08:38:02,703 - stpipe.Detector1Pipeline.jump - INFO - Step jump done\n",
      "2019-09-11 08:38:02,759 - stpipe.Detector1Pipeline.ramp_fit - INFO - Step ramp_fit running with args (<RampModel(6, 10, 416, 72) from test.fits>,).\n",
      "2019-09-11 08:38:02,780 - stpipe.Detector1Pipeline.ramp_fit - INFO - Using READNOISE reference file: /grp/crds/cache/references/jwst/jwst_miri_readnoise_0039.fits\n",
      "2019-09-11 08:38:02,812 - stpipe.Detector1Pipeline.ramp_fit - INFO - Using GAIN reference file: /grp/crds/cache/references/jwst/jwst_miri_gain_0008.fits\n",
      "2019-09-11 08:38:02,834 - stpipe.Detector1Pipeline.ramp_fit - INFO - Using algorithm = ols\n",
      "2019-09-11 08:38:02,835 - stpipe.Detector1Pipeline.ramp_fit - INFO - Using weighting = optimal\n",
      "2019-09-11 08:38:02,895 - stpipe.Detector1Pipeline.ramp_fit - INFO - Number of leading groups that are flagged as DO_NOT_USE: 1\n",
      "2019-09-11 08:38:02,898 - stpipe.Detector1Pipeline.ramp_fit - INFO - MIRI dataset has all pixels in the final group flagged as DO_NOT_USE.\n",
      "2019-09-11 08:38:02,900 - stpipe.Detector1Pipeline.ramp_fit - INFO - Effective integration time per group: 0.15904\n",
      "2019-09-11 08:38:02,908 - stpipe.Detector1Pipeline.ramp_fit - INFO - Extracting gain subarray to match science data\n",
      "2019-09-11 08:38:13,478 - stpipe.Detector1Pipeline.ramp_fit - INFO - Number of groups per integration: 10\n",
      "2019-09-11 08:38:13,479 - stpipe.Detector1Pipeline.ramp_fit - INFO - Number of integrations: 6\n",
      "2019-09-11 08:38:13,515 - stpipe.Detector1Pipeline.ramp_fit - INFO - Step ramp_fit done\n",
      "2019-09-11 08:38:13,571 - stpipe.Detector1Pipeline.gain_scale - INFO - Step gain_scale running with args (<ImageModel(416, 72) from test.fits>,).\n",
      "2019-09-11 08:38:13,606 - stpipe.Detector1Pipeline.gain_scale - INFO - GAINFACT not found in gain reference file\n",
      "2019-09-11 08:38:13,606 - stpipe.Detector1Pipeline.gain_scale - INFO - Step will be skipped\n",
      "2019-09-11 08:38:13,609 - stpipe.Detector1Pipeline.gain_scale - INFO - Step gain_scale done\n",
      "2019-09-11 08:38:13,664 - stpipe.Detector1Pipeline.gain_scale - INFO - Step gain_scale running with args (<CubeModel(6, 416, 72) from test.fits>,).\n",
      "2019-09-11 08:38:13,702 - stpipe.Detector1Pipeline.gain_scale - INFO - GAINFACT not found in gain reference file\n",
      "2019-09-11 08:38:13,703 - stpipe.Detector1Pipeline.gain_scale - INFO - Step will be skipped\n",
      "2019-09-11 08:38:13,706 - stpipe.Detector1Pipeline.gain_scale - INFO - Step gain_scale done\n",
      "2019-09-11 08:38:13,707 - stpipe.Detector1Pipeline - INFO - ... ending calwebb_detector1\n",
      "2019-09-11 08:38:13,708 - stpipe.Detector1Pipeline - INFO - Step Detector1Pipeline done\n"
     ]
    },
    {
     "data": {
      "text/plain": [
       "<ImageModel(416, 72) from test.fits>"
      ]
     },
     "execution_count": 5,
     "metadata": {},
     "output_type": "execute_result"
    }
   ],
   "source": [
    "output_model = Detector1Pipeline.call(\"test.fits\")\n",
    "output_model"
   ]
  },
  {
   "cell_type": "markdown",
   "metadata": {},
   "source": [
    "***\n",
    "<a id='pipeline_configs'></a>\n",
    "## About Configuration Files\n",
    "\n",
    "Configuration files are optional inputs for each step of the pipeline, as well as for the pipeline itself. These files list step-specific parameters, and can also be used to control which steps are run as part of the pipeline.\n",
    "\n",
    "You can get the full compliment of configuration files using the collect_pipeline_cfgs convenience function from the command line:\n",
    "\n",
    "    $ collect_pipeline_cfgs ./cfgs\n",
    "    \n",
    "This will store every .cfg file for all JWST instruments in a directory named \"cfgs\".   Note that default parameters in the config files are not necessarily optimized for any particular instrument.\n",
    "    \n",
    "A Python equivalent can also be imported and called from your notebook,  see below.\n",
    "\n",
    "Each of these configuration files can be customized to control pipeline behavior. For example, the configuration file for the Level 1 detector pipeline is called calwebb_detector1.cfg and contains a list (not necessarily in order) of the steps run as part of the Level 1 pipeline.\n",
    "\n",
    "```\n",
    "name = \"Detector1Pipeline\"\n",
    "class = \"jwst.pipeline.Detector1Pipeline\"\n",
    "save_calibrated_ramp = False\n",
    "\n",
    "    [steps]\n",
    "      [[group_scale]]\n",
    "        config_file = group_scale.cfg\n",
    "      [[dq_init]]\n",
    "        config_file = dq_init.cfg\n",
    "      [[saturation]]\n",
    "        config_file = saturation.cfg\n",
    "      [[ipc]]\n",
    "        skip = True\n",
    "      [[superbias]]\n",
    "        config_file = superbias.cfg\n",
    "      [[refpix]]\n",
    "        config_file = refpix.cfg\n",
    "      [[rscd]]\n",
    "        config_file = rscd.cfg\n",
    "      [[firstframe]]\n",
    "        config_file = firstframe.cfg\n",
    "      [[lastframe]]\n",
    "        config_file = lastframe.cfg\n",
    "      [[linearity]]\n",
    "        config_file = linearity.cfg\n",
    "      [[dark_current]]\n",
    "        config_file = dark_current.cfg\n",
    "      [[persistence]]\n",
    "        config_file = persistence.cfg\n",
    "      [[jump]]\n",
    "        config_file = jump.cfg\n",
    "      [[ramp_fit]]\n",
    "        config_file = ramp_fit.cfg\n",
    "      [[gain_scale]]\n",
    "        config_file = gain_scale.cfg\n",
    "```\n",
    "\n",
    "In this example, the ipc step will be skipped (skip = True).\n",
    "\n",
    "Note that calwebb_detector1.cfg lists a configuration file for each pipeline step. You can customize a particular pipeline step by editing the parameters in its configuration file. \n"
   ]
  },
  {
   "cell_type": "markdown",
   "metadata": {},
   "source": [
    "### Config File Setup\n",
    "\n",
    "To obtain all config files in a \"cfgs\" directory execute the following cell."
   ]
  },
  {
   "cell_type": "code",
   "execution_count": 6,
   "metadata": {},
   "outputs": [
    {
     "name": "stdout",
     "output_type": "stream",
     "text": [
      "align_refs.cfg               guider_cds.cfg\r\n",
      "ami_analyze.cfg              hlsp.cfg\r\n",
      "ami_average.cfg              imprint.cfg\r\n",
      "ami_normalize.cfg            ipc.cfg\r\n",
      "assign_wcs.cfg               jump.cfg\r\n",
      "background.cfg               klip.cfg\r\n",
      "calwebb_ami3.cfg             lastframe.cfg\r\n",
      "calwebb_coron3.cfg           linear_pipeline.cfg\r\n",
      "calwebb_dark.cfg             linearity.cfg\r\n",
      "calwebb_detector1.cfg        master_background.cfg\r\n",
      "calwebb_guider.cfg           mrs_imatch.cfg\r\n",
      "calwebb_image2.cfg           outlier_detection.cfg\r\n",
      "calwebb_image3.cfg           outlier_detection_scaled.cfg\r\n",
      "calwebb_nrslamp-spec2.cfg    outlier_detection_stack.cfg\r\n",
      "calwebb_spec2.cfg            outlier_detection_tso.cfg\r\n",
      "calwebb_spec3.cfg            pathloss.cfg\r\n",
      "calwebb_tso-image2.cfg       persistence.cfg\r\n",
      "calwebb_tso-spec2.cfg        photom.cfg\r\n",
      "calwebb_tso1.cfg             ramp_fit.cfg\r\n",
      "calwebb_tso3.cfg             refpix.cfg\r\n",
      "calwebb_wfs-image2.cfg       resample.cfg\r\n",
      "calwebb_wfs-image3.cfg       resample_spec.cfg\r\n",
      "combine_1d.cfg               reset.cfg\r\n",
      "cube_build.cfg               rscd.cfg\r\n",
      "dark_current.cfg             saturation.cfg\r\n",
      "dq_init.cfg                  skymatch.cfg\r\n",
      "emission.cfg                 source_catalog.cfg\r\n",
      "engdblog.cfg                 srctype.cfg\r\n",
      "extract_1d.cfg               stack_refs.cfg\r\n",
      "extract_2d.cfg               straylight.cfg\r\n",
      "firstframe.cfg               subtract_images.cfg\r\n",
      "flat_field.cfg               superbias.cfg\r\n",
      "fringe.cfg                   tweakreg.cfg\r\n",
      "gain_scale.cfg               wfs_combine.cfg\r\n",
      "group_scale.cfg              white_light.cfg\r\n"
     ]
    }
   ],
   "source": [
    "# ! rm -rf ./cfgs    # uncomment to delete your cfgs\n",
    "if not os.path.exists(\"./cfgs\"):\n",
    "    collect_pipeline_cfgs('./cfgs')\n",
    "! ls cfgs"
   ]
  },
  {
   "cell_type": "markdown",
   "metadata": {},
   "source": [
    "***\n",
    "<a id=\"pipeline_with_cfgs\"></a>\n",
    "## Run Pipeline with Configuration Files\n",
    "\n",
    "In your cfgs directory, edit the file calwebb_detector1.cfg and change this:\n",
    "\n",
    "      [[dark_current]]\n",
    "        config_file = dark_current.cfg\n",
    "        \n",
    "to this:\n",
    "\n",
    "      [[dark_current]]\n",
    "        config_file = dark_current.cfg\n",
    "        save_results = True\n",
    "\n",
    "by executing the following cell (for demo purposes only) and printing the resulting calwebb_detector1_with_save.cfg file:"
   ]
  },
  {
   "cell_type": "code",
   "execution_count": 7,
   "metadata": {},
   "outputs": [
    {
     "name": "stdout",
     "output_type": "stream",
     "text": [
      "name = \"Detector1Pipeline\"\r\n",
      "class = \"jwst.pipeline.Detector1Pipeline\"\r\n",
      "save_calibrated_ramp = False\r\n",
      "\r\n",
      "    [steps]\r\n",
      "      [[group_scale]]\r\n",
      "        config_file = group_scale.cfg\r\n",
      "      [[dq_init]]\r\n",
      "        config_file = dq_init.cfg\r\n",
      "      [[saturation]]\r\n",
      "        config_file = saturation.cfg\r\n",
      "      [[ipc]]\r\n",
      "        skip = True\r\n",
      "      [[superbias]]\r\n",
      "        config_file = superbias.cfg\r\n",
      "      [[refpix]]\r\n",
      "        config_file = refpix.cfg\r\n",
      "      [[rscd]]\r\n",
      "        config_file = rscd.cfg\r\n",
      "      [[firstframe]]\r\n",
      "        config_file = firstframe.cfg\r\n",
      "      [[lastframe]]\r\n",
      "        config_file = lastframe.cfg\r\n",
      "      [[linearity]]\r\n",
      "        config_file = linearity.cfg\r\n",
      "      [[dark_current]]\r\n",
      "        save_results = True\r\n",
      "        config_file = dark_current.cfg\r\n",
      "      [[persistence]]\r\n",
      "        config_file = persistence.cfg\r\n",
      "      [[jump]]\r\n",
      "        config_file = jump.cfg\r\n",
      "      [[ramp_fit]]\r\n",
      "        config_file = ramp_fit.cfg\r\n",
      "      [[gain_scale]]\r\n",
      "        config_file = gain_scale.cfg\r\n"
     ]
    }
   ],
   "source": [
    "# This cell is pretending to be you creating and editing a new .cfg file.   In real life,  you'd edit the file.\n",
    "\n",
    "! cp cfgs/calwebb_detector1.cfg  cfgs/calwebb_detector1_with_save.cfg\n",
    "! perl -pi -e's/      \\[\\[dark_current\\]\\]\\n/      \\[\\[dark_current\\]\\]\\n        save_results = True\\n/g' cfgs/calwebb_detector1_with_save.cfg\n",
    "! cat cfgs/calwebb_detector1_with_save.cfg\n",
    "\n",
    "# And the result is..."
   ]
  },
  {
   "cell_type": "markdown",
   "metadata": {},
   "source": [
    "Normally just use menu File -> New -> Terminal and then edit with emacs or vi.  Alternatively use the programmatic methods demoed later."
   ]
  },
  {
   "cell_type": "code",
   "execution_count": 8,
   "metadata": {},
   "outputs": [
    {
     "name": "stderr",
     "output_type": "stream",
     "text": [
      "2019-09-11 08:38:14,305 - stpipe.Detector1Pipeline - INFO - Detector1Pipeline instance created.\n",
      "2019-09-11 08:38:14,307 - stpipe.Detector1Pipeline.group_scale - INFO - GroupScaleStep instance created.\n",
      "2019-09-11 08:38:14,309 - stpipe.Detector1Pipeline.dq_init - INFO - DQInitStep instance created.\n",
      "2019-09-11 08:38:14,311 - stpipe.Detector1Pipeline.saturation - INFO - SaturationStep instance created.\n",
      "2019-09-11 08:38:14,313 - stpipe.Detector1Pipeline.ipc - INFO - IPCStep instance created.\n",
      "2019-09-11 08:38:14,315 - stpipe.Detector1Pipeline.superbias - INFO - SuperBiasStep instance created.\n",
      "2019-09-11 08:38:14,317 - stpipe.Detector1Pipeline.refpix - INFO - RefPixStep instance created.\n",
      "2019-09-11 08:38:14,320 - stpipe.Detector1Pipeline.rscd - INFO - RSCD_Step instance created.\n",
      "2019-09-11 08:38:14,322 - stpipe.Detector1Pipeline.firstframe - INFO - FirstFrameStep instance created.\n",
      "2019-09-11 08:38:14,324 - stpipe.Detector1Pipeline.lastframe - INFO - LastFrameStep instance created.\n",
      "2019-09-11 08:38:14,326 - stpipe.Detector1Pipeline.linearity - INFO - LinearityStep instance created.\n",
      "2019-09-11 08:38:14,327 - stpipe.Detector1Pipeline.dark_current - INFO - DarkCurrentStep instance created.\n",
      "2019-09-11 08:38:14,330 - stpipe.Detector1Pipeline.persistence - INFO - PersistenceStep instance created.\n",
      "2019-09-11 08:38:14,331 - stpipe.Detector1Pipeline.jump - INFO - JumpStep instance created.\n",
      "2019-09-11 08:38:14,333 - stpipe.Detector1Pipeline.ramp_fit - INFO - RampFitStep instance created.\n",
      "2019-09-11 08:38:14,336 - stpipe.Detector1Pipeline.gain_scale - INFO - GainScaleStep instance created.\n",
      "2019-09-11 08:38:14,411 - stpipe.Detector1Pipeline - INFO - Step Detector1Pipeline running with args ('test.fits',).\n",
      "2019-09-11 08:38:14,563 - stpipe.Detector1Pipeline - WARNING - /Users/jmiller/miniconda3/envs/crds-env/lib/python3.7/site-packages/jwst/datamodels/util.py:165: NoTypeWarning: model_type not found. Opening test.fits as a RampModel\n",
      "  warnings.warn(errmsg, NoTypeWarning)\n",
      "\n",
      "2019-09-11 08:38:14,564 - stpipe.Detector1Pipeline - INFO - Prefetching reference files for dataset: 'test.fits' reftypes = ['dark', 'gain', 'linearity', 'mask', 'persat', 'readnoise', 'refpix', 'rscd', 'saturation', 'superbias', 'trapdensity', 'trappars']\n",
      "2019-09-11 08:38:14,578 - stpipe.Detector1Pipeline - INFO - Prefetch for DARK reference file is '/grp/crds/cache/references/jwst/jwst_miri_dark_0048.fits'.\n",
      "2019-09-11 08:38:14,580 - stpipe.Detector1Pipeline - INFO - Prefetch for GAIN reference file is '/grp/crds/cache/references/jwst/jwst_miri_gain_0008.fits'.\n",
      "2019-09-11 08:38:14,582 - stpipe.Detector1Pipeline - INFO - Prefetch for LINEARITY reference file is '/grp/crds/cache/references/jwst/jwst_miri_linearity_0024.fits'.\n",
      "2019-09-11 08:38:14,583 - stpipe.Detector1Pipeline - INFO - Prefetch for MASK reference file is '/grp/crds/cache/references/jwst/jwst_miri_mask_0023.fits'.\n",
      "2019-09-11 08:38:14,586 - stpipe.Detector1Pipeline - INFO - Prefetch for PERSAT reference file is 'N/A'.\n",
      "2019-09-11 08:38:14,587 - stpipe.Detector1Pipeline - INFO - Prefetch for READNOISE reference file is '/grp/crds/cache/references/jwst/jwst_miri_readnoise_0039.fits'.\n",
      "2019-09-11 08:38:14,589 - stpipe.Detector1Pipeline - INFO - Prefetch for REFPIX reference file is 'N/A'.\n",
      "2019-09-11 08:38:14,589 - stpipe.Detector1Pipeline - INFO - Prefetch for RSCD reference file is '/grp/crds/cache/references/jwst/jwst_miri_rscd_0009.fits'.\n",
      "2019-09-11 08:38:14,591 - stpipe.Detector1Pipeline - INFO - Prefetch for SATURATION reference file is '/grp/crds/cache/references/jwst/jwst_miri_saturation_0022.fits'.\n",
      "2019-09-11 08:38:14,593 - stpipe.Detector1Pipeline - INFO - Prefetch for SUPERBIAS reference file is 'N/A'.\n",
      "2019-09-11 08:38:14,593 - stpipe.Detector1Pipeline - INFO - Prefetch for TRAPDENSITY reference file is 'N/A'.\n",
      "2019-09-11 08:38:14,594 - stpipe.Detector1Pipeline - INFO - Prefetch for TRAPPARS reference file is 'N/A'.\n",
      "2019-09-11 08:38:14,595 - stpipe.Detector1Pipeline - INFO - Starting calwebb_detector1 ...\n",
      "2019-09-11 08:38:14,797 - stpipe.Detector1Pipeline.group_scale - INFO - Step group_scale running with args (<RampModel(6, 10, 416, 72) from test.fits>,).\n",
      "2019-09-11 08:38:14,809 - stpipe.Detector1Pipeline.group_scale - INFO - NFRAMES and FRMDIVSR are equal; correction not needed\n",
      "2019-09-11 08:38:14,810 - stpipe.Detector1Pipeline.group_scale - INFO - Step will be skipped\n",
      "2019-09-11 08:38:14,812 - stpipe.Detector1Pipeline.group_scale - INFO - Step group_scale done\n",
      "2019-09-11 08:38:14,868 - stpipe.Detector1Pipeline.dq_init - INFO - Step dq_init running with args (<RampModel(6, 10, 416, 72) from test.fits>,).\n",
      "2019-09-11 08:38:14,884 - stpipe.Detector1Pipeline.dq_init - INFO - Using MASK reference file /grp/crds/cache/references/jwst/jwst_miri_mask_0023.fits\n",
      "2019-09-11 08:38:14,971 - stpipe.Detector1Pipeline.dq_init - INFO - Extracting mask subarray to match science data\n",
      "2019-09-11 08:38:14,981 - stpipe.Detector1Pipeline.dq_init - INFO - Step dq_init done\n",
      "2019-09-11 08:38:15,041 - stpipe.Detector1Pipeline - WARNING - /Users/jmiller/miniconda3/envs/crds-env/lib/python3.7/site-packages/jwst/stpipe/step.py:341: ResourceWarning: unclosed file <_io.FileIO name='test.fits' mode='rb' closefd=True>\n",
      "  gc.collect()\n",
      "\n",
      "2019-09-11 08:38:15,045 - stpipe.Detector1Pipeline.saturation - INFO - Step saturation running with args (<RampModel(6, 10, 416, 72) from test.fits>,).\n",
      "2019-09-11 08:38:15,061 - stpipe.Detector1Pipeline.saturation - INFO - Using SATURATION reference file /grp/crds/cache/references/jwst/jwst_miri_saturation_0022.fits\n",
      "2019-09-11 08:38:15,144 - stpipe.Detector1Pipeline.saturation - INFO - Extracting reference file subarray to match science data\n",
      "2019-09-11 08:38:15,166 - stpipe.Detector1Pipeline.saturation - INFO - Step saturation done\n",
      "2019-09-11 08:38:15,221 - stpipe.Detector1Pipeline.ipc - INFO - Step ipc running with args (<RampModel(6, 10, 416, 72) from test.fits>,).\n",
      "2019-09-11 08:38:15,221 - stpipe.Detector1Pipeline.ipc - INFO - Step skipped.\n",
      "2019-09-11 08:38:15,223 - stpipe.Detector1Pipeline.ipc - INFO - Step ipc done\n",
      "2019-09-11 08:38:15,280 - stpipe.Detector1Pipeline.firstframe - INFO - Step firstframe running with args (<RampModel(6, 10, 416, 72) from test.fits>,).\n",
      "2019-09-11 08:38:15,319 - stpipe.Detector1Pipeline.firstframe - INFO - Step firstframe done\n",
      "2019-09-11 08:38:15,375 - stpipe.Detector1Pipeline.lastframe - INFO - Step lastframe running with args (<RampModel(6, 10, 416, 72) from test.fits>,).\n",
      "2019-09-11 08:38:15,411 - stpipe.Detector1Pipeline.lastframe - INFO - Step lastframe done\n",
      "2019-09-11 08:38:15,466 - stpipe.Detector1Pipeline.linearity - INFO - Step linearity running with args (<RampModel(6, 10, 416, 72) from test.fits>,).\n",
      "2019-09-11 08:38:15,481 - stpipe.Detector1Pipeline.linearity - INFO - Using Linearity reference file /grp/crds/cache/references/jwst/jwst_miri_linearity_0024.fits\n",
      "2019-09-11 08:38:15,555 - stpipe.Detector1Pipeline.linearity - INFO - Extracting linearity subarray to match science data\n",
      "2019-09-11 08:38:15,590 - stpipe.Detector1Pipeline.linearity - INFO - Step linearity done\n",
      "2019-09-11 08:38:15,645 - stpipe.Detector1Pipeline.rscd - INFO - Step rscd running with args (<RampModel(6, 10, 416, 72) from test.fits>,).\n",
      "2019-09-11 08:38:15,659 - stpipe.Detector1Pipeline.rscd - INFO - Using RSCD reference file /grp/crds/cache/references/jwst/jwst_miri_rscd_0009.fits\n",
      "2019-09-11 08:38:15,714 - stpipe.Detector1Pipeline.rscd - INFO -  Working on integration 2\n",
      "2019-09-11 08:38:15,730 - stpipe.Detector1Pipeline.rscd - INFO -  Working on integration 3\n",
      "2019-09-11 08:38:15,742 - stpipe.Detector1Pipeline.rscd - INFO -  Working on integration 4\n",
      "2019-09-11 08:38:15,754 - stpipe.Detector1Pipeline.rscd - INFO -  Working on integration 5\n",
      "2019-09-11 08:38:15,766 - stpipe.Detector1Pipeline.rscd - INFO -  Working on integration 6\n",
      "2019-09-11 08:38:15,781 - stpipe.Detector1Pipeline.rscd - INFO - Step rscd done\n",
      "2019-09-11 08:38:15,840 - stpipe.Detector1Pipeline.dark_current - INFO - Step dark_current running with args (<RampModel(6, 10, 416, 72) from test.fits>,).\n",
      "2019-09-11 08:38:15,858 - stpipe.Detector1Pipeline.dark_current - INFO - Using DARK reference file /grp/crds/cache/references/jwst/jwst_miri_dark_0048.fits\n",
      "2019-09-11 08:38:15,913 - stpipe.Detector1Pipeline.dark_current - INFO - Science data nints=6, ngroups=10, nframes=1, groupgap=0\n"
     ]
    },
    {
     "name": "stderr",
     "output_type": "stream",
     "text": [
      "2019-09-11 08:38:15,914 - stpipe.Detector1Pipeline.dark_current - INFO - Dark data nints=2, ngroups=1000, nframes=1, groupgap=0\n",
      "2019-09-11 08:38:16,365 - stpipe.Detector1Pipeline.dark_current - INFO - Saved model in test_dark_current.fits\n",
      "2019-09-11 08:38:16,365 - stpipe.Detector1Pipeline.dark_current - INFO - Step dark_current done\n",
      "2019-09-11 08:38:16,421 - stpipe.Detector1Pipeline.refpix - INFO - Step refpix running with args (<RampModel(6, 10, 416, 72) from test_dark_current.fits>,).\n",
      "2019-09-11 08:38:16,433 - stpipe.Detector1Pipeline.refpix - INFO - use_side_ref_pixels = True\n",
      "2019-09-11 08:38:16,434 - stpipe.Detector1Pipeline.refpix - INFO - odd_even_columns = True\n",
      "2019-09-11 08:38:16,435 - stpipe.Detector1Pipeline.refpix - INFO - side_smoothing_length = 11\n",
      "2019-09-11 08:38:16,436 - stpipe.Detector1Pipeline.refpix - INFO - side_gain = 1.000000\n",
      "2019-09-11 08:38:16,436 - stpipe.Detector1Pipeline.refpix - INFO - odd_even_rows = True\n",
      "2019-09-11 08:38:16,469 - stpipe.Detector1Pipeline.refpix - WARNING - Refpix correction skipped for MIRI subarrays\n",
      "2019-09-11 08:38:16,471 - stpipe.Detector1Pipeline.refpix - INFO - Step refpix done\n",
      "2019-09-11 08:38:16,526 - stpipe.Detector1Pipeline.jump - INFO - Step jump running with args (<RampModel(6, 10, 416, 72) from test_dark_current.fits>,).\n",
      "2019-09-11 08:38:16,539 - stpipe.Detector1Pipeline.jump - INFO - CR rejection threshold = 4 sigma\n",
      "2019-09-11 08:38:16,545 - stpipe.Detector1Pipeline.jump - INFO - Using GAIN reference file: /grp/crds/cache/references/jwst/jwst_miri_gain_0008.fits\n",
      "2019-09-11 08:38:16,570 - stpipe.Detector1Pipeline.jump - INFO - Using READNOISE reference file: /grp/crds/cache/references/jwst/jwst_miri_readnoise_0039.fits\n",
      "2019-09-11 08:38:16,611 - stpipe.Detector1Pipeline.jump - INFO - Extracting gain subarray to match science data\n",
      "2019-09-11 08:38:16,617 - stpipe.Detector1Pipeline.jump - INFO - Executing two-point difference method\n",
      "2019-09-11 08:38:16,665 - stpipe.Detector1Pipeline.jump - INFO -  working on integration 1\n",
      "2019-09-11 08:38:16,681 - stpipe.Detector1Pipeline.jump - INFO - From highest outlier Two point found 24230 pixels with at least one CR\n",
      "2019-09-11 08:38:18,924 - stpipe.Detector1Pipeline.jump - INFO -  working on integration 2\n",
      "2019-09-11 08:38:18,937 - stpipe.Detector1Pipeline.jump - INFO - From highest outlier Two point found 19928 pixels with at least one CR\n",
      "2019-09-11 08:38:21,059 - stpipe.Detector1Pipeline.jump - INFO -  working on integration 3\n",
      "2019-09-11 08:38:21,071 - stpipe.Detector1Pipeline.jump - INFO - From highest outlier Two point found 22062 pixels with at least one CR\n",
      "2019-09-11 08:38:23,231 - stpipe.Detector1Pipeline.jump - INFO -  working on integration 4\n",
      "2019-09-11 08:38:23,241 - stpipe.Detector1Pipeline.jump - INFO - From highest outlier Two point found 24269 pixels with at least one CR\n",
      "2019-09-11 08:38:25,543 - stpipe.Detector1Pipeline.jump - INFO -  working on integration 5\n",
      "2019-09-11 08:38:25,554 - stpipe.Detector1Pipeline.jump - INFO - From highest outlier Two point found 22088 pixels with at least one CR\n",
      "2019-09-11 08:38:27,818 - stpipe.Detector1Pipeline.jump - INFO -  working on integration 6\n",
      "2019-09-11 08:38:27,827 - stpipe.Detector1Pipeline.jump - INFO - From highest outlier Two point found 19956 pixels with at least one CR\n",
      "2019-09-11 08:38:29,973 - stpipe.Detector1Pipeline.jump - INFO - The execution time in seconds: 13.433712\n",
      "2019-09-11 08:38:29,980 - stpipe.Detector1Pipeline.jump - INFO - Step jump done\n",
      "2019-09-11 08:38:30,035 - stpipe.Detector1Pipeline.ramp_fit - INFO - Step ramp_fit running with args (<RampModel(6, 10, 416, 72) from test_dark_current.fits>,).\n",
      "2019-09-11 08:38:30,054 - stpipe.Detector1Pipeline.ramp_fit - INFO - Using READNOISE reference file: /grp/crds/cache/references/jwst/jwst_miri_readnoise_0039.fits\n",
      "2019-09-11 08:38:30,078 - stpipe.Detector1Pipeline.ramp_fit - INFO - Using GAIN reference file: /grp/crds/cache/references/jwst/jwst_miri_gain_0008.fits\n",
      "2019-09-11 08:38:30,099 - stpipe.Detector1Pipeline.ramp_fit - INFO - Using algorithm = ols\n",
      "2019-09-11 08:38:30,100 - stpipe.Detector1Pipeline.ramp_fit - INFO - Using weighting = optimal\n",
      "2019-09-11 08:38:30,150 - stpipe.Detector1Pipeline.ramp_fit - INFO - Number of leading groups that are flagged as DO_NOT_USE: 1\n",
      "2019-09-11 08:38:30,154 - stpipe.Detector1Pipeline.ramp_fit - INFO - MIRI dataset has all pixels in the final group flagged as DO_NOT_USE.\n",
      "2019-09-11 08:38:30,156 - stpipe.Detector1Pipeline.ramp_fit - INFO - Effective integration time per group: 0.15904\n",
      "2019-09-11 08:38:30,161 - stpipe.Detector1Pipeline.ramp_fit - INFO - Extracting gain subarray to match science data\n",
      "2019-09-11 08:38:40,368 - stpipe.Detector1Pipeline.ramp_fit - INFO - Number of groups per integration: 10\n",
      "2019-09-11 08:38:40,368 - stpipe.Detector1Pipeline.ramp_fit - INFO - Number of integrations: 6\n",
      "2019-09-11 08:38:40,393 - stpipe.Detector1Pipeline.ramp_fit - INFO - Step ramp_fit done\n",
      "2019-09-11 08:38:40,451 - stpipe.Detector1Pipeline.gain_scale - INFO - Step gain_scale running with args (<ImageModel(416, 72) from test_dark_current.fits>,).\n",
      "2019-09-11 08:38:40,495 - stpipe.Detector1Pipeline.gain_scale - INFO - GAINFACT not found in gain reference file\n",
      "2019-09-11 08:38:40,495 - stpipe.Detector1Pipeline.gain_scale - INFO - Step will be skipped\n",
      "2019-09-11 08:38:40,498 - stpipe.Detector1Pipeline.gain_scale - INFO - Step gain_scale done\n",
      "2019-09-11 08:38:40,553 - stpipe.Detector1Pipeline.gain_scale - INFO - Step gain_scale running with args (<CubeModel(6, 416, 72) from test_dark_current.fits>,).\n",
      "2019-09-11 08:38:40,592 - stpipe.Detector1Pipeline.gain_scale - INFO - GAINFACT not found in gain reference file\n",
      "2019-09-11 08:38:40,593 - stpipe.Detector1Pipeline.gain_scale - INFO - Step will be skipped\n",
      "2019-09-11 08:38:40,597 - stpipe.Detector1Pipeline.gain_scale - INFO - Step gain_scale done\n",
      "2019-09-11 08:38:40,598 - stpipe.Detector1Pipeline - INFO - ... ending calwebb_detector1\n",
      "2019-09-11 08:38:40,600 - stpipe.Detector1Pipeline - INFO - Step Detector1Pipeline done\n"
     ]
    },
    {
     "data": {
      "text/plain": [
       "<ImageModel(416, 72) from test_dark_current.fits>"
      ]
     },
     "execution_count": 8,
     "metadata": {},
     "output_type": "execute_result"
    }
   ],
   "source": [
    "output_model = Detector1Pipeline.call(\"test.fits\", config_file='cfgs/calwebb_detector1_with_save.cfg')\n",
    "output_model"
   ]
  },
  {
   "cell_type": "code",
   "execution_count": 9,
   "metadata": {},
   "outputs": [
    {
     "name": "stdout",
     "output_type": "stream",
     "text": [
      "test_dark_current.fits\r\n"
     ]
    }
   ],
   "source": [
    "!ls test_dark_current.fits   # you should see a file since you set save_results=True"
   ]
  },
  {
   "cell_type": "code",
   "execution_count": 10,
   "metadata": {},
   "outputs": [
    {
     "data": {
      "image/png": "[encoded data removed]",
      "text/plain": [
       "<Figure size 864x864 with 2 Axes>"
      ]
     },
     "metadata": {
      "needs_background": "light"
     },
     "output_type": "display_data"
    }
   ],
   "source": [
    "plot_image(output_model.data)"
   ]
  },
  {
   "cell_type": "code",
   "execution_count": 11,
   "metadata": {},
   "outputs": [
    {
     "data": {
      "image/png": "[encoded data removed]",
      "text/plain": [
       "<Figure size 864x864 with 2 Axes>"
      ]
     },
     "metadata": {
      "needs_background": "light"
     },
     "output_type": "display_data"
    }
   ],
   "source": [
    "plot_image(\"test_dark_current.fits\", index=(0,0))"
   ]
  },
  {
   "cell_type": "markdown",
   "metadata": {},
   "source": [
    "***\n",
    "<a id=\"pipeline_no_configs\"></a>\n",
    "## Run Pipeline with Parameters Set Programmatically\n",
    "\n",
    "You can also run the pipeline without relying on configuration files by setting parameters programmatically, and relying on the defaults in the pipeline.   This is the pure-Python alternative to editing .cfg files."
   ]
  },
  {
   "cell_type": "code",
   "execution_count": 12,
   "metadata": {},
   "outputs": [
    {
     "name": "stderr",
     "output_type": "stream",
     "text": [
      "2019-09-11 08:38:41,594 - stpipe.Detector1Pipeline - INFO - Detector1Pipeline instance created.\n",
      "2019-09-11 08:38:41,596 - stpipe.Detector1Pipeline.group_scale - INFO - GroupScaleStep instance created.\n",
      "2019-09-11 08:38:41,597 - stpipe.Detector1Pipeline.dq_init - INFO - DQInitStep instance created.\n",
      "2019-09-11 08:38:41,599 - stpipe.Detector1Pipeline.saturation - INFO - SaturationStep instance created.\n",
      "2019-09-11 08:38:41,601 - stpipe.Detector1Pipeline.ipc - INFO - IPCStep instance created.\n",
      "2019-09-11 08:38:41,603 - stpipe.Detector1Pipeline.superbias - INFO - SuperBiasStep instance created.\n",
      "2019-09-11 08:38:41,605 - stpipe.Detector1Pipeline.refpix - INFO - RefPixStep instance created.\n",
      "2019-09-11 08:38:41,607 - stpipe.Detector1Pipeline.rscd - INFO - RSCD_Step instance created.\n",
      "2019-09-11 08:38:41,609 - stpipe.Detector1Pipeline.firstframe - INFO - FirstFrameStep instance created.\n",
      "2019-09-11 08:38:41,611 - stpipe.Detector1Pipeline.lastframe - INFO - LastFrameStep instance created.\n",
      "2019-09-11 08:38:41,614 - stpipe.Detector1Pipeline.linearity - INFO - LinearityStep instance created.\n",
      "2019-09-11 08:38:41,616 - stpipe.Detector1Pipeline.dark_current - INFO - DarkCurrentStep instance created.\n",
      "2019-09-11 08:38:41,617 - stpipe.Detector1Pipeline.persistence - INFO - PersistenceStep instance created.\n",
      "2019-09-11 08:38:41,619 - stpipe.Detector1Pipeline.jump - INFO - JumpStep instance created.\n",
      "2019-09-11 08:38:41,621 - stpipe.Detector1Pipeline.ramp_fit - INFO - RampFitStep instance created.\n",
      "2019-09-11 08:38:41,623 - stpipe.Detector1Pipeline.gain_scale - INFO - GainScaleStep instance created.\n",
      "2019-09-11 08:38:41,712 - stpipe.Detector1Pipeline - INFO - Step Detector1Pipeline running with args ('test.fits',).\n",
      "2019-09-11 08:38:41,875 - stpipe.Detector1Pipeline - WARNING - /Users/jmiller/miniconda3/envs/crds-env/lib/python3.7/site-packages/jwst/datamodels/util.py:165: NoTypeWarning: model_type not found. Opening test.fits as a RampModel\n",
      "  warnings.warn(errmsg, NoTypeWarning)\n",
      "\n",
      "2019-09-11 08:38:41,876 - stpipe.Detector1Pipeline - INFO - Prefetching reference files for dataset: 'test.fits' reftypes = ['dark', 'gain', 'ipc', 'linearity', 'mask', 'persat', 'readnoise', 'refpix', 'rscd', 'saturation', 'superbias', 'trapdensity', 'trappars']\n",
      "2019-09-11 08:38:41,890 - stpipe.Detector1Pipeline - INFO - Prefetch for DARK reference file is '/grp/crds/cache/references/jwst/jwst_miri_dark_0048.fits'.\n",
      "2019-09-11 08:38:41,894 - stpipe.Detector1Pipeline - INFO - Prefetch for GAIN reference file is '/grp/crds/cache/references/jwst/jwst_miri_gain_0008.fits'.\n",
      "2019-09-11 08:38:41,895 - stpipe.Detector1Pipeline - INFO - Prefetch for IPC reference file is '/grp/crds/cache/references/jwst/jwst_miri_ipc_0009.fits'.\n",
      "2019-09-11 08:38:41,899 - stpipe.Detector1Pipeline - INFO - Prefetch for LINEARITY reference file is '/grp/crds/cache/references/jwst/jwst_miri_linearity_0024.fits'.\n",
      "2019-09-11 08:38:41,902 - stpipe.Detector1Pipeline - INFO - Prefetch for MASK reference file is '/grp/crds/cache/references/jwst/jwst_miri_mask_0023.fits'.\n",
      "2019-09-11 08:38:41,905 - stpipe.Detector1Pipeline - INFO - Prefetch for PERSAT reference file is 'N/A'.\n",
      "2019-09-11 08:38:41,906 - stpipe.Detector1Pipeline - INFO - Prefetch for READNOISE reference file is '/grp/crds/cache/references/jwst/jwst_miri_readnoise_0039.fits'.\n",
      "2019-09-11 08:38:41,909 - stpipe.Detector1Pipeline - INFO - Prefetch for REFPIX reference file is 'N/A'.\n",
      "2019-09-11 08:38:41,910 - stpipe.Detector1Pipeline - INFO - Prefetch for RSCD reference file is '/grp/crds/cache/references/jwst/jwst_miri_rscd_0009.fits'.\n",
      "2019-09-11 08:38:41,914 - stpipe.Detector1Pipeline - INFO - Prefetch for SATURATION reference file is '/grp/crds/cache/references/jwst/jwst_miri_saturation_0022.fits'.\n",
      "2019-09-11 08:38:41,917 - stpipe.Detector1Pipeline - INFO - Prefetch for SUPERBIAS reference file is 'N/A'.\n",
      "2019-09-11 08:38:41,918 - stpipe.Detector1Pipeline - INFO - Prefetch for TRAPDENSITY reference file is 'N/A'.\n",
      "2019-09-11 08:38:41,918 - stpipe.Detector1Pipeline - INFO - Prefetch for TRAPPARS reference file is 'N/A'.\n",
      "2019-09-11 08:38:41,919 - stpipe.Detector1Pipeline - INFO - Starting calwebb_detector1 ...\n",
      "2019-09-11 08:38:42,140 - stpipe.Detector1Pipeline.group_scale - INFO - Step group_scale running with args (<RampModel(6, 10, 416, 72) from test.fits>,).\n",
      "2019-09-11 08:38:42,152 - stpipe.Detector1Pipeline.group_scale - INFO - NFRAMES and FRMDIVSR are equal; correction not needed\n",
      "2019-09-11 08:38:42,153 - stpipe.Detector1Pipeline.group_scale - INFO - Step will be skipped\n",
      "2019-09-11 08:38:42,155 - stpipe.Detector1Pipeline.group_scale - INFO - Step group_scale done\n",
      "2019-09-11 08:38:42,219 - stpipe.Detector1Pipeline.dq_init - INFO - Step dq_init running with args (<RampModel(6, 10, 416, 72) from test.fits>,).\n",
      "2019-09-11 08:38:42,234 - stpipe.Detector1Pipeline.dq_init - INFO - Using MASK reference file /grp/crds/cache/references/jwst/jwst_miri_mask_0023.fits\n",
      "2019-09-11 08:38:42,343 - stpipe.Detector1Pipeline.dq_init - INFO - Extracting mask subarray to match science data\n",
      "2019-09-11 08:38:42,353 - stpipe.Detector1Pipeline.dq_init - INFO - Step dq_init done\n",
      "2019-09-11 08:38:42,411 - stpipe.Detector1Pipeline - WARNING - /Users/jmiller/miniconda3/envs/crds-env/lib/python3.7/site-packages/jwst/stpipe/step.py:341: ResourceWarning: unclosed file <_io.FileIO name='test.fits' mode='rb' closefd=True>\n",
      "  gc.collect()\n",
      "\n",
      "2019-09-11 08:38:42,417 - stpipe.Detector1Pipeline.saturation - INFO - Step saturation running with args (<RampModel(6, 10, 416, 72) from test.fits>,).\n",
      "2019-09-11 08:38:42,434 - stpipe.Detector1Pipeline.saturation - INFO - Using SATURATION reference file /grp/crds/cache/references/jwst/jwst_miri_saturation_0022.fits\n",
      "2019-09-11 08:38:42,560 - stpipe.Detector1Pipeline.saturation - INFO - Extracting reference file subarray to match science data\n",
      "2019-09-11 08:38:42,591 - stpipe.Detector1Pipeline.saturation - INFO - Step saturation done\n",
      "2019-09-11 08:38:42,674 - stpipe.Detector1Pipeline.ipc - INFO - Step ipc running with args (<RampModel(6, 10, 416, 72) from test.fits>,).\n",
      "2019-09-11 08:38:42,696 - stpipe.Detector1Pipeline.ipc - INFO - Using IPC reference file /grp/crds/cache/references/jwst/jwst_miri_ipc_0009.fits\n",
      "2019-09-11 08:38:42,775 - stpipe.Detector1Pipeline.ipc - INFO - Step ipc done\n",
      "2019-09-11 08:38:42,834 - stpipe.Detector1Pipeline.firstframe - INFO - Step firstframe running with args (<RampModel(6, 10, 416, 72) from test.fits>,).\n",
      "2019-09-11 08:38:42,876 - stpipe.Detector1Pipeline.firstframe - INFO - Step firstframe done\n",
      "2019-09-11 08:38:42,935 - stpipe.Detector1Pipeline.lastframe - INFO - Step lastframe running with args (<RampModel(6, 10, 416, 72) from test.fits>,).\n",
      "2019-09-11 08:38:42,974 - stpipe.Detector1Pipeline.lastframe - INFO - Step lastframe done\n",
      "2019-09-11 08:38:43,032 - stpipe.Detector1Pipeline.linearity - INFO - Step linearity running with args (<RampModel(6, 10, 416, 72) from test.fits>,).\n",
      "2019-09-11 08:38:43,053 - stpipe.Detector1Pipeline.linearity - INFO - Using Linearity reference file /grp/crds/cache/references/jwst/jwst_miri_linearity_0024.fits\n",
      "2019-09-11 08:38:43,134 - stpipe.Detector1Pipeline.linearity - INFO - Extracting linearity subarray to match science data\n",
      "2019-09-11 08:38:43,170 - stpipe.Detector1Pipeline.linearity - INFO - Step linearity done\n",
      "2019-09-11 08:38:43,224 - stpipe.Detector1Pipeline.rscd - INFO - Step rscd running with args (<RampModel(6, 10, 416, 72) from test.fits>,).\n",
      "2019-09-11 08:38:43,238 - stpipe.Detector1Pipeline.rscd - INFO - Using RSCD reference file /grp/crds/cache/references/jwst/jwst_miri_rscd_0009.fits\n",
      "2019-09-11 08:38:43,295 - stpipe.Detector1Pipeline.rscd - INFO -  Working on integration 2\n",
      "2019-09-11 08:38:43,311 - stpipe.Detector1Pipeline.rscd - INFO -  Working on integration 3\n",
      "2019-09-11 08:38:43,323 - stpipe.Detector1Pipeline.rscd - INFO -  Working on integration 4\n",
      "2019-09-11 08:38:43,335 - stpipe.Detector1Pipeline.rscd - INFO -  Working on integration 5\n",
      "2019-09-11 08:38:43,347 - stpipe.Detector1Pipeline.rscd - INFO -  Working on integration 6\n",
      "2019-09-11 08:38:43,362 - stpipe.Detector1Pipeline.rscd - INFO - Step rscd done\n",
      "2019-09-11 08:38:43,421 - stpipe.Detector1Pipeline.dark_current - INFO - Step dark_current running with args (<RampModel(6, 10, 416, 72) from test.fits>,).\n"
     ]
    },
    {
     "name": "stderr",
     "output_type": "stream",
     "text": [
      "2019-09-11 08:38:43,437 - stpipe.Detector1Pipeline.dark_current - INFO - Using DARK reference file /grp/crds/cache/references/jwst/jwst_miri_dark_0048.fits\n",
      "2019-09-11 08:38:43,491 - stpipe.Detector1Pipeline.dark_current - INFO - Science data nints=6, ngroups=10, nframes=1, groupgap=0\n",
      "2019-09-11 08:38:43,492 - stpipe.Detector1Pipeline.dark_current - INFO - Dark data nints=2, ngroups=1000, nframes=1, groupgap=0\n",
      "2019-09-11 08:38:43,920 - stpipe.Detector1Pipeline.dark_current - INFO - Saved model in test_dark_current.fits\n",
      "2019-09-11 08:38:43,920 - stpipe.Detector1Pipeline.dark_current - INFO - Step dark_current done\n",
      "2019-09-11 08:38:43,982 - stpipe.Detector1Pipeline.refpix - INFO - Step refpix running with args (<RampModel(6, 10, 416, 72) from test_dark_current.fits>,).\n",
      "2019-09-11 08:38:43,993 - stpipe.Detector1Pipeline.refpix - INFO - use_side_ref_pixels = True\n",
      "2019-09-11 08:38:43,994 - stpipe.Detector1Pipeline.refpix - INFO - odd_even_columns = True\n",
      "2019-09-11 08:38:43,994 - stpipe.Detector1Pipeline.refpix - INFO - side_smoothing_length = 11\n",
      "2019-09-11 08:38:43,995 - stpipe.Detector1Pipeline.refpix - INFO - side_gain = 1.000000\n",
      "2019-09-11 08:38:43,996 - stpipe.Detector1Pipeline.refpix - INFO - odd_even_rows = True\n",
      "2019-09-11 08:38:44,030 - stpipe.Detector1Pipeline.refpix - WARNING - Refpix correction skipped for MIRI subarrays\n",
      "2019-09-11 08:38:44,031 - stpipe.Detector1Pipeline.refpix - INFO - Step refpix done\n",
      "2019-09-11 08:38:44,091 - stpipe.Detector1Pipeline.jump - INFO - Step jump running with args (<RampModel(6, 10, 416, 72) from test_dark_current.fits>,).\n",
      "2019-09-11 08:38:44,104 - stpipe.Detector1Pipeline.jump - INFO - CR rejection threshold = 4 sigma\n",
      "2019-09-11 08:38:44,109 - stpipe.Detector1Pipeline.jump - INFO - Using GAIN reference file: /grp/crds/cache/references/jwst/jwst_miri_gain_0008.fits\n",
      "2019-09-11 08:38:44,135 - stpipe.Detector1Pipeline.jump - INFO - Using READNOISE reference file: /grp/crds/cache/references/jwst/jwst_miri_readnoise_0039.fits\n",
      "2019-09-11 08:38:44,184 - stpipe.Detector1Pipeline.jump - INFO - Extracting gain subarray to match science data\n",
      "2019-09-11 08:38:44,189 - stpipe.Detector1Pipeline.jump - INFO - Executing two-point difference method\n",
      "2019-09-11 08:38:44,235 - stpipe.Detector1Pipeline.jump - INFO -  working on integration 1\n",
      "2019-09-11 08:38:44,250 - stpipe.Detector1Pipeline.jump - INFO - From highest outlier Two point found 24230 pixels with at least one CR\n",
      "2019-09-11 08:38:46,622 - stpipe.Detector1Pipeline.jump - INFO -  working on integration 2\n",
      "2019-09-11 08:38:46,634 - stpipe.Detector1Pipeline.jump - INFO - From highest outlier Two point found 19928 pixels with at least one CR\n",
      "2019-09-11 08:38:48,807 - stpipe.Detector1Pipeline.jump - INFO -  working on integration 3\n",
      "2019-09-11 08:38:48,818 - stpipe.Detector1Pipeline.jump - INFO - From highest outlier Two point found 22062 pixels with at least one CR\n",
      "2019-09-11 08:38:51,004 - stpipe.Detector1Pipeline.jump - INFO -  working on integration 4\n",
      "2019-09-11 08:38:51,014 - stpipe.Detector1Pipeline.jump - INFO - From highest outlier Two point found 24269 pixels with at least one CR\n",
      "2019-09-11 08:38:53,376 - stpipe.Detector1Pipeline.jump - INFO -  working on integration 5\n",
      "2019-09-11 08:38:53,387 - stpipe.Detector1Pipeline.jump - INFO - From highest outlier Two point found 22088 pixels with at least one CR\n",
      "2019-09-11 08:38:55,649 - stpipe.Detector1Pipeline.jump - INFO -  working on integration 6\n",
      "2019-09-11 08:38:55,659 - stpipe.Detector1Pipeline.jump - INFO - From highest outlier Two point found 19956 pixels with at least one CR\n",
      "2019-09-11 08:38:57,911 - stpipe.Detector1Pipeline.jump - INFO - The execution time in seconds: 13.806712\n",
      "2019-09-11 08:38:57,918 - stpipe.Detector1Pipeline.jump - INFO - Step jump done\n",
      "2019-09-11 08:38:57,975 - stpipe.Detector1Pipeline.ramp_fit - INFO - Step ramp_fit running with args (<RampModel(6, 10, 416, 72) from test_dark_current.fits>,).\n",
      "2019-09-11 08:38:57,996 - stpipe.Detector1Pipeline.ramp_fit - INFO - Using READNOISE reference file: /grp/crds/cache/references/jwst/jwst_miri_readnoise_0039.fits\n",
      "2019-09-11 08:38:58,020 - stpipe.Detector1Pipeline.ramp_fit - INFO - Using GAIN reference file: /grp/crds/cache/references/jwst/jwst_miri_gain_0008.fits\n",
      "2019-09-11 08:38:58,041 - stpipe.Detector1Pipeline.ramp_fit - INFO - Using algorithm = ols\n",
      "2019-09-11 08:38:58,042 - stpipe.Detector1Pipeline.ramp_fit - INFO - Using weighting = optimal\n",
      "2019-09-11 08:38:58,089 - stpipe.Detector1Pipeline.ramp_fit - INFO - Number of leading groups that are flagged as DO_NOT_USE: 1\n",
      "2019-09-11 08:38:58,092 - stpipe.Detector1Pipeline.ramp_fit - INFO - MIRI dataset has all pixels in the final group flagged as DO_NOT_USE.\n",
      "2019-09-11 08:38:58,093 - stpipe.Detector1Pipeline.ramp_fit - INFO - Effective integration time per group: 0.15904\n",
      "2019-09-11 08:38:58,097 - stpipe.Detector1Pipeline.ramp_fit - INFO - Extracting gain subarray to match science data\n",
      "2019-09-11 08:39:08,305 - stpipe.Detector1Pipeline.ramp_fit - INFO - Number of groups per integration: 10\n",
      "2019-09-11 08:39:08,306 - stpipe.Detector1Pipeline.ramp_fit - INFO - Number of integrations: 6\n",
      "2019-09-11 08:39:08,332 - stpipe.Detector1Pipeline.ramp_fit - INFO - Step ramp_fit done\n",
      "2019-09-11 08:39:08,390 - stpipe.Detector1Pipeline.gain_scale - INFO - Step gain_scale running with args (<ImageModel(416, 72) from test_dark_current.fits>,).\n",
      "2019-09-11 08:39:08,425 - stpipe.Detector1Pipeline.gain_scale - INFO - GAINFACT not found in gain reference file\n",
      "2019-09-11 08:39:08,426 - stpipe.Detector1Pipeline.gain_scale - INFO - Step will be skipped\n",
      "2019-09-11 08:39:08,429 - stpipe.Detector1Pipeline.gain_scale - INFO - Step gain_scale done\n",
      "2019-09-11 08:39:08,484 - stpipe.Detector1Pipeline.gain_scale - INFO - Step gain_scale running with args (<CubeModel(6, 416, 72) from test_dark_current.fits>,).\n",
      "2019-09-11 08:39:08,520 - stpipe.Detector1Pipeline.gain_scale - INFO - GAINFACT not found in gain reference file\n",
      "2019-09-11 08:39:08,521 - stpipe.Detector1Pipeline.gain_scale - INFO - Step will be skipped\n",
      "2019-09-11 08:39:08,524 - stpipe.Detector1Pipeline.gain_scale - INFO - Step gain_scale done\n",
      "2019-09-11 08:39:08,525 - stpipe.Detector1Pipeline - INFO - ... ending calwebb_detector1\n",
      "2019-09-11 08:39:08,527 - stpipe.Detector1Pipeline - INFO - Step Detector1Pipeline done\n"
     ]
    },
    {
     "data": {
      "text/plain": [
       "<ImageModel(416, 72) from test_dark_current.fits>"
      ]
     },
     "execution_count": 12,
     "metadata": {},
     "output_type": "execute_result"
    }
   ],
   "source": [
    "! rm -f test_dark_current.fits   # remove the dark current output,  we'll recreate it another way...\n",
    "\n",
    "det1p = Detector1Pipeline()\n",
    "det1p.dark_current.save_results = True\n",
    "det1p.run(\"test.fits\")"
   ]
  },
  {
   "cell_type": "markdown",
   "metadata": {},
   "source": [
    "Setting save_results=True results in the output of the test_dark_current.fits file which can be passed into the PersistenceStep when run in isolation, next."
   ]
  },
  {
   "cell_type": "code",
   "execution_count": 13,
   "metadata": {},
   "outputs": [
    {
     "name": "stdout",
     "output_type": "stream",
     "text": [
      "test_dark_current.fits\r\n"
     ]
    }
   ],
   "source": [
    "! ls test_dark_current.fits   # make sure save_results worked."
   ]
  },
  {
   "cell_type": "markdown",
   "metadata": {},
   "source": [
    "***\n",
    "<a id=\"steps_with_config_files\"></a>\n",
    "## Run Individual Steps with Configuration Files\n",
    "\n",
    "You can also change parameter values in the .cfg files for individual Steps.\n",
    "\n",
    "Edit the cfgs/persistence.cfg file and change:\n",
    "\n",
    "```\n",
    "   input_trapsfilled = \"\"\n",
    "   flag_pers_cutoff = 40.\n",
    "   save_persistence = False\n",
    "```\n",
    "\n",
    "to:\n",
    "\n",
    "```\n",
    "   input_trapsfilled = \"\"\n",
    "   flag_pers_cutoff = 40.\n",
    "   save_persistence = True\n",
    "```\n",
    "\n",
    "This will cause PersistenceStep to output a third output file with suffix “_output_pers”. \n",
    "\n",
    "See https://jwst-pipeline.readthedocs.io/en/latest/jwst/persistence/description.html\n",
    "for more information on the persistence step."
   ]
  },
  {
   "cell_type": "code",
   "execution_count": 20,
   "metadata": {},
   "outputs": [
    {
     "name": "stdout",
     "output_type": "stream",
     "text": [
      "name = \"persistence\"\r\n",
      "class = \"jwst.persistence.PersistenceStep\"\r\n",
      "\r\n",
      "input_trapsfilled = \"\"\r\n",
      "flag_pers_cutoff = 40.\r\n",
      "save_persistence = True\r\n"
     ]
    }
   ],
   "source": [
    "# This cell is pretending to be you creating and editing a new .cfg file.    In real life, you'd edit the file.\n",
    "\n",
    "! cp cfgs/persistence.cfg  cfgs/persistence_with_out_pers_save.cfg\n",
    "! perl -pi -e's/save_persistence = False/save_persistence = True/g' cfgs/persistence_with_out_pers_save.cfg\n",
    "! cat cfgs/persistence_with_out_pers_save.cfg\n",
    "\n",
    "# And the result is..."
   ]
  },
  {
   "cell_type": "code",
   "execution_count": 15,
   "metadata": {},
   "outputs": [
    {
     "name": "stderr",
     "output_type": "stream",
     "text": [
      "2019-09-11 08:39:09,044 - stpipe.persistence - INFO - PersistenceStep instance created.\n",
      "2019-09-11 08:39:09,124 - stpipe.persistence - INFO - Step persistence running with args ('test_dark_current.fits',).\n",
      "2019-09-11 08:39:09,352 - stpipe.persistence - WARNING - Missing reference file types:  PERSAT TRAPDENSITY TRAPPARS\n",
      "2019-09-11 08:39:09,356 - stpipe.persistence - INFO - Step persistence done\n"
     ]
    },
    {
     "data": {
      "text/plain": [
       "<RampModel(6, 10, 416, 72) from test_dark_current.fits>"
      ]
     },
     "execution_count": 15,
     "metadata": {},
     "output_type": "execute_result"
    }
   ],
   "source": [
    "from jwst.persistence.persistence_step import PersistenceStep\n",
    "\n",
    "output_model = PersistenceStep.call(\"test_dark_current.fits\", config_file=\"cfgs/persistence_with_out_pers_save.cfg\")\n",
    "\n",
    "output_model"
   ]
  },
  {
   "cell_type": "code",
   "execution_count": 16,
   "metadata": {},
   "outputs": [
    {
     "name": "stdout",
     "output_type": "stream",
     "text": [
      "test.fits              test_dark_current.fits\r\n"
     ]
    }
   ],
   "source": [
    "! ls *.fits    # save_persistence may not be working..."
   ]
  },
  {
   "cell_type": "markdown",
   "metadata": {},
   "source": [
    "***\n",
    "<a id=\"pipelines_level_123\"></a>\n",
    "## Run Level 1, 2, 3, Pipelines in Succession"
   ]
  },
  {
   "cell_type": "markdown",
   "metadata": {},
   "source": [
    "This section runs the test data through all stages of processing,  chaining the output of each processing level to the input of the next.   Output can optionally be saved to a file.   Alternatively,  in-memory pipeline output can\n",
    "be passed directly to the next level.\n",
    "\n",
    "Documentation on all JWST CAL pipelines can be found here: https://jwst-pipeline.readthedocs.io/en/latest/jwst/pipeline/main.html#pipelines"
   ]
  },
  {
   "cell_type": "markdown",
   "metadata": {},
   "source": [
    "### Run Level 1\n",
    "\n",
    "Stage 1 consists of detector-level corrections that are performed on a group-by-group basis, followed by ramp fitting. The output of stage 1 processing is a countrate image per exposure, or per integration for some modes. "
   ]
  },
  {
   "cell_type": "code",
   "execution_count": 17,
   "metadata": {},
   "outputs": [
    {
     "name": "stderr",
     "output_type": "stream",
     "text": [
      "2019-09-11 08:39:09,550 - stpipe.Detector1Pipeline - INFO - Detector1Pipeline instance created.\n",
      "2019-09-11 08:39:09,552 - stpipe.Detector1Pipeline.group_scale - INFO - GroupScaleStep instance created.\n",
      "2019-09-11 08:39:09,554 - stpipe.Detector1Pipeline.dq_init - INFO - DQInitStep instance created.\n",
      "2019-09-11 08:39:09,555 - stpipe.Detector1Pipeline.saturation - INFO - SaturationStep instance created.\n",
      "2019-09-11 08:39:09,557 - stpipe.Detector1Pipeline.ipc - INFO - IPCStep instance created.\n",
      "2019-09-11 08:39:09,559 - stpipe.Detector1Pipeline.superbias - INFO - SuperBiasStep instance created.\n",
      "2019-09-11 08:39:09,560 - stpipe.Detector1Pipeline.refpix - INFO - RefPixStep instance created.\n",
      "2019-09-11 08:39:09,563 - stpipe.Detector1Pipeline.rscd - INFO - RSCD_Step instance created.\n",
      "2019-09-11 08:39:09,565 - stpipe.Detector1Pipeline.firstframe - INFO - FirstFrameStep instance created.\n",
      "2019-09-11 08:39:09,566 - stpipe.Detector1Pipeline.lastframe - INFO - LastFrameStep instance created.\n",
      "2019-09-11 08:39:09,569 - stpipe.Detector1Pipeline.linearity - INFO - LinearityStep instance created.\n",
      "2019-09-11 08:39:09,570 - stpipe.Detector1Pipeline.dark_current - INFO - DarkCurrentStep instance created.\n",
      "2019-09-11 08:39:09,572 - stpipe.Detector1Pipeline.persistence - INFO - PersistenceStep instance created.\n",
      "2019-09-11 08:39:09,575 - stpipe.Detector1Pipeline.jump - INFO - JumpStep instance created.\n",
      "2019-09-11 08:39:09,577 - stpipe.Detector1Pipeline.ramp_fit - INFO - RampFitStep instance created.\n",
      "2019-09-11 08:39:09,578 - stpipe.Detector1Pipeline.gain_scale - INFO - GainScaleStep instance created.\n",
      "2019-09-11 08:39:09,647 - stpipe - WARNING - /Users/jmiller/miniconda3/envs/crds-env/lib/python3.7/site-packages/jwst/stpipe/step.py:341: ResourceWarning: unclosed file <_io.FileIO name='test_dark_current.fits' mode='rb' closefd=True>\n",
      "  gc.collect()\n",
      "\n",
      "2019-09-11 08:39:09,651 - stpipe.Detector1Pipeline - INFO - Step Detector1Pipeline running with args ('test.fits',).\n",
      "2019-09-11 08:39:09,821 - stpipe.Detector1Pipeline - WARNING - /Users/jmiller/miniconda3/envs/crds-env/lib/python3.7/site-packages/jwst/datamodels/util.py:165: NoTypeWarning: model_type not found. Opening test.fits as a RampModel\n",
      "  warnings.warn(errmsg, NoTypeWarning)\n",
      "\n",
      "2019-09-11 08:39:09,823 - stpipe.Detector1Pipeline - INFO - Prefetching reference files for dataset: 'test.fits' reftypes = ['dark', 'gain', 'linearity', 'mask', 'persat', 'readnoise', 'refpix', 'rscd', 'saturation', 'superbias', 'trapdensity', 'trappars']\n",
      "2019-09-11 08:39:09,835 - stpipe.Detector1Pipeline - INFO - Prefetch for DARK reference file is '/grp/crds/cache/references/jwst/jwst_miri_dark_0048.fits'.\n",
      "2019-09-11 08:39:09,837 - stpipe.Detector1Pipeline - INFO - Prefetch for GAIN reference file is '/grp/crds/cache/references/jwst/jwst_miri_gain_0008.fits'.\n",
      "2019-09-11 08:39:09,839 - stpipe.Detector1Pipeline - INFO - Prefetch for LINEARITY reference file is '/grp/crds/cache/references/jwst/jwst_miri_linearity_0024.fits'.\n",
      "2019-09-11 08:39:09,841 - stpipe.Detector1Pipeline - INFO - Prefetch for MASK reference file is '/grp/crds/cache/references/jwst/jwst_miri_mask_0023.fits'.\n",
      "2019-09-11 08:39:09,843 - stpipe.Detector1Pipeline - INFO - Prefetch for PERSAT reference file is 'N/A'.\n",
      "2019-09-11 08:39:09,843 - stpipe.Detector1Pipeline - INFO - Prefetch for READNOISE reference file is '/grp/crds/cache/references/jwst/jwst_miri_readnoise_0039.fits'.\n",
      "2019-09-11 08:39:09,845 - stpipe.Detector1Pipeline - INFO - Prefetch for REFPIX reference file is 'N/A'.\n",
      "2019-09-11 08:39:09,846 - stpipe.Detector1Pipeline - INFO - Prefetch for RSCD reference file is '/grp/crds/cache/references/jwst/jwst_miri_rscd_0009.fits'.\n",
      "2019-09-11 08:39:09,847 - stpipe.Detector1Pipeline - INFO - Prefetch for SATURATION reference file is '/grp/crds/cache/references/jwst/jwst_miri_saturation_0022.fits'.\n",
      "2019-09-11 08:39:09,849 - stpipe.Detector1Pipeline - INFO - Prefetch for SUPERBIAS reference file is 'N/A'.\n",
      "2019-09-11 08:39:09,850 - stpipe.Detector1Pipeline - INFO - Prefetch for TRAPDENSITY reference file is 'N/A'.\n",
      "2019-09-11 08:39:09,851 - stpipe.Detector1Pipeline - INFO - Prefetch for TRAPPARS reference file is 'N/A'.\n",
      "2019-09-11 08:39:09,853 - stpipe.Detector1Pipeline - INFO - Starting calwebb_detector1 ...\n",
      "2019-09-11 08:39:10,074 - stpipe.Detector1Pipeline.group_scale - INFO - Step group_scale running with args (<RampModel(6, 10, 416, 72) from test.fits>,).\n",
      "2019-09-11 08:39:10,086 - stpipe.Detector1Pipeline.group_scale - INFO - NFRAMES and FRMDIVSR are equal; correction not needed\n",
      "2019-09-11 08:39:10,087 - stpipe.Detector1Pipeline.group_scale - INFO - Step will be skipped\n",
      "2019-09-11 08:39:10,089 - stpipe.Detector1Pipeline.group_scale - INFO - Step group_scale done\n",
      "2019-09-11 08:39:10,148 - stpipe.Detector1Pipeline.dq_init - INFO - Step dq_init running with args (<RampModel(6, 10, 416, 72) from test.fits>,).\n",
      "2019-09-11 08:39:10,163 - stpipe.Detector1Pipeline.dq_init - INFO - Using MASK reference file /grp/crds/cache/references/jwst/jwst_miri_mask_0023.fits\n",
      "2019-09-11 08:39:10,257 - stpipe.Detector1Pipeline.dq_init - INFO - Extracting mask subarray to match science data\n",
      "2019-09-11 08:39:10,268 - stpipe.Detector1Pipeline.dq_init - INFO - Step dq_init done\n",
      "2019-09-11 08:39:10,323 - stpipe.Detector1Pipeline - WARNING - /Users/jmiller/miniconda3/envs/crds-env/lib/python3.7/site-packages/jwst/stpipe/step.py:341: ResourceWarning: unclosed file <_io.FileIO name='test.fits' mode='rb' closefd=True>\n",
      "  gc.collect()\n",
      "\n",
      "2019-09-11 08:39:10,328 - stpipe.Detector1Pipeline.saturation - INFO - Step saturation running with args (<RampModel(6, 10, 416, 72) from test.fits>,).\n",
      "2019-09-11 08:39:10,344 - stpipe.Detector1Pipeline.saturation - INFO - Using SATURATION reference file /grp/crds/cache/references/jwst/jwst_miri_saturation_0022.fits\n",
      "2019-09-11 08:39:10,423 - stpipe.Detector1Pipeline.saturation - INFO - Extracting reference file subarray to match science data\n",
      "2019-09-11 08:39:10,446 - stpipe.Detector1Pipeline.saturation - INFO - Step saturation done\n",
      "2019-09-11 08:39:10,525 - stpipe.Detector1Pipeline.ipc - INFO - Step ipc running with args (<RampModel(6, 10, 416, 72) from test.fits>,).\n",
      "2019-09-11 08:39:10,526 - stpipe.Detector1Pipeline.ipc - INFO - Step skipped.\n",
      "2019-09-11 08:39:10,528 - stpipe.Detector1Pipeline.ipc - INFO - Step ipc done\n",
      "2019-09-11 08:39:10,590 - stpipe.Detector1Pipeline.firstframe - INFO - Step firstframe running with args (<RampModel(6, 10, 416, 72) from test.fits>,).\n",
      "2019-09-11 08:39:10,629 - stpipe.Detector1Pipeline.firstframe - INFO - Step firstframe done\n",
      "2019-09-11 08:39:10,690 - stpipe.Detector1Pipeline.lastframe - INFO - Step lastframe running with args (<RampModel(6, 10, 416, 72) from test.fits>,).\n",
      "2019-09-11 08:39:10,730 - stpipe.Detector1Pipeline.lastframe - INFO - Step lastframe done\n",
      "2019-09-11 08:39:10,786 - stpipe.Detector1Pipeline.linearity - INFO - Step linearity running with args (<RampModel(6, 10, 416, 72) from test.fits>,).\n",
      "2019-09-11 08:39:10,801 - stpipe.Detector1Pipeline.linearity - INFO - Using Linearity reference file /grp/crds/cache/references/jwst/jwst_miri_linearity_0024.fits\n",
      "2019-09-11 08:39:10,873 - stpipe.Detector1Pipeline.linearity - INFO - Extracting linearity subarray to match science data\n",
      "2019-09-11 08:39:10,916 - stpipe.Detector1Pipeline.linearity - INFO - Step linearity done\n",
      "2019-09-11 08:39:10,975 - stpipe.Detector1Pipeline.rscd - INFO - Step rscd running with args (<RampModel(6, 10, 416, 72) from test.fits>,).\n",
      "2019-09-11 08:39:10,993 - stpipe.Detector1Pipeline.rscd - INFO - Using RSCD reference file /grp/crds/cache/references/jwst/jwst_miri_rscd_0009.fits\n",
      "2019-09-11 08:39:11,049 - stpipe.Detector1Pipeline.rscd - INFO -  Working on integration 2\n",
      "2019-09-11 08:39:11,063 - stpipe.Detector1Pipeline.rscd - INFO -  Working on integration 3\n",
      "2019-09-11 08:39:11,075 - stpipe.Detector1Pipeline.rscd - INFO -  Working on integration 4\n",
      "2019-09-11 08:39:11,087 - stpipe.Detector1Pipeline.rscd - INFO -  Working on integration 5\n",
      "2019-09-11 08:39:11,099 - stpipe.Detector1Pipeline.rscd - INFO -  Working on integration 6\n",
      "2019-09-11 08:39:11,114 - stpipe.Detector1Pipeline.rscd - INFO - Step rscd done\n",
      "2019-09-11 08:39:11,173 - stpipe.Detector1Pipeline.dark_current - INFO - Step dark_current running with args (<RampModel(6, 10, 416, 72) from test.fits>,).\n"
     ]
    },
    {
     "name": "stderr",
     "output_type": "stream",
     "text": [
      "2019-09-11 08:39:11,190 - stpipe.Detector1Pipeline.dark_current - INFO - Using DARK reference file /grp/crds/cache/references/jwst/jwst_miri_dark_0048.fits\n",
      "2019-09-11 08:39:11,242 - stpipe.Detector1Pipeline.dark_current - INFO - Science data nints=6, ngroups=10, nframes=1, groupgap=0\n",
      "2019-09-11 08:39:11,243 - stpipe.Detector1Pipeline.dark_current - INFO - Dark data nints=2, ngroups=1000, nframes=1, groupgap=0\n",
      "2019-09-11 08:39:11,446 - stpipe.Detector1Pipeline.dark_current - INFO - Step dark_current done\n",
      "2019-09-11 08:39:11,524 - stpipe.Detector1Pipeline.refpix - INFO - Step refpix running with args (<RampModel(6, 10, 416, 72) from test.fits>,).\n",
      "2019-09-11 08:39:11,537 - stpipe.Detector1Pipeline.refpix - INFO - use_side_ref_pixels = True\n",
      "2019-09-11 08:39:11,538 - stpipe.Detector1Pipeline.refpix - INFO - odd_even_columns = True\n",
      "2019-09-11 08:39:11,539 - stpipe.Detector1Pipeline.refpix - INFO - side_smoothing_length = 11\n",
      "2019-09-11 08:39:11,539 - stpipe.Detector1Pipeline.refpix - INFO - side_gain = 1.000000\n",
      "2019-09-11 08:39:11,540 - stpipe.Detector1Pipeline.refpix - INFO - odd_even_rows = True\n",
      "2019-09-11 08:39:11,570 - stpipe.Detector1Pipeline.refpix - WARNING - Refpix correction skipped for MIRI subarrays\n",
      "2019-09-11 08:39:11,572 - stpipe.Detector1Pipeline.refpix - INFO - Step refpix done\n",
      "2019-09-11 08:39:11,630 - stpipe.Detector1Pipeline.jump - INFO - Step jump running with args (<RampModel(6, 10, 416, 72) from test.fits>,).\n",
      "2019-09-11 08:39:11,647 - stpipe.Detector1Pipeline.jump - INFO - CR rejection threshold = 4 sigma\n",
      "2019-09-11 08:39:11,653 - stpipe.Detector1Pipeline.jump - INFO - Using GAIN reference file: /grp/crds/cache/references/jwst/jwst_miri_gain_0008.fits\n",
      "2019-09-11 08:39:11,679 - stpipe.Detector1Pipeline.jump - INFO - Using READNOISE reference file: /grp/crds/cache/references/jwst/jwst_miri_readnoise_0039.fits\n",
      "2019-09-11 08:39:11,724 - stpipe.Detector1Pipeline.jump - INFO - Extracting gain subarray to match science data\n",
      "2019-09-11 08:39:11,731 - stpipe.Detector1Pipeline.jump - INFO - Executing two-point difference method\n",
      "2019-09-11 08:39:11,794 - stpipe.Detector1Pipeline.jump - INFO -  working on integration 1\n",
      "2019-09-11 08:39:11,811 - stpipe.Detector1Pipeline.jump - INFO - From highest outlier Two point found 24230 pixels with at least one CR\n",
      "2019-09-11 08:39:14,106 - stpipe.Detector1Pipeline.jump - INFO -  working on integration 2\n",
      "2019-09-11 08:39:14,119 - stpipe.Detector1Pipeline.jump - INFO - From highest outlier Two point found 19928 pixels with at least one CR\n",
      "2019-09-11 08:39:18,360 - stpipe.Detector1Pipeline.jump - INFO -  working on integration 3\n",
      "2019-09-11 08:39:18,373 - stpipe.Detector1Pipeline.jump - INFO - From highest outlier Two point found 22062 pixels with at least one CR\n",
      "2019-09-11 08:39:20,596 - stpipe.Detector1Pipeline.jump - INFO -  working on integration 4\n",
      "2019-09-11 08:39:20,610 - stpipe.Detector1Pipeline.jump - INFO - From highest outlier Two point found 24269 pixels with at least one CR\n",
      "2019-09-11 08:39:23,009 - stpipe.Detector1Pipeline.jump - INFO -  working on integration 5\n",
      "2019-09-11 08:39:23,022 - stpipe.Detector1Pipeline.jump - INFO - From highest outlier Two point found 22088 pixels with at least one CR\n",
      "2019-09-11 08:39:25,334 - stpipe.Detector1Pipeline.jump - INFO -  working on integration 6\n",
      "2019-09-11 08:39:25,344 - stpipe.Detector1Pipeline.jump - INFO - From highest outlier Two point found 19956 pixels with at least one CR\n",
      "2019-09-11 08:39:27,611 - stpipe.Detector1Pipeline.jump - INFO - The execution time in seconds: 15.963931\n",
      "2019-09-11 08:39:27,614 - stpipe.Detector1Pipeline.jump - INFO - Step jump done\n",
      "2019-09-11 08:39:27,675 - stpipe.Detector1Pipeline.ramp_fit - INFO - Step ramp_fit running with args (<RampModel(6, 10, 416, 72) from test.fits>,).\n",
      "2019-09-11 08:39:27,697 - stpipe.Detector1Pipeline.ramp_fit - INFO - Using READNOISE reference file: /grp/crds/cache/references/jwst/jwst_miri_readnoise_0039.fits\n",
      "2019-09-11 08:39:27,723 - stpipe.Detector1Pipeline.ramp_fit - INFO - Using GAIN reference file: /grp/crds/cache/references/jwst/jwst_miri_gain_0008.fits\n",
      "2019-09-11 08:39:27,745 - stpipe.Detector1Pipeline.ramp_fit - INFO - Using algorithm = ols\n",
      "2019-09-11 08:39:27,745 - stpipe.Detector1Pipeline.ramp_fit - INFO - Using weighting = optimal\n",
      "2019-09-11 08:39:27,793 - stpipe.Detector1Pipeline.ramp_fit - INFO - Number of leading groups that are flagged as DO_NOT_USE: 1\n",
      "2019-09-11 08:39:27,796 - stpipe.Detector1Pipeline.ramp_fit - INFO - MIRI dataset has all pixels in the final group flagged as DO_NOT_USE.\n",
      "2019-09-11 08:39:27,796 - stpipe.Detector1Pipeline.ramp_fit - INFO - Effective integration time per group: 0.15904\n",
      "2019-09-11 08:39:27,800 - stpipe.Detector1Pipeline.ramp_fit - INFO - Extracting gain subarray to match science data\n",
      "2019-09-11 08:39:38,273 - stpipe.Detector1Pipeline.ramp_fit - INFO - Number of groups per integration: 10\n",
      "2019-09-11 08:39:38,273 - stpipe.Detector1Pipeline.ramp_fit - INFO - Number of integrations: 6\n",
      "2019-09-11 08:39:38,300 - stpipe.Detector1Pipeline.ramp_fit - INFO - Step ramp_fit done\n",
      "2019-09-11 08:39:38,377 - stpipe.Detector1Pipeline.gain_scale - INFO - Step gain_scale running with args (<ImageModel(416, 72) from test.fits>,).\n",
      "2019-09-11 08:39:38,421 - stpipe.Detector1Pipeline.gain_scale - INFO - GAINFACT not found in gain reference file\n",
      "2019-09-11 08:39:38,421 - stpipe.Detector1Pipeline.gain_scale - INFO - Step will be skipped\n",
      "2019-09-11 08:39:38,425 - stpipe.Detector1Pipeline.gain_scale - INFO - Step gain_scale done\n",
      "2019-09-11 08:39:38,486 - stpipe.Detector1Pipeline.gain_scale - INFO - Step gain_scale running with args (<CubeModel(6, 416, 72) from test.fits>,).\n",
      "2019-09-11 08:39:38,533 - stpipe.Detector1Pipeline.gain_scale - INFO - GAINFACT not found in gain reference file\n",
      "2019-09-11 08:39:38,534 - stpipe.Detector1Pipeline.gain_scale - INFO - Step will be skipped\n",
      "2019-09-11 08:39:38,538 - stpipe.Detector1Pipeline.gain_scale - INFO - Step gain_scale done\n",
      "2019-09-11 08:39:38,538 - stpipe.Detector1Pipeline - INFO - ... ending calwebb_detector1\n",
      "2019-09-11 08:39:38,540 - stpipe.Detector1Pipeline - INFO - Step Detector1Pipeline done\n"
     ]
    }
   ],
   "source": [
    "output1 = Detector1Pipeline.call(\"test.fits\", config_file=\"cfgs/calwebb_detector1.cfg\")"
   ]
  },
  {
   "cell_type": "markdown",
   "metadata": {},
   "source": [
    "### Run Level 2\n",
    "\n",
    "Stage 2 processing consists of additional instrument-level and observing-mode corrections and calibrations to produce fully calibrated exposures. The details differ for imaging and spectroscopic exposures, and there are some corrections that are unique to certain instruments or modes. "
   ]
  },
  {
   "cell_type": "code",
   "execution_count": 18,
   "metadata": {},
   "outputs": [
    {
     "name": "stderr",
     "output_type": "stream",
     "text": [
      "2019-09-11 08:39:38,555 - stpipe.Image2Pipeline - INFO - Image2Pipeline instance created.\n",
      "2019-09-11 08:39:38,557 - stpipe.Image2Pipeline.bkg_subtract - INFO - BackgroundStep instance created.\n",
      "2019-09-11 08:39:38,559 - stpipe.Image2Pipeline.assign_wcs - INFO - AssignWcsStep instance created.\n",
      "2019-09-11 08:39:38,562 - stpipe.Image2Pipeline.flat_field - INFO - FlatFieldStep instance created.\n",
      "2019-09-11 08:39:38,566 - stpipe.Image2Pipeline.photom - INFO - PhotomStep instance created.\n",
      "2019-09-11 08:39:38,570 - stpipe.Image2Pipeline.resample - INFO - ResampleStep instance created.\n",
      "2019-09-11 08:39:38,642 - stpipe.Image2Pipeline - INFO - Step Image2Pipeline running with args (<ImageModel(416, 72) from test.fits>,).\n",
      "2019-09-11 08:39:38,660 - stpipe.Image2Pipeline - INFO - Prefetching reference files for dataset: 'test.fits' reftypes = ['area', 'camera', 'collimator', 'dflat', 'disperser', 'distortion', 'drizpars', 'fflat', 'filteroffset', 'flat', 'fore', 'fpa', 'ifufore', 'ifupost', 'ifuslicer', 'msa', 'ote', 'photom', 'regions', 'sflat', 'specwcs', 'wavelengthrange', 'wfssbkg']\n",
      "2019-09-11 08:39:38,682 - stpipe.Image2Pipeline - INFO - Prefetch for AREA reference file is '/grp/crds/cache/references/jwst/jwst_miri_area_0004.fits'.\n",
      "2019-09-11 08:39:38,685 - stpipe.Image2Pipeline - INFO - Prefetch for CAMERA reference file is 'N/A'.\n",
      "2019-09-11 08:39:38,686 - stpipe.Image2Pipeline - INFO - Prefetch for COLLIMATOR reference file is 'N/A'.\n",
      "2019-09-11 08:39:38,687 - stpipe.Image2Pipeline - INFO - Prefetch for DFLAT reference file is 'N/A'.\n",
      "2019-09-11 08:39:38,687 - stpipe.Image2Pipeline - INFO - Prefetch for DISPERSER reference file is 'N/A'.\n",
      "2019-09-11 08:39:38,688 - stpipe.Image2Pipeline - INFO - Prefetch for DISTORTION reference file is '/grp/crds/cache/references/jwst/jwst_miri_distortion_0028.asdf'.\n",
      "2019-09-11 08:39:38,691 - stpipe.Image2Pipeline - INFO - Prefetch for DRIZPARS reference file is '/grp/crds/cache/references/jwst/jwst_miri_drizpars_0001.fits'.\n",
      "2019-09-11 08:39:38,695 - stpipe.Image2Pipeline - INFO - Prefetch for FFLAT reference file is 'N/A'.\n",
      "2019-09-11 08:39:38,695 - stpipe.Image2Pipeline - INFO - Prefetch for FILTEROFFSET reference file is '/grp/crds/cache/references/jwst/jwst_miri_filteroffset_0004.asdf'.\n",
      "2019-09-11 08:39:38,698 - stpipe.Image2Pipeline - INFO - Prefetch for FLAT reference file is '/grp/crds/cache/references/jwst/jwst_miri_flat_0188.fits'.\n",
      "2019-09-11 08:39:38,701 - stpipe.Image2Pipeline - INFO - Prefetch for FORE reference file is 'N/A'.\n",
      "2019-09-11 08:39:38,702 - stpipe.Image2Pipeline - INFO - Prefetch for FPA reference file is 'N/A'.\n",
      "2019-09-11 08:39:38,703 - stpipe.Image2Pipeline - INFO - Prefetch for IFUFORE reference file is 'N/A'.\n",
      "2019-09-11 08:39:38,703 - stpipe.Image2Pipeline - INFO - Prefetch for IFUPOST reference file is 'N/A'.\n",
      "2019-09-11 08:39:38,704 - stpipe.Image2Pipeline - INFO - Prefetch for IFUSLICER reference file is 'N/A'.\n",
      "2019-09-11 08:39:38,705 - stpipe.Image2Pipeline - INFO - Prefetch for MSA reference file is 'N/A'.\n",
      "2019-09-11 08:39:38,706 - stpipe.Image2Pipeline - INFO - Prefetch for OTE reference file is 'N/A'.\n",
      "2019-09-11 08:39:38,707 - stpipe.Image2Pipeline - INFO - Prefetch for PHOTOM reference file is '/grp/crds/cache/references/jwst/jwst_miri_photom_0042.fits'.\n",
      "2019-09-11 08:39:38,710 - stpipe.Image2Pipeline - INFO - Prefetch for REGIONS reference file is 'N/A'.\n",
      "2019-09-11 08:39:38,711 - stpipe.Image2Pipeline - INFO - Prefetch for SFLAT reference file is 'N/A'.\n",
      "2019-09-11 08:39:38,712 - stpipe.Image2Pipeline - INFO - Prefetch for SPECWCS reference file is 'N/A'.\n",
      "2019-09-11 08:39:38,712 - stpipe.Image2Pipeline - INFO - Prefetch for WAVELENGTHRANGE reference file is 'N/A'.\n",
      "2019-09-11 08:39:38,713 - stpipe.Image2Pipeline - INFO - Prefetch for WFSSBKG reference file is 'N/A'.\n",
      "2019-09-11 08:39:38,714 - stpipe.Image2Pipeline - INFO - Starting calwebb_image2 ...\n",
      "2019-09-11 08:39:38,736 - stpipe.Image2Pipeline - INFO - Processing product test\n",
      "2019-09-11 08:39:38,737 - stpipe.Image2Pipeline - INFO - Working on input <ImageModel(416, 72) from test.fits> ...\n",
      "2019-09-11 08:39:38,796 - stpipe.Image2Pipeline.assign_wcs - INFO - Step assign_wcs running with args (<ImageModel(416, 72) from test.fits>,).\n",
      "2019-09-11 08:39:39,158 - stpipe.Image2Pipeline.assign_wcs - INFO - Created a MIRI mir_image pipeline with references {'distortion': '/grp/crds/cache/references/jwst/jwst_miri_distortion_0028.asdf', 'filteroffset': '/grp/crds/cache/references/jwst/jwst_miri_filteroffset_0004.asdf', 'specwcs': None, 'regions': None, 'wavelengthrange': None, 'camera': None, 'collimator': None, 'disperser': None, 'fore': None, 'fpa': None, 'msa': None, 'ote': None, 'ifupost': None, 'ifufore': None, 'ifuslicer': None}\n",
      "2019-09-11 08:39:39,190 - stpipe.Image2Pipeline.assign_wcs - INFO - Update S_REGION to POLYGON ICRS  273.096594074 65.605618360 273.098840566 65.618325933 273.093615778 65.618514643 273.091346037 65.605800996\n",
      "2019-09-11 08:39:39,191 - stpipe.Image2Pipeline.assign_wcs - INFO - assign_wcs updated S_REGION to POLYGON ICRS  273.096594074 65.605618360 273.098840566 65.618325933 273.093615778 65.618514643 273.091346037 65.605800996\n",
      "2019-09-11 08:39:39,191 - stpipe.Image2Pipeline.assign_wcs - INFO - COMPLETED assign_wcs\n",
      "2019-09-11 08:39:39,201 - stpipe.Image2Pipeline.assign_wcs - INFO - Step assign_wcs done\n",
      "2019-09-11 08:39:39,262 - stpipe.Image2Pipeline.flat_field - INFO - Step flat_field running with args (<ImageModel(416, 72) from test.fits>,).\n",
      "2019-09-11 08:39:39,380 - stpipe.Image2Pipeline.flat_field - WARNING - Keyword CDP_PARTIAL_DATA does not correspond to an existing DQ mnemonic, so will be ignored\n",
      "2019-09-11 08:39:39,381 - stpipe.Image2Pipeline.flat_field - WARNING - Keyword CDP_LOW_QUAL does not correspond to an existing DQ mnemonic, so will be ignored\n",
      "2019-09-11 08:39:39,382 - stpipe.Image2Pipeline.flat_field - WARNING - Keyword CDP_UNRELIABLE_ERROR does not correspond to an existing DQ mnemonic, so will be ignored\n",
      "2019-09-11 08:39:39,383 - stpipe.Image2Pipeline.flat_field - WARNING - Keyword DIFF_PATTERN does not correspond to an existing DQ mnemonic, so will be ignored\n",
      "2019-09-11 08:39:39,510 - stpipe.Image2Pipeline.flat_field - INFO - Step flat_field done\n",
      "2019-09-11 08:39:39,565 - stpipe.Image2Pipeline.photom - INFO - Step photom running with args (<ImageModel(416, 72) from test.fits>,).\n",
      "2019-09-11 08:39:39,580 - stpipe.Image2Pipeline.photom - INFO - Using photom reference file: /grp/crds/cache/references/jwst/jwst_miri_photom_0042.fits\n",
      "2019-09-11 08:39:39,584 - stpipe.Image2Pipeline.photom - INFO - Using area reference file: /grp/crds/cache/references/jwst/jwst_miri_area_0004.fits\n",
      "2019-09-11 08:39:39,654 - stpipe.Image2Pipeline.photom - INFO - Using instrument: MIRI\n",
      "2019-09-11 08:39:39,655 - stpipe.Image2Pipeline.photom - INFO -  detector: MIRIMAGE\n",
      "2019-09-11 08:39:39,656 - stpipe.Image2Pipeline.photom - INFO -  exp_type: MIR_IMAGE\n",
      "2019-09-11 08:39:39,656 - stpipe.Image2Pipeline.photom - INFO -  filter: F770W\n",
      "2019-09-11 08:39:39,719 - stpipe.Image2Pipeline.photom - INFO -  subarray: SUBPRISM\n",
      "2019-09-11 08:39:39,720 - stpipe.Image2Pipeline.photom - INFO - PHOTMJSR value: 0.562788\n",
      "2019-09-11 08:39:39,808 - stpipe.Image2Pipeline.photom - INFO - Pixel area map copied to output.\n",
      "2019-09-11 08:39:39,813 - stpipe.Image2Pipeline.photom - INFO - Step photom done\n",
      "2019-09-11 08:39:39,875 - stpipe.Image2Pipeline.resample - INFO - Step resample running with args (<ImageModel(416, 72) from test.fits>,).\n",
      "2019-09-11 08:39:39,894 - stpipe.Image2Pipeline.resample - INFO - Drizpars reference file: /grp/crds/cache/references/jwst/jwst_miri_drizpars_0001.fits\n",
      "2019-09-11 08:39:40,038 - stpipe.Image2Pipeline.resample - INFO - Drizzling (416, 72) --> (424, 102)\n",
      "2019-09-11 08:39:40,060 - stpipe.Image2Pipeline.resample - INFO - Update S_REGION to POLYGON ICRS  273.098879264 65.605600181 273.098881126 65.618509869 273.091357977 65.618509869 273.091359853 65.605600180\n",
      "2019-09-11 08:39:40,064 - stpipe.Image2Pipeline.resample - WARNING - /Users/jmiller/miniconda3/envs/crds-env/lib/python3.7/site-packages/asdf/schema.py:250: ResourceWarning: unclosed file <_io.FileIO name='/grp/crds/cache/references/jwst/jwst_miri_area_0004.fits' mode='rb' closefd=True>\n",
      "  s = load_schema(schema_path, self.ctx.resolver)\n",
      "\n"
     ]
    },
    {
     "name": "stderr",
     "output_type": "stream",
     "text": [
      "2019-09-11 08:39:40,180 - stpipe.Image2Pipeline.resample - INFO - Saved model in test_i2d.fits\n",
      "2019-09-11 08:39:40,181 - stpipe.Image2Pipeline.resample - INFO - Step resample done\n",
      "2019-09-11 08:39:40,181 - stpipe.Image2Pipeline - INFO - Finished processing product test\n",
      "2019-09-11 08:39:40,183 - stpipe.Image2Pipeline - INFO - ... ending calwebb_image2\n",
      "2019-09-11 08:39:40,508 - stpipe.Image2Pipeline - INFO - Saved model in test_cal.fits\n",
      "2019-09-11 08:39:40,509 - stpipe.Image2Pipeline - INFO - Step Image2Pipeline done\n"
     ]
    }
   ],
   "source": [
    "output2 = Image2Pipeline.call(output1, config_file=\"cfgs/calwebb_image2.cfg\")"
   ]
  },
  {
   "cell_type": "markdown",
   "metadata": {},
   "source": [
    "### Run Level 3\n",
    "\n",
    "Stage 3 processing consists of routines that work with multiple exposures and in most cases produce some kind of combined product. There are unique pipeline modules for stage 3 processing of imaging, spectroscopic, coronagraphic, AMI, and TSO observations."
   ]
  },
  {
   "cell_type": "code",
   "execution_count": 19,
   "metadata": {},
   "outputs": [
    {
     "name": "stderr",
     "output_type": "stream",
     "text": [
      "2019-09-11 08:39:40,524 - stpipe.Image3Pipeline - INFO - Image3Pipeline instance created.\n",
      "2019-09-11 08:39:40,526 - stpipe.Image3Pipeline.tweakreg - INFO - TweakRegStep instance created.\n",
      "2019-09-11 08:39:40,528 - stpipe.Image3Pipeline.skymatch - INFO - SkyMatchStep instance created.\n",
      "2019-09-11 08:39:40,530 - stpipe.Image3Pipeline.outlier_detection - INFO - OutlierDetectionStep instance created.\n",
      "2019-09-11 08:39:40,532 - stpipe.Image3Pipeline.resample - INFO - ResampleStep instance created.\n",
      "2019-09-11 08:39:40,534 - stpipe.Image3Pipeline.source_catalog - INFO - SourceCatalogStep instance created.\n",
      "2019-09-11 08:39:40,602 - stpipe.Image3Pipeline - INFO - Step Image3Pipeline running with args (<ImageModel(416, 72) from test_cal.fits>,).\n",
      "2019-09-11 08:39:40,616 - stpipe.Image3Pipeline - INFO - Prefetching reference files for dataset: 'test_cal.fits' reftypes = ['drizpars']\n",
      "2019-09-11 08:39:40,621 - stpipe.Image3Pipeline - INFO - Prefetch for DRIZPARS reference file is '/grp/crds/cache/references/jwst/jwst_miri_drizpars_0001.fits'.\n",
      "2019-09-11 08:39:40,624 - stpipe.Image3Pipeline - INFO - Starting calwebb_image3 ...\n",
      "2019-09-11 08:39:40,636 - stpipe.Image3Pipeline - INFO - Resampling images to final result...\n",
      "2019-09-11 08:39:40,701 - stpipe.Image3Pipeline.resample - INFO - Step resample running with args (<ImageModel(416, 72) from test_cal.fits>,).\n",
      "2019-09-11 08:39:40,721 - stpipe.Image3Pipeline.resample - INFO - Drizpars reference file: /grp/crds/cache/references/jwst/jwst_miri_drizpars_0001.fits\n",
      "2019-09-11 08:39:40,813 - stpipe.Image3Pipeline.resample - INFO - Drizzling (416, 72) --> (424, 102)\n",
      "2019-09-11 08:39:40,835 - stpipe.Image3Pipeline.resample - INFO - Update S_REGION to POLYGON ICRS  273.098879264 65.605600181 273.098881126 65.618509869 273.091357977 65.618509869 273.091359853 65.605600180\n",
      "2019-09-11 08:39:40,837 - stpipe.Image3Pipeline.resample - INFO - Step resample done\n",
      "2019-09-11 08:39:40,838 - stpipe.Image3Pipeline - INFO - Creating source catalog...\n",
      "2019-09-11 08:39:40,902 - stpipe.Image3Pipeline.source_catalog - INFO - Step source_catalog running with args (<DrizProductModel(424, 102) from test_cal.fits>,).\n",
      "2019-09-11 08:39:40,925 - stpipe.Image3Pipeline.source_catalog - WARNING - /Users/jmiller/miniconda3/envs/crds-env/lib/python3.7/site-packages/photutils/segmentation/detect.py:172: NoDetectionsWarning: No sources were found.\n",
      "  warnings.warn('No sources were found.', NoDetectionsWarning)\n",
      "\n",
      "2019-09-11 08:39:40,926 - stpipe.Image3Pipeline.source_catalog - INFO - No sources were found.  Source catalog will not be written.\n",
      "2019-09-11 08:39:40,927 - stpipe.Image3Pipeline.source_catalog - INFO - Step source_catalog done\n",
      "2019-09-11 08:39:40,928 - stpipe.Image3Pipeline - INFO - Step Image3Pipeline done\n"
     ]
    }
   ],
   "source": [
    "output3 = Image3Pipeline.call(output2[0], config_file=\"cfgs/calwebb_image3.cfg\")"
   ]
  },
  {
   "cell_type": "code",
   "execution_count": null,
   "metadata": {},
   "outputs": [],
   "source": []
  }
 ],
 "metadata": {
  "kernelspec": {
   "display_name": "Python 3",
   "language": "python",
   "name": "python3"
  },
  "language_info": {
   "codemirror_mode": {
    "name": "ipython",
    "version": 3
   },
   "file_extension": ".py",
   "mimetype": "text/x-python",
   "name": "python",
   "nbconvert_exporter": "python",
   "pygments_lexer": "ipython3",
   "version": "3.7.4"
  }
 },
 "nbformat": 4,
 "nbformat_minor": 4
}
