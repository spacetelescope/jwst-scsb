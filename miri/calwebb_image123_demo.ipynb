{
 "cells": [
  {
   "cell_type": "markdown",
   "metadata": {},
   "source": [
    "# Running Pipelines using MIRI image data from MAST"
   ]
  },
  {
   "cell_type": "markdown",
   "metadata": {},
   "source": [
    "## Table of Contents:\n",
    "> * [Detector1 Pipeline](#detector1_pipeline)\n",
    "> * [Resources and Documentation](#resources)\n",
    "> * [Download Data from MAST](#download_from_mast)\n",
    "> * [Run Pipeline with Default Configuration](#pipeline_with_defaults)\n",
    "> * [About Configuration Files](#pipeline_configs)\n",
    "> * [Run Pipeline with Configuration Files](#pipeline_with_cfgs)\n",
    "> * [Run Pipeline with Parameters Set Programmatically](#pipeline_no_configs)\n",
    "> * [Run Individual Steps with Configuration Files](#steps_with_config_files)\n",
    "> * [Run Individual Steps with Parameters Set Programmatically](#steps_no_configs)\n",
    "> * [Run Level 1, 2, 3, Pipelines in Succession](#pipelines_level_123)\n",
    "\n",
    "***\n",
    "<a id=detector1_pipeline></a>\n",
    "##  Detector1 Pipeline\n",
    "\n",
    "Stage 1 consists of detector-level corrections that are performed on a group-by-group basis, followed by ramp fitting. \n",
    "\n",
    "More information can be found at: https://jwst-pipeline.readthedocs.io/en/latest/jwst/pipeline/calwebb_detector1.html#calwebb-detector1\n",
    "\n",
    "> **Inputs**: The inputs to stage 1 processing will usually be level-1b raw files.\n",
    "\n",
    "> **Outputs**: The output of stage 1 processing is a countrate image per exposure, or per integration for some modes.\n",
    "    \n",
    "### Level 1 pipeline:\n",
    "\n",
    "**Calwebb Detector1**   (jwst.pipeline, calwebb_detector1, Detector1Pipeline)   (calwebb_detector1.cfg)\n",
    "\n",
    "### Level 1 pipeline steps:\n",
    "\n",
    "**Group Scale** (jwst.group_scale, group_scale_step, GroupScaleStep)   (group_scale.cfg)\n",
    "\n",
    "**DQInit** (jwst.dq_init, dq_init_step, DQInitStep)    (dq_init.cfg)\n",
    "\n",
    "**Saturation** (jwst.saturation, saturation_step, SaturationStep)    (saturation.cfg)\n",
    "\n",
    "**IPC**   (jwst.ipc,  ipc_step,  IPCStep)    (ipc.cfg)\n",
    "\n",
    "**Super Bias**   (jwst.superbias,  superbias_step,  SuperBiasStep)    (superbias.cfg)\n",
    "\n",
    "**Refpix** (jwst.refpix,  refpix_step,  RefpixStep)    (refpix.cfg)\n",
    "\n",
    "**RSCD**   (jwst.rscd,  rscd_step,  RSCD_Step)   (rscd.cfd)\n",
    "\n",
    "**First Frame**  (jwst.firstframe, firstframe_step,  FirstFrameStep)   (firstframe.cfg)\n",
    "\n",
    "**Last Frame**  (jwst.lastframe,  lastframe_step, LastFrameStep)   (lastframe.cfg)\n",
    "\n",
    "**Linearity**  (jwst.linearity,  linearity_step, LinearityStep)   (linearity.cfg)\n",
    "\n",
    "**Dark Current**  (jwst.dark_current,  dark_current_step,  DarkCurrentStep)   (dark_current.cfg)\n",
    "\n",
    "**Peristence**  (jwst.persistence,  persistence_step, PersistenceStep)   (persistence.cfg)\n",
    "\n",
    "**Jump**  (jwst.jump, jump_step,  JumpStep)  (jump_step.cfg)\n",
    "\n",
    "**RampFit**   (jwst.ramp_fit,  ramp_fit_step,  RampFitStep)   (ramp_fit_step.cfg)\n",
    "\n",
    "**Gain Scale**  (jwst.gain_scale,  gain_scale_step,  GainScaleStep)   (gain_scale_step.cfg)\n",
    "\n",
    "(for more information on individual steps see: https://jwst-pipeline.readthedocs.io/en/latest/jwst/package_index.html)\n",
    "\n",
    "***\n",
    "<a id='resources'></a>\n",
    "## Resources and Documentation\n",
    "\n",
    "There are several different places to find information on installing and running the pipeline. This notebook will give a shortened description of the steps pulled from the detailed pipeline information pages, but to find more in-depth instructions use the links below. \n",
    "\n",
    ">1. JDox: https://jwst-docs.stsci.edu/display/JDAT/JWST+Data+Reduction+Pipeline\n",
    ">2. Installation page: http://astroconda.readthedocs.io/en/latest/releases.html#pipeline-install\n",
    ">3. Detailed pipeline information: https://jwst-pipeline.readthedocs.io/en/latest/jwst/introduction.html\n",
    ">4. Help Desk (click on Pipeline Support): https://stsci.service-now.com/jwst?id=sc_category\n",
    ">5. GitHub README installation instructions: https://github.com/spacetelescope/jwst/blob/master/README.md\n",
    "\n",
    "\n",
    "If this is your first time trying to run the pipeline from a jupyter notebook, you need to install the jupyter notebook in your pipeline environment:\n",
    ">1. In a new terminal, change the directory to your working directory, terminal command: cd [your working directory]\n",
    ">2. Terminal command: source activate jwst_dev\n",
    "(or whatever your environment name for the pipeline is)\n",
    ">3. Terminal command: conda install jupyter\n",
    ">4. Terminal command: jupyter notebook\n",
    "\n",
    "**NOTE:** During your first run CRDS may download and cache reference files in $HOME/crds_cache.  On subsequent runs cached files will be used."
   ]
  },
  {
   "cell_type": "markdown",
   "metadata": {},
   "source": [
    "## Imports"
   ]
  },
  {
   "cell_type": "code",
   "execution_count": 80,
   "metadata": {},
   "outputs": [],
   "source": [
    "from jwst.pipeline import Detector1Pipeline\n",
    "from jwst.pipeline import Image2Pipeline\n",
    "from jwst.pipeline import Image3Pipeline\n",
    "from jwst import datamodels\n",
    "\n",
    "from astropy.io import fits\n",
    "from urllib.request import urlretrieve\n",
    "import matplotlib.pyplot as plt\n",
    "%matplotlib inline"
   ]
  },
  {
   "cell_type": "markdown",
   "metadata": {},
   "source": [
    "### Quick & Dirty Plots"
   ]
  },
  {
   "cell_type": "code",
   "execution_count": 81,
   "metadata": {},
   "outputs": [],
   "source": [
    "def plot_image(obj, index=None):\n",
    "    if isinstance(obj, str):\n",
    "        data = fits.getdata(obj)\n",
    "    else:\n",
    "        data = obj.data\n",
    "    image = data[index] if index is not None else data\n",
    "    fig = plt.figure(figsize=(12,12))\n",
    "    ax = fig.add_subplot(1, 1, 1)\n",
    "    im = ax.imshow(image, origin='lower') # , norm=norm)\n",
    "    fig.colorbar(im)\n",
    "    plt.show()"
   ]
  },
  {
   "cell_type": "markdown",
   "metadata": {},
   "source": [
    "***\n",
    "<a id=\"download_from_mast\"></a>\n",
    "## Download Data from MAST\n",
    "\n",
    "Test data can be downloaded from MAST using Astroquery"
   ]
  },
  {
   "cell_type": "code",
   "execution_count": 82,
   "metadata": {},
   "outputs": [],
   "source": [
    "MAST_URI_PREFIX = \"https://pwjwdmsauiweb.stsci.edu/portal/Download/file?uri=mast:JWST/product/\" \n",
    "\n",
    "def download_mast(data_name,  local_name):\n",
    "    return urlretrieve(MAST_URI_PREFIX + data_name,  local_name)"
   ]
  },
  {
   "cell_type": "code",
   "execution_count": 83,
   "metadata": {},
   "outputs": [
    {
     "data": {
      "text/plain": [
       "('test.fits', <http.client.HTTPMessage at 0x1278e5690>)"
      ]
     },
     "execution_count": 83,
     "metadata": {},
     "output_type": "execute_result"
    }
   ],
   "source": [
    "download_mast(\"jw00608002001_02101_00001_mirimage_uncal.fits\", \"test.fits\")"
   ]
  },
  {
   "cell_type": "markdown",
   "metadata": {},
   "source": [
    "***\n",
    "<a id=\"pipeline_with_defaults\"></a>\n",
    "## Run Pipeline With Default Configuration\n",
    "\n",
    "Pipelines can be run by using the .call() method on the Pipeline class and passing in a data file.   Running a pipeline generally executes each successive step on the output from the previous step.  The end result is an output data model."
   ]
  },
  {
   "cell_type": "code",
   "execution_count": 85,
   "metadata": {},
   "outputs": [
    {
     "name": "stderr",
     "output_type": "stream",
     "text": [
      "2019-09-10 12:43:36,862 - stpipe.Detector1Pipeline - INFO - Detector1Pipeline instance created.\n",
      "2019-09-10 12:43:36,865 - stpipe.Detector1Pipeline.group_scale - INFO - GroupScaleStep instance created.\n",
      "2019-09-10 12:43:36,866 - stpipe.Detector1Pipeline.dq_init - INFO - DQInitStep instance created.\n",
      "2019-09-10 12:43:36,868 - stpipe.Detector1Pipeline.saturation - INFO - SaturationStep instance created.\n",
      "2019-09-10 12:43:36,872 - stpipe.Detector1Pipeline.ipc - INFO - IPCStep instance created.\n",
      "2019-09-10 12:43:36,876 - stpipe.Detector1Pipeline.superbias - INFO - SuperBiasStep instance created.\n",
      "2019-09-10 12:43:36,878 - stpipe.Detector1Pipeline.refpix - INFO - RefPixStep instance created.\n",
      "2019-09-10 12:43:36,880 - stpipe.Detector1Pipeline.rscd - INFO - RSCD_Step instance created.\n",
      "2019-09-10 12:43:36,882 - stpipe.Detector1Pipeline.firstframe - INFO - FirstFrameStep instance created.\n",
      "2019-09-10 12:43:36,885 - stpipe.Detector1Pipeline.lastframe - INFO - LastFrameStep instance created.\n",
      "2019-09-10 12:43:36,888 - stpipe.Detector1Pipeline.linearity - INFO - LinearityStep instance created.\n",
      "2019-09-10 12:43:36,891 - stpipe.Detector1Pipeline.dark_current - INFO - DarkCurrentStep instance created.\n",
      "2019-09-10 12:43:36,894 - stpipe.Detector1Pipeline.persistence - INFO - PersistenceStep instance created.\n",
      "2019-09-10 12:43:36,899 - stpipe.Detector1Pipeline.jump - INFO - JumpStep instance created.\n",
      "2019-09-10 12:43:36,902 - stpipe.Detector1Pipeline.ramp_fit - INFO - RampFitStep instance created.\n",
      "2019-09-10 12:43:36,904 - stpipe.Detector1Pipeline.gain_scale - INFO - GainScaleStep instance created.\n",
      "2019-09-10 12:43:37,064 - stpipe - WARNING - /Users/jmiller/miniconda3/envs/crds-env/lib/python3.7/site-packages/jwst/stpipe/step.py:341: ResourceWarning: unclosed file <_io.FileIO name='test.fits' mode='rb' closefd=True>\n",
      "  gc.collect()\n",
      "\n",
      "2019-09-10 12:43:37,072 - stpipe.Detector1Pipeline - INFO - Step Detector1Pipeline running with args ('test.fits',).\n",
      "2019-09-10 12:43:37,269 - stpipe.Detector1Pipeline - INFO - Prefetching reference files for dataset: 'test.fits' reftypes = ['dark', 'gain', 'ipc', 'linearity', 'mask', 'persat', 'readnoise', 'refpix', 'rscd', 'saturation', 'superbias', 'trapdensity', 'trappars']\n",
      "2019-09-10 12:43:37,293 - stpipe.Detector1Pipeline - INFO - Prefetch for DARK reference file is '/grp/crds/cache/references/jwst/jwst_miri_dark_0048.fits'.\n",
      "2019-09-10 12:43:37,296 - stpipe.Detector1Pipeline - INFO - Prefetch for GAIN reference file is '/grp/crds/cache/references/jwst/jwst_miri_gain_0008.fits'.\n",
      "2019-09-10 12:43:37,299 - stpipe.Detector1Pipeline - INFO - Prefetch for IPC reference file is '/grp/crds/cache/references/jwst/jwst_miri_ipc_0009.fits'.\n",
      "2019-09-10 12:43:37,324 - stpipe.Detector1Pipeline - INFO - Prefetch for LINEARITY reference file is '/grp/crds/cache/references/jwst/jwst_miri_linearity_0024.fits'.\n",
      "2019-09-10 12:43:37,327 - stpipe.Detector1Pipeline - INFO - Prefetch for MASK reference file is '/grp/crds/cache/references/jwst/jwst_miri_mask_0023.fits'.\n",
      "2019-09-10 12:43:37,331 - stpipe.Detector1Pipeline - INFO - Prefetch for PERSAT reference file is 'N/A'.\n",
      "2019-09-10 12:43:37,331 - stpipe.Detector1Pipeline - INFO - Prefetch for READNOISE reference file is '/grp/crds/cache/references/jwst/jwst_miri_readnoise_0039.fits'.\n",
      "2019-09-10 12:43:37,335 - stpipe.Detector1Pipeline - INFO - Prefetch for REFPIX reference file is 'N/A'.\n",
      "2019-09-10 12:43:37,336 - stpipe.Detector1Pipeline - INFO - Prefetch for RSCD reference file is '/grp/crds/cache/references/jwst/jwst_miri_rscd_0009.fits'.\n",
      "2019-09-10 12:43:37,339 - stpipe.Detector1Pipeline - INFO - Prefetch for SATURATION reference file is '/grp/crds/cache/references/jwst/jwst_miri_saturation_0022.fits'.\n",
      "2019-09-10 12:43:37,343 - stpipe.Detector1Pipeline - INFO - Prefetch for SUPERBIAS reference file is 'N/A'.\n",
      "2019-09-10 12:43:37,343 - stpipe.Detector1Pipeline - INFO - Prefetch for TRAPDENSITY reference file is 'N/A'.\n",
      "2019-09-10 12:43:37,344 - stpipe.Detector1Pipeline - INFO - Prefetch for TRAPPARS reference file is 'N/A'.\n",
      "2019-09-10 12:43:37,345 - stpipe.Detector1Pipeline - INFO - Starting calwebb_detector1 ...\n",
      "2019-09-10 12:43:37,630 - stpipe.Detector1Pipeline.group_scale - INFO - Step group_scale running with args (<RampModel(6, 10, 416, 72) from test.fits>,).\n",
      "2019-09-10 12:43:37,639 - stpipe.Detector1Pipeline.group_scale - INFO - NFRAMES and FRMDIVSR are equal; correction not needed\n",
      "2019-09-10 12:43:37,640 - stpipe.Detector1Pipeline.group_scale - INFO - Step will be skipped\n",
      "2019-09-10 12:43:37,642 - stpipe.Detector1Pipeline.group_scale - INFO - Step group_scale done\n",
      "2019-09-10 12:43:37,773 - stpipe.Detector1Pipeline.dq_init - INFO - Step dq_init running with args (<RampModel(6, 10, 416, 72) from test.fits>,).\n",
      "2019-09-10 12:43:37,788 - stpipe.Detector1Pipeline.dq_init - INFO - Using MASK reference file /grp/crds/cache/references/jwst/jwst_miri_mask_0023.fits\n",
      "2019-09-10 12:43:37,899 - stpipe.Detector1Pipeline.dq_init - INFO - Extracting mask subarray to match science data\n",
      "2019-09-10 12:43:37,910 - stpipe.Detector1Pipeline.dq_init - INFO - Step dq_init done\n",
      "2019-09-10 12:43:38,063 - stpipe.Detector1Pipeline.saturation - INFO - Step saturation running with args (<RampModel(6, 10, 416, 72) from test.fits>,).\n",
      "2019-09-10 12:43:38,076 - stpipe.Detector1Pipeline.saturation - INFO - Using SATURATION reference file /grp/crds/cache/references/jwst/jwst_miri_saturation_0022.fits\n",
      "2019-09-10 12:43:38,175 - stpipe.Detector1Pipeline.saturation - INFO - Extracting reference file subarray to match science data\n",
      "2019-09-10 12:43:38,208 - stpipe.Detector1Pipeline.saturation - INFO - Step saturation done\n",
      "2019-09-10 12:43:38,346 - stpipe.Detector1Pipeline.ipc - INFO - Step ipc running with args (<RampModel(6, 10, 416, 72) from test.fits>,).\n",
      "2019-09-10 12:43:38,360 - stpipe.Detector1Pipeline.ipc - INFO - Using IPC reference file /grp/crds/cache/references/jwst/jwst_miri_ipc_0009.fits\n",
      "2019-09-10 12:43:38,446 - stpipe.Detector1Pipeline.ipc - INFO - Step ipc done\n",
      "2019-09-10 12:43:38,576 - stpipe.Detector1Pipeline.firstframe - INFO - Step firstframe running with args (<RampModel(6, 10, 416, 72) from test.fits>,).\n",
      "2019-09-10 12:43:38,618 - stpipe.Detector1Pipeline.firstframe - INFO - Step firstframe done\n",
      "2019-09-10 12:43:38,742 - stpipe.Detector1Pipeline.lastframe - INFO - Step lastframe running with args (<RampModel(6, 10, 416, 72) from test.fits>,).\n",
      "2019-09-10 12:43:38,786 - stpipe.Detector1Pipeline.lastframe - INFO - Step lastframe done\n",
      "2019-09-10 12:43:38,922 - stpipe.Detector1Pipeline.linearity - INFO - Step linearity running with args (<RampModel(6, 10, 416, 72) from test.fits>,).\n",
      "2019-09-10 12:43:38,940 - stpipe.Detector1Pipeline.linearity - INFO - Using Linearity reference file /grp/crds/cache/references/jwst/jwst_miri_linearity_0024.fits\n",
      "2019-09-10 12:43:39,022 - stpipe.Detector1Pipeline.linearity - INFO - Extracting linearity subarray to match science data\n",
      "2019-09-10 12:43:39,064 - stpipe.Detector1Pipeline.linearity - INFO - Step linearity done\n",
      "2019-09-10 12:43:39,207 - stpipe.Detector1Pipeline.rscd - INFO - Step rscd running with args (<RampModel(6, 10, 416, 72) from test.fits>,).\n",
      "2019-09-10 12:43:39,222 - stpipe.Detector1Pipeline.rscd - INFO - Using RSCD reference file /grp/crds/cache/references/jwst/jwst_miri_rscd_0009.fits\n",
      "2019-09-10 12:43:39,310 - stpipe.Detector1Pipeline.rscd - INFO -  Working on integration 2\n",
      "2019-09-10 12:43:39,328 - stpipe.Detector1Pipeline.rscd - INFO -  Working on integration 3\n",
      "2019-09-10 12:43:39,353 - stpipe.Detector1Pipeline.rscd - INFO -  Working on integration 4\n",
      "2019-09-10 12:43:39,370 - stpipe.Detector1Pipeline.rscd - INFO -  Working on integration 5\n",
      "2019-09-10 12:43:39,396 - stpipe.Detector1Pipeline.rscd - INFO -  Working on integration 6\n",
      "2019-09-10 12:43:39,418 - stpipe.Detector1Pipeline.rscd - INFO - Step rscd done\n",
      "2019-09-10 12:43:39,572 - stpipe.Detector1Pipeline.dark_current - INFO - Step dark_current running with args (<RampModel(6, 10, 416, 72) from test.fits>,).\n",
      "2019-09-10 12:43:39,597 - stpipe.Detector1Pipeline.dark_current - INFO - Using DARK reference file /grp/crds/cache/references/jwst/jwst_miri_dark_0048.fits\n",
      "2019-09-10 12:43:39,675 - stpipe.Detector1Pipeline.dark_current - INFO - Science data nints=6, ngroups=10, nframes=1, groupgap=0\n"
     ]
    },
    {
     "name": "stderr",
     "output_type": "stream",
     "text": [
      "2019-09-10 12:43:39,675 - stpipe.Detector1Pipeline.dark_current - INFO - Dark data nints=2, ngroups=1000, nframes=1, groupgap=0\n",
      "2019-09-10 12:43:39,887 - stpipe.Detector1Pipeline.dark_current - INFO - Step dark_current done\n",
      "2019-09-10 12:43:40,046 - stpipe.Detector1Pipeline.refpix - INFO - Step refpix running with args (<RampModel(6, 10, 416, 72) from test.fits>,).\n",
      "2019-09-10 12:43:40,056 - stpipe.Detector1Pipeline.refpix - INFO - use_side_ref_pixels = True\n",
      "2019-09-10 12:43:40,057 - stpipe.Detector1Pipeline.refpix - INFO - odd_even_columns = True\n",
      "2019-09-10 12:43:40,058 - stpipe.Detector1Pipeline.refpix - INFO - side_smoothing_length = 11\n",
      "2019-09-10 12:43:40,058 - stpipe.Detector1Pipeline.refpix - INFO - side_gain = 1.000000\n",
      "2019-09-10 12:43:40,059 - stpipe.Detector1Pipeline.refpix - INFO - odd_even_rows = True\n",
      "2019-09-10 12:43:40,101 - stpipe.Detector1Pipeline.refpix - WARNING - Refpix correction skipped for MIRI subarrays\n",
      "2019-09-10 12:43:40,103 - stpipe.Detector1Pipeline.refpix - INFO - Step refpix done\n",
      "2019-09-10 12:43:40,246 - stpipe.Detector1Pipeline.jump - INFO - Step jump running with args (<RampModel(6, 10, 416, 72) from test.fits>,).\n",
      "2019-09-10 12:43:40,257 - stpipe.Detector1Pipeline.jump - INFO - CR rejection threshold = 4 sigma\n",
      "2019-09-10 12:43:40,262 - stpipe.Detector1Pipeline.jump - INFO - Using GAIN reference file: /grp/crds/cache/references/jwst/jwst_miri_gain_0008.fits\n",
      "2019-09-10 12:43:40,291 - stpipe.Detector1Pipeline.jump - INFO - Using READNOISE reference file: /grp/crds/cache/references/jwst/jwst_miri_readnoise_0039.fits\n",
      "2019-09-10 12:43:40,334 - stpipe.Detector1Pipeline.jump - INFO - Extracting gain subarray to match science data\n",
      "2019-09-10 12:43:40,340 - stpipe.Detector1Pipeline.jump - INFO - Executing two-point difference method\n",
      "2019-09-10 12:43:40,382 - stpipe.Detector1Pipeline.jump - INFO -  working on integration 1\n",
      "2019-09-10 12:43:40,397 - stpipe.Detector1Pipeline.jump - INFO - From highest outlier Two point found 24230 pixels with at least one CR\n",
      "2019-09-10 12:43:42,923 - stpipe.Detector1Pipeline.jump - INFO -  working on integration 2\n",
      "2019-09-10 12:43:42,936 - stpipe.Detector1Pipeline.jump - INFO - From highest outlier Two point found 19928 pixels with at least one CR\n",
      "2019-09-10 12:43:45,403 - stpipe.Detector1Pipeline.jump - INFO -  working on integration 3\n",
      "2019-09-10 12:43:45,417 - stpipe.Detector1Pipeline.jump - INFO - From highest outlier Two point found 22062 pixels with at least one CR\n",
      "2019-09-10 12:43:47,735 - stpipe.Detector1Pipeline.jump - INFO -  working on integration 4\n",
      "2019-09-10 12:43:47,748 - stpipe.Detector1Pipeline.jump - INFO - From highest outlier Two point found 24269 pixels with at least one CR\n",
      "2019-09-10 12:43:50,249 - stpipe.Detector1Pipeline.jump - INFO -  working on integration 5\n",
      "2019-09-10 12:43:50,262 - stpipe.Detector1Pipeline.jump - INFO - From highest outlier Two point found 22088 pixels with at least one CR\n",
      "2019-09-10 12:43:52,696 - stpipe.Detector1Pipeline.jump - INFO -  working on integration 6\n",
      "2019-09-10 12:43:52,708 - stpipe.Detector1Pipeline.jump - INFO - From highest outlier Two point found 19956 pixels with at least one CR\n",
      "2019-09-10 12:43:55,109 - stpipe.Detector1Pipeline.jump - INFO - The execution time in seconds: 14.852035\n",
      "2019-09-10 12:43:55,112 - stpipe.Detector1Pipeline.jump - INFO - Step jump done\n",
      "2019-09-10 12:43:55,246 - stpipe.Detector1Pipeline.ramp_fit - INFO - Step ramp_fit running with args (<RampModel(6, 10, 416, 72) from test.fits>,).\n",
      "2019-09-10 12:43:55,271 - stpipe.Detector1Pipeline.ramp_fit - INFO - Using READNOISE reference file: /grp/crds/cache/references/jwst/jwst_miri_readnoise_0039.fits\n",
      "2019-09-10 12:43:55,303 - stpipe.Detector1Pipeline.ramp_fit - INFO - Using GAIN reference file: /grp/crds/cache/references/jwst/jwst_miri_gain_0008.fits\n",
      "2019-09-10 12:43:55,327 - stpipe.Detector1Pipeline.ramp_fit - INFO - Using algorithm = ols\n",
      "2019-09-10 12:43:55,328 - stpipe.Detector1Pipeline.ramp_fit - INFO - Using weighting = optimal\n",
      "2019-09-10 12:43:55,381 - stpipe.Detector1Pipeline.ramp_fit - INFO - Number of leading groups that are flagged as DO_NOT_USE: 1\n",
      "2019-09-10 12:43:55,383 - stpipe.Detector1Pipeline.ramp_fit - INFO - MIRI dataset has all pixels in the final group flagged as DO_NOT_USE.\n",
      "2019-09-10 12:43:55,384 - stpipe.Detector1Pipeline.ramp_fit - INFO - Effective integration time per group: 0.15904\n",
      "2019-09-10 12:43:55,389 - stpipe.Detector1Pipeline.ramp_fit - INFO - Extracting gain subarray to match science data\n",
      "2019-09-10 12:44:05,815 - stpipe.Detector1Pipeline.ramp_fit - INFO - Number of groups per integration: 10\n",
      "2019-09-10 12:44:05,815 - stpipe.Detector1Pipeline.ramp_fit - INFO - Number of integrations: 6\n",
      "2019-09-10 12:44:05,847 - stpipe.Detector1Pipeline.ramp_fit - INFO - Step ramp_fit done\n",
      "2019-09-10 12:44:06,001 - stpipe.Detector1Pipeline.gain_scale - INFO - Step gain_scale running with args (<ImageModel(416, 72) from test.fits>,).\n",
      "2019-09-10 12:44:06,046 - stpipe.Detector1Pipeline.gain_scale - INFO - GAINFACT not found in gain reference file\n",
      "2019-09-10 12:44:06,047 - stpipe.Detector1Pipeline.gain_scale - INFO - Step will be skipped\n",
      "2019-09-10 12:44:06,051 - stpipe.Detector1Pipeline.gain_scale - INFO - Step gain_scale done\n",
      "2019-09-10 12:44:06,199 - stpipe.Detector1Pipeline.gain_scale - INFO - Step gain_scale running with args (<CubeModel(6, 416, 72) from test.fits>,).\n",
      "2019-09-10 12:44:06,241 - stpipe.Detector1Pipeline.gain_scale - INFO - GAINFACT not found in gain reference file\n",
      "2019-09-10 12:44:06,242 - stpipe.Detector1Pipeline.gain_scale - INFO - Step will be skipped\n",
      "2019-09-10 12:44:06,246 - stpipe.Detector1Pipeline.gain_scale - INFO - Step gain_scale done\n",
      "2019-09-10 12:44:06,247 - stpipe.Detector1Pipeline - INFO - ... ending calwebb_detector1\n",
      "2019-09-10 12:44:06,248 - stpipe.Detector1Pipeline - INFO - Step Detector1Pipeline done\n"
     ]
    },
    {
     "data": {
      "text/plain": [
       "<ImageModel(416, 72) from test.fits>"
      ]
     },
     "execution_count": 85,
     "metadata": {},
     "output_type": "execute_result"
    }
   ],
   "source": [
    "output_model = Detector1Pipeline.call(\"test.fits\")\n",
    "output_model"
   ]
  },
  {
   "cell_type": "markdown",
   "metadata": {},
   "source": [
    "***\n",
    "<a id='pipeline_configs'></a>\n",
    "## About Configuration Files\n",
    "\n",
    "Configuration files are optional inputs for each step of the pipeline, as well as for the pipeline itself. These files list step-specific parameters, and can also be used to control which steps are run as part of the pipeline.\n",
    "\n",
    "You can get the full compliment of configuration files using the collect_pipeline_cfgs convenience function from the command line:\n",
    "\n",
    "    $ collect_pipeline_cfgs ./\n",
    "    \n",
    "The above can be executed in a notebook terminal window or by using the cell ! shell escape command.\n",
    "    \n",
    "This creates a copy of all configuration files, for all steps and all JWST Instruments. Note that default parameters in the config files are not necessarily optimized for any particular instrument.\n",
    "\n",
    "Each of these configuration files can be customized to control pipeline behavior. For example, the configuration file for the Level 1 detector pipeline is called calwebb_detector1.cfg and contains a list (not necessarily in order) of the steps run as part of the Level 1 pipeline.\n",
    "\n",
    "name = \"Detector1Pipeline\"\n",
    "class = \"jwst.pipeline.Detector1Pipeline\"\n",
    "save_calibrated_ramp = False\n",
    "\n",
    "    [steps]\n",
    "      [[group_scale]]\n",
    "        config_file = group_scale.cfg\n",
    "      [[dq_init]]\n",
    "        config_file = dq_init.cfg\n",
    "      [[saturation]]\n",
    "        config_file = saturation.cfg\n",
    "      [[ipc]]\n",
    "        skip = True\n",
    "      [[superbias]]\n",
    "        config_file = superbias.cfg\n",
    "      [[refpix]]\n",
    "        config_file = refpix.cfg\n",
    "      [[rscd]]\n",
    "        config_file = rscd.cfg\n",
    "      [[firstframe]]\n",
    "        config_file = firstframe.cfg\n",
    "      [[lastframe]]\n",
    "        config_file = lastframe.cfg\n",
    "      [[linearity]]\n",
    "        config_file = linearity.cfg\n",
    "      [[dark_current]]\n",
    "        config_file = dark_current.cfg\n",
    "      [[persistence]]\n",
    "        config_file = persistence.cfg\n",
    "      [[jump]]\n",
    "        config_file = jump.cfg\n",
    "      [[ramp_fit]]\n",
    "        config_file = ramp_fit.cfg\n",
    "      [[gain_scale]]\n",
    "        config_file = gain_scale.cfg\n",
    "\n",
    "In this example, the ipc step will be skipped (skip = True), and the output from the superbias step will be saved (save_results = True).\n",
    "\n",
    "Note that calwebb_detector1.cfg lists a configuration file for each pipeline step. You can customize a particular pipeline step by editing the parameters in its configuration file. \n"
   ]
  },
  {
   "cell_type": "markdown",
   "metadata": {},
   "source": [
    "### Config File Setup\n",
    "\n",
    "To obtain all config files in a \"cfgs\" directory execute the following cell.   \n",
    "\n",
    "If you want to start over,  uncomment the \"rm -rf ./cfgs\" command.\n"
   ]
  },
  {
   "cell_type": "code",
   "execution_count": 86,
   "metadata": {},
   "outputs": [
    {
     "name": "stdout",
     "output_type": "stream",
     "text": [
      "align_refs.cfg               guider_cds.cfg\r\n",
      "ami_analyze.cfg              hlsp.cfg\r\n",
      "ami_average.cfg              imprint.cfg\r\n",
      "ami_normalize.cfg            ipc.cfg\r\n",
      "assign_wcs.cfg               jump.cfg\r\n",
      "background.cfg               klip.cfg\r\n",
      "calwebb_ami3.cfg             lastframe.cfg\r\n",
      "calwebb_coron3.cfg           linear_pipeline.cfg\r\n",
      "calwebb_dark.cfg             linearity.cfg\r\n",
      "calwebb_detector1.cfg        master_background.cfg\r\n",
      "calwebb_detector1.cfg~       mrs_imatch.cfg\r\n",
      "calwebb_guider.cfg           outlier_detection.cfg\r\n",
      "calwebb_image2.cfg           outlier_detection_scaled.cfg\r\n",
      "calwebb_image3.cfg           outlier_detection_stack.cfg\r\n",
      "calwebb_nrslamp-spec2.cfg    outlier_detection_tso.cfg\r\n",
      "calwebb_spec2.cfg            pathloss.cfg\r\n",
      "calwebb_spec3.cfg            persistence.cfg\r\n",
      "calwebb_tso-image2.cfg       persistence.cfg~\r\n",
      "calwebb_tso-spec2.cfg        photom.cfg\r\n",
      "calwebb_tso1.cfg             ramp_fit.cfg\r\n",
      "calwebb_tso3.cfg             refpix.cfg\r\n",
      "calwebb_wfs-image2.cfg       resample.cfg\r\n",
      "calwebb_wfs-image3.cfg       resample_spec.cfg\r\n",
      "combine_1d.cfg               reset.cfg\r\n",
      "cube_build.cfg               rscd.cfg\r\n",
      "dark_current.cfg             saturation.cfg\r\n",
      "dq_init.cfg                  skymatch.cfg\r\n",
      "emission.cfg                 source_catalog.cfg\r\n",
      "engdblog.cfg                 srctype.cfg\r\n",
      "extract_1d.cfg               stack_refs.cfg\r\n",
      "extract_2d.cfg               straylight.cfg\r\n",
      "firstframe.cfg               subtract_images.cfg\r\n",
      "flat_field.cfg               superbias.cfg\r\n",
      "fringe.cfg                   tweakreg.cfg\r\n",
      "gain_scale.cfg               wfs_combine.cfg\r\n",
      "group_scale.cfg              white_light.cfg\r\n"
     ]
    }
   ],
   "source": [
    "# ! rm -rf ./cfgs\n",
    "! [ ! -d \"./cfgs\" ] && collect_pipeline_cfgs cfgs\n",
    "! ls ./cfgs"
   ]
  },
  {
   "cell_type": "markdown",
   "metadata": {},
   "source": [
    "***\n",
    "<a id=\"pipeline_with_cfgs\"></a>\n",
    "## Run Pipeline with Configuration Files\n",
    "\n",
    "In your cfgs directory, edit the file calwebb_detector1.cfg and change this:\n",
    "\n",
    "      [[dark_current]]\n",
    "        config_file = dark_current.cfg\n",
    "        \n",
    "to this:\n",
    "\n",
    "      [[dark_current]]\n",
    "        config_file = dark_current.cfg\n",
    "        save_results = True\n",
    "\n",
    "This will command the DarkCurrentStep to save its output in a file which can be used to run the PersistenceStep in a standalone mode later.\n",
    "\n",
    "Then call the Detector1Pipeline with your modified config file."
   ]
  },
  {
   "cell_type": "code",
   "execution_count": 87,
   "metadata": {},
   "outputs": [
    {
     "name": "stderr",
     "output_type": "stream",
     "text": [
      "2019-09-10 12:44:06,525 - stpipe.Detector1Pipeline - INFO - Detector1Pipeline instance created.\n",
      "2019-09-10 12:44:06,527 - stpipe.Detector1Pipeline.group_scale - INFO - GroupScaleStep instance created.\n",
      "2019-09-10 12:44:06,528 - stpipe.Detector1Pipeline.dq_init - INFO - DQInitStep instance created.\n",
      "2019-09-10 12:44:06,530 - stpipe.Detector1Pipeline.saturation - INFO - SaturationStep instance created.\n",
      "2019-09-10 12:44:06,532 - stpipe.Detector1Pipeline.ipc - INFO - IPCStep instance created.\n",
      "2019-09-10 12:44:06,534 - stpipe.Detector1Pipeline.superbias - INFO - SuperBiasStep instance created.\n",
      "2019-09-10 12:44:06,536 - stpipe.Detector1Pipeline.refpix - INFO - RefPixStep instance created.\n",
      "2019-09-10 12:44:06,538 - stpipe.Detector1Pipeline.rscd - INFO - RSCD_Step instance created.\n",
      "2019-09-10 12:44:06,542 - stpipe.Detector1Pipeline.firstframe - INFO - FirstFrameStep instance created.\n",
      "2019-09-10 12:44:06,544 - stpipe.Detector1Pipeline.lastframe - INFO - LastFrameStep instance created.\n",
      "2019-09-10 12:44:06,546 - stpipe.Detector1Pipeline.linearity - INFO - LinearityStep instance created.\n",
      "2019-09-10 12:44:06,548 - stpipe.Detector1Pipeline.dark_current - INFO - DarkCurrentStep instance created.\n",
      "2019-09-10 12:44:06,550 - stpipe.Detector1Pipeline.persistence - INFO - PersistenceStep instance created.\n",
      "2019-09-10 12:44:06,552 - stpipe.Detector1Pipeline.jump - INFO - JumpStep instance created.\n",
      "2019-09-10 12:44:06,554 - stpipe.Detector1Pipeline.ramp_fit - INFO - RampFitStep instance created.\n",
      "2019-09-10 12:44:06,559 - stpipe.Detector1Pipeline.gain_scale - INFO - GainScaleStep instance created.\n",
      "2019-09-10 12:44:06,712 - stpipe.Detector1Pipeline - INFO - Step Detector1Pipeline running with args ('test.fits',).\n",
      "2019-09-10 12:44:06,901 - stpipe.Detector1Pipeline - WARNING - /Users/jmiller/miniconda3/envs/crds-env/lib/python3.7/site-packages/jwst/datamodels/util.py:165: NoTypeWarning: model_type not found. Opening test.fits as a RampModel\n",
      "  warnings.warn(errmsg, NoTypeWarning)\n",
      "\n",
      "2019-09-10 12:44:06,902 - stpipe.Detector1Pipeline - INFO - Prefetching reference files for dataset: 'test.fits' reftypes = ['dark', 'gain', 'linearity', 'mask', 'persat', 'readnoise', 'refpix', 'rscd', 'saturation', 'superbias', 'trapdensity', 'trappars']\n",
      "2019-09-10 12:44:06,915 - stpipe.Detector1Pipeline - INFO - Prefetch for DARK reference file is '/grp/crds/cache/references/jwst/jwst_miri_dark_0048.fits'.\n",
      "2019-09-10 12:44:06,918 - stpipe.Detector1Pipeline - INFO - Prefetch for GAIN reference file is '/grp/crds/cache/references/jwst/jwst_miri_gain_0008.fits'.\n",
      "2019-09-10 12:44:06,920 - stpipe.Detector1Pipeline - INFO - Prefetch for LINEARITY reference file is '/grp/crds/cache/references/jwst/jwst_miri_linearity_0024.fits'.\n",
      "2019-09-10 12:44:06,923 - stpipe.Detector1Pipeline - INFO - Prefetch for MASK reference file is '/grp/crds/cache/references/jwst/jwst_miri_mask_0023.fits'.\n",
      "2019-09-10 12:44:06,927 - stpipe.Detector1Pipeline - INFO - Prefetch for PERSAT reference file is 'N/A'.\n",
      "2019-09-10 12:44:06,928 - stpipe.Detector1Pipeline - INFO - Prefetch for READNOISE reference file is '/grp/crds/cache/references/jwst/jwst_miri_readnoise_0039.fits'.\n",
      "2019-09-10 12:44:06,930 - stpipe.Detector1Pipeline - INFO - Prefetch for REFPIX reference file is 'N/A'.\n",
      "2019-09-10 12:44:06,930 - stpipe.Detector1Pipeline - INFO - Prefetch for RSCD reference file is '/grp/crds/cache/references/jwst/jwst_miri_rscd_0009.fits'.\n",
      "2019-09-10 12:44:06,933 - stpipe.Detector1Pipeline - INFO - Prefetch for SATURATION reference file is '/grp/crds/cache/references/jwst/jwst_miri_saturation_0022.fits'.\n",
      "2019-09-10 12:44:06,935 - stpipe.Detector1Pipeline - INFO - Prefetch for SUPERBIAS reference file is 'N/A'.\n",
      "2019-09-10 12:44:06,936 - stpipe.Detector1Pipeline - INFO - Prefetch for TRAPDENSITY reference file is 'N/A'.\n",
      "2019-09-10 12:44:06,937 - stpipe.Detector1Pipeline - INFO - Prefetch for TRAPPARS reference file is 'N/A'.\n",
      "2019-09-10 12:44:06,938 - stpipe.Detector1Pipeline - INFO - Starting calwebb_detector1 ...\n",
      "2019-09-10 12:44:07,259 - stpipe.Detector1Pipeline.group_scale - INFO - Step group_scale running with args (<RampModel(6, 10, 416, 72) from test.fits>,).\n",
      "2019-09-10 12:44:07,272 - stpipe.Detector1Pipeline.group_scale - INFO - NFRAMES and FRMDIVSR are equal; correction not needed\n",
      "2019-09-10 12:44:07,273 - stpipe.Detector1Pipeline.group_scale - INFO - Step will be skipped\n",
      "2019-09-10 12:44:07,275 - stpipe.Detector1Pipeline.group_scale - INFO - Step group_scale done\n",
      "2019-09-10 12:44:07,428 - stpipe.Detector1Pipeline.dq_init - INFO - Step dq_init running with args (<RampModel(6, 10, 416, 72) from test.fits>,).\n",
      "2019-09-10 12:44:07,451 - stpipe.Detector1Pipeline.dq_init - INFO - Using MASK reference file /grp/crds/cache/references/jwst/jwst_miri_mask_0023.fits\n",
      "2019-09-10 12:44:07,554 - stpipe.Detector1Pipeline.dq_init - INFO - Extracting mask subarray to match science data\n",
      "2019-09-10 12:44:07,564 - stpipe.Detector1Pipeline.dq_init - INFO - Step dq_init done\n",
      "2019-09-10 12:44:07,702 - stpipe.Detector1Pipeline - WARNING - /Users/jmiller/miniconda3/envs/crds-env/lib/python3.7/site-packages/jwst/stpipe/step.py:341: ResourceWarning: unclosed file <_io.FileIO name='test.fits' mode='rb' closefd=True>\n",
      "  gc.collect()\n",
      "\n",
      "2019-09-10 12:44:07,706 - stpipe.Detector1Pipeline.saturation - INFO - Step saturation running with args (<RampModel(6, 10, 416, 72) from test.fits>,).\n",
      "2019-09-10 12:44:07,726 - stpipe.Detector1Pipeline.saturation - INFO - Using SATURATION reference file /grp/crds/cache/references/jwst/jwst_miri_saturation_0022.fits\n",
      "2019-09-10 12:44:07,803 - stpipe.Detector1Pipeline.saturation - INFO - Extracting reference file subarray to match science data\n",
      "2019-09-10 12:44:07,828 - stpipe.Detector1Pipeline.saturation - INFO - Step saturation done\n",
      "2019-09-10 12:44:07,951 - stpipe.Detector1Pipeline.ipc - INFO - Step ipc running with args (<RampModel(6, 10, 416, 72) from test.fits>,).\n",
      "2019-09-10 12:44:07,953 - stpipe.Detector1Pipeline.ipc - INFO - Step skipped.\n",
      "2019-09-10 12:44:07,954 - stpipe.Detector1Pipeline.ipc - INFO - Step ipc done\n",
      "2019-09-10 12:44:08,084 - stpipe.Detector1Pipeline.firstframe - INFO - Step firstframe running with args (<RampModel(6, 10, 416, 72) from test.fits>,).\n",
      "2019-09-10 12:44:08,127 - stpipe.Detector1Pipeline.firstframe - INFO - Step firstframe done\n",
      "2019-09-10 12:44:08,256 - stpipe.Detector1Pipeline.lastframe - INFO - Step lastframe running with args (<RampModel(6, 10, 416, 72) from test.fits>,).\n",
      "2019-09-10 12:44:08,309 - stpipe.Detector1Pipeline.lastframe - INFO - Step lastframe done\n",
      "2019-09-10 12:44:08,439 - stpipe.Detector1Pipeline.linearity - INFO - Step linearity running with args (<RampModel(6, 10, 416, 72) from test.fits>,).\n",
      "2019-09-10 12:44:08,455 - stpipe.Detector1Pipeline.linearity - INFO - Using Linearity reference file /grp/crds/cache/references/jwst/jwst_miri_linearity_0024.fits\n",
      "2019-09-10 12:44:08,534 - stpipe.Detector1Pipeline.linearity - INFO - Extracting linearity subarray to match science data\n",
      "2019-09-10 12:44:08,572 - stpipe.Detector1Pipeline.linearity - INFO - Step linearity done\n",
      "2019-09-10 12:44:08,699 - stpipe.Detector1Pipeline.rscd - INFO - Step rscd running with args (<RampModel(6, 10, 416, 72) from test.fits>,).\n",
      "2019-09-10 12:44:08,715 - stpipe.Detector1Pipeline.rscd - INFO - Using RSCD reference file /grp/crds/cache/references/jwst/jwst_miri_rscd_0009.fits\n",
      "2019-09-10 12:44:08,774 - stpipe.Detector1Pipeline.rscd - INFO -  Working on integration 2\n",
      "2019-09-10 12:44:08,794 - stpipe.Detector1Pipeline.rscd - INFO -  Working on integration 3\n",
      "2019-09-10 12:44:08,809 - stpipe.Detector1Pipeline.rscd - INFO -  Working on integration 4\n",
      "2019-09-10 12:44:08,824 - stpipe.Detector1Pipeline.rscd - INFO -  Working on integration 5\n",
      "2019-09-10 12:44:08,836 - stpipe.Detector1Pipeline.rscd - INFO -  Working on integration 6\n",
      "2019-09-10 12:44:08,858 - stpipe.Detector1Pipeline.rscd - INFO - Step rscd done\n",
      "2019-09-10 12:44:08,987 - stpipe.Detector1Pipeline.dark_current - INFO - Step dark_current running with args (<RampModel(6, 10, 416, 72) from test.fits>,).\n",
      "2019-09-10 12:44:09,009 - stpipe.Detector1Pipeline.dark_current - INFO - Using DARK reference file /grp/crds/cache/references/jwst/jwst_miri_dark_0048.fits\n",
      "2019-09-10 12:44:09,068 - stpipe.Detector1Pipeline.dark_current - INFO - Science data nints=6, ngroups=10, nframes=1, groupgap=0\n"
     ]
    },
    {
     "name": "stderr",
     "output_type": "stream",
     "text": [
      "2019-09-10 12:44:09,068 - stpipe.Detector1Pipeline.dark_current - INFO - Dark data nints=2, ngroups=1000, nframes=1, groupgap=0\n",
      "2019-09-10 12:44:09,298 - stpipe.Detector1Pipeline.dark_current - INFO - Step dark_current done\n",
      "2019-09-10 12:44:09,484 - stpipe.Detector1Pipeline.refpix - INFO - Step refpix running with args (<RampModel(6, 10, 416, 72) from test.fits>,).\n",
      "2019-09-10 12:44:09,500 - stpipe.Detector1Pipeline.refpix - INFO - use_side_ref_pixels = True\n",
      "2019-09-10 12:44:09,501 - stpipe.Detector1Pipeline.refpix - INFO - odd_even_columns = True\n",
      "2019-09-10 12:44:09,502 - stpipe.Detector1Pipeline.refpix - INFO - side_smoothing_length = 11\n",
      "2019-09-10 12:44:09,503 - stpipe.Detector1Pipeline.refpix - INFO - side_gain = 1.000000\n",
      "2019-09-10 12:44:09,504 - stpipe.Detector1Pipeline.refpix - INFO - odd_even_rows = True\n",
      "2019-09-10 12:44:09,548 - stpipe.Detector1Pipeline.refpix - WARNING - Refpix correction skipped for MIRI subarrays\n",
      "2019-09-10 12:44:09,551 - stpipe.Detector1Pipeline.refpix - INFO - Step refpix done\n",
      "2019-09-10 12:44:09,703 - stpipe.Detector1Pipeline.jump - INFO - Step jump running with args (<RampModel(6, 10, 416, 72) from test.fits>,).\n",
      "2019-09-10 12:44:09,720 - stpipe.Detector1Pipeline.jump - INFO - CR rejection threshold = 4 sigma\n",
      "2019-09-10 12:44:09,726 - stpipe.Detector1Pipeline.jump - INFO - Using GAIN reference file: /grp/crds/cache/references/jwst/jwst_miri_gain_0008.fits\n",
      "2019-09-10 12:44:09,761 - stpipe.Detector1Pipeline.jump - INFO - Using READNOISE reference file: /grp/crds/cache/references/jwst/jwst_miri_readnoise_0039.fits\n",
      "2019-09-10 12:44:09,810 - stpipe.Detector1Pipeline.jump - INFO - Extracting gain subarray to match science data\n",
      "2019-09-10 12:44:09,815 - stpipe.Detector1Pipeline.jump - INFO - Executing two-point difference method\n",
      "2019-09-10 12:44:09,859 - stpipe.Detector1Pipeline.jump - INFO -  working on integration 1\n",
      "2019-09-10 12:44:09,874 - stpipe.Detector1Pipeline.jump - INFO - From highest outlier Two point found 24230 pixels with at least one CR\n",
      "2019-09-10 12:44:12,204 - stpipe.Detector1Pipeline.jump - INFO -  working on integration 2\n",
      "2019-09-10 12:44:12,216 - stpipe.Detector1Pipeline.jump - INFO - From highest outlier Two point found 19928 pixels with at least one CR\n",
      "2019-09-10 12:44:14,481 - stpipe.Detector1Pipeline.jump - INFO -  working on integration 3\n",
      "2019-09-10 12:44:14,493 - stpipe.Detector1Pipeline.jump - INFO - From highest outlier Two point found 22062 pixels with at least one CR\n",
      "2019-09-10 12:44:16,896 - stpipe.Detector1Pipeline.jump - INFO -  working on integration 4\n",
      "2019-09-10 12:44:16,908 - stpipe.Detector1Pipeline.jump - INFO - From highest outlier Two point found 24269 pixels with at least one CR\n",
      "2019-09-10 12:44:19,322 - stpipe.Detector1Pipeline.jump - INFO -  working on integration 5\n",
      "2019-09-10 12:44:19,336 - stpipe.Detector1Pipeline.jump - INFO - From highest outlier Two point found 22088 pixels with at least one CR\n",
      "2019-09-10 12:44:21,681 - stpipe.Detector1Pipeline.jump - INFO -  working on integration 6\n",
      "2019-09-10 12:44:21,692 - stpipe.Detector1Pipeline.jump - INFO - From highest outlier Two point found 19956 pixels with at least one CR\n",
      "2019-09-10 12:44:24,169 - stpipe.Detector1Pipeline.jump - INFO - The execution time in seconds: 14.448619\n",
      "2019-09-10 12:44:24,172 - stpipe.Detector1Pipeline.jump - INFO - Step jump done\n",
      "2019-09-10 12:44:24,311 - stpipe.Detector1Pipeline.ramp_fit - INFO - Step ramp_fit running with args (<RampModel(6, 10, 416, 72) from test.fits>,).\n",
      "2019-09-10 12:44:24,334 - stpipe.Detector1Pipeline.ramp_fit - INFO - Using READNOISE reference file: /grp/crds/cache/references/jwst/jwst_miri_readnoise_0039.fits\n",
      "2019-09-10 12:44:24,365 - stpipe.Detector1Pipeline.ramp_fit - INFO - Using GAIN reference file: /grp/crds/cache/references/jwst/jwst_miri_gain_0008.fits\n",
      "2019-09-10 12:44:24,391 - stpipe.Detector1Pipeline.ramp_fit - INFO - Using algorithm = ols\n",
      "2019-09-10 12:44:24,392 - stpipe.Detector1Pipeline.ramp_fit - INFO - Using weighting = optimal\n",
      "2019-09-10 12:44:24,443 - stpipe.Detector1Pipeline.ramp_fit - INFO - Number of leading groups that are flagged as DO_NOT_USE: 1\n",
      "2019-09-10 12:44:24,445 - stpipe.Detector1Pipeline.ramp_fit - INFO - MIRI dataset has all pixels in the final group flagged as DO_NOT_USE.\n",
      "2019-09-10 12:44:24,447 - stpipe.Detector1Pipeline.ramp_fit - INFO - Effective integration time per group: 0.15904\n",
      "2019-09-10 12:44:24,451 - stpipe.Detector1Pipeline.ramp_fit - INFO - Extracting gain subarray to match science data\n",
      "2019-09-10 12:44:34,978 - stpipe.Detector1Pipeline.ramp_fit - INFO - Number of groups per integration: 10\n",
      "2019-09-10 12:44:34,979 - stpipe.Detector1Pipeline.ramp_fit - INFO - Number of integrations: 6\n",
      "2019-09-10 12:44:35,013 - stpipe.Detector1Pipeline.ramp_fit - INFO - Step ramp_fit done\n",
      "2019-09-10 12:44:35,159 - stpipe.Detector1Pipeline.gain_scale - INFO - Step gain_scale running with args (<ImageModel(416, 72) from test.fits>,).\n",
      "2019-09-10 12:44:35,202 - stpipe.Detector1Pipeline.gain_scale - INFO - GAINFACT not found in gain reference file\n",
      "2019-09-10 12:44:35,203 - stpipe.Detector1Pipeline.gain_scale - INFO - Step will be skipped\n",
      "2019-09-10 12:44:35,206 - stpipe.Detector1Pipeline.gain_scale - INFO - Step gain_scale done\n",
      "2019-09-10 12:44:35,349 - stpipe.Detector1Pipeline.gain_scale - INFO - Step gain_scale running with args (<CubeModel(6, 416, 72) from test.fits>,).\n",
      "2019-09-10 12:44:35,396 - stpipe.Detector1Pipeline.gain_scale - INFO - GAINFACT not found in gain reference file\n",
      "2019-09-10 12:44:35,397 - stpipe.Detector1Pipeline.gain_scale - INFO - Step will be skipped\n",
      "2019-09-10 12:44:35,400 - stpipe.Detector1Pipeline.gain_scale - INFO - Step gain_scale done\n",
      "2019-09-10 12:44:35,401 - stpipe.Detector1Pipeline - INFO - ... ending calwebb_detector1\n",
      "2019-09-10 12:44:35,402 - stpipe.Detector1Pipeline - INFO - Step Detector1Pipeline done\n"
     ]
    },
    {
     "data": {
      "text/plain": [
       "<ImageModel(416, 72) from test.fits>"
      ]
     },
     "execution_count": 87,
     "metadata": {},
     "output_type": "execute_result"
    }
   ],
   "source": [
    "output_model = Detector1Pipeline.call(\"test.fits\", config_file='cfgs/calwebb_detector1.cfg')\n",
    "output_model"
   ]
  },
  {
   "cell_type": "code",
   "execution_count": 88,
   "metadata": {},
   "outputs": [
    {
     "name": "stdout",
     "output_type": "stream",
     "text": [
      "test_dark_current.fits\r\n"
     ]
    }
   ],
   "source": [
    "!ls test_dark_current.fits   # you should see a file since you set save_results=True"
   ]
  },
  {
   "cell_type": "code",
   "execution_count": 89,
   "metadata": {},
   "outputs": [
    {
     "data": {
      "image/png": "[encoded data removed]",
      "text/plain": [
       "<Figure size 864x864 with 2 Axes>"
      ]
     },
     "metadata": {
      "needs_background": "light"
     },
     "output_type": "display_data"
    }
   ],
   "source": [
    "plot_image(output_model.data)"
   ]
  },
  {
   "cell_type": "code",
   "execution_count": 90,
   "metadata": {},
   "outputs": [
    {
     "data": {
      "image/png": "[encoded data removed]",
      "text/plain": [
       "<Figure size 864x864 with 2 Axes>"
      ]
     },
     "metadata": {
      "needs_background": "light"
     },
     "output_type": "display_data"
    }
   ],
   "source": [
    "plot_image(\"test_dark_current.fits\", index=(0,0))"
   ]
  },
  {
   "cell_type": "markdown",
   "metadata": {},
   "source": [
    "***\n",
    "<a id=\"pipeline_no_configs\"></a>\n",
    "## Run Pipeline with Parameters Set Programmatically\n",
    "\n",
    "You can also run the pipeline without relying on configuration files by setting parameters programmatically, and relying on the defaults in the pipeline.\n",
    "\n",
    "**NOTE:**  Before running this step, *remove* the save_results from your calwebb_detector1.cfg file so that it's clear that the programmatic setting below was responsible for the save."
   ]
  },
  {
   "cell_type": "code",
   "execution_count": 91,
   "metadata": {},
   "outputs": [
    {
     "name": "stderr",
     "output_type": "stream",
     "text": [
      "2019-09-10 12:45:05,858 - stpipe.Detector1Pipeline - INFO - Detector1Pipeline instance created.\n",
      "2019-09-10 12:45:05,860 - stpipe.Detector1Pipeline.group_scale - INFO - GroupScaleStep instance created.\n",
      "2019-09-10 12:45:05,862 - stpipe.Detector1Pipeline.dq_init - INFO - DQInitStep instance created.\n",
      "2019-09-10 12:45:05,865 - stpipe.Detector1Pipeline.saturation - INFO - SaturationStep instance created.\n",
      "2019-09-10 12:45:05,866 - stpipe.Detector1Pipeline.ipc - INFO - IPCStep instance created.\n",
      "2019-09-10 12:45:05,868 - stpipe.Detector1Pipeline.superbias - INFO - SuperBiasStep instance created.\n",
      "2019-09-10 12:45:05,870 - stpipe.Detector1Pipeline.refpix - INFO - RefPixStep instance created.\n",
      "2019-09-10 12:45:05,872 - stpipe.Detector1Pipeline.rscd - INFO - RSCD_Step instance created.\n",
      "2019-09-10 12:45:05,874 - stpipe.Detector1Pipeline.firstframe - INFO - FirstFrameStep instance created.\n",
      "2019-09-10 12:45:05,880 - stpipe.Detector1Pipeline.lastframe - INFO - LastFrameStep instance created.\n",
      "2019-09-10 12:45:05,882 - stpipe.Detector1Pipeline.linearity - INFO - LinearityStep instance created.\n",
      "2019-09-10 12:45:05,884 - stpipe.Detector1Pipeline.dark_current - INFO - DarkCurrentStep instance created.\n",
      "2019-09-10 12:45:05,887 - stpipe.Detector1Pipeline.persistence - INFO - PersistenceStep instance created.\n",
      "2019-09-10 12:45:05,890 - stpipe.Detector1Pipeline.jump - INFO - JumpStep instance created.\n",
      "2019-09-10 12:45:05,893 - stpipe.Detector1Pipeline.ramp_fit - INFO - RampFitStep instance created.\n",
      "2019-09-10 12:45:05,896 - stpipe.Detector1Pipeline.gain_scale - INFO - GainScaleStep instance created.\n",
      "2019-09-10 12:45:06,107 - stpipe.Detector1Pipeline - INFO - Step Detector1Pipeline running with args ('test.fits',).\n",
      "2019-09-10 12:45:06,282 - stpipe.Detector1Pipeline - WARNING - /Users/jmiller/miniconda3/envs/crds-env/lib/python3.7/site-packages/jwst/datamodels/util.py:165: NoTypeWarning: model_type not found. Opening test.fits as a RampModel\n",
      "  warnings.warn(errmsg, NoTypeWarning)\n",
      "\n",
      "2019-09-10 12:45:06,284 - stpipe.Detector1Pipeline - INFO - Prefetching reference files for dataset: 'test.fits' reftypes = ['dark', 'gain', 'ipc', 'linearity', 'mask', 'persat', 'readnoise', 'refpix', 'rscd', 'saturation', 'superbias', 'trapdensity', 'trappars']\n",
      "2019-09-10 12:45:06,400 - stpipe.Detector1Pipeline - INFO - Prefetch for DARK reference file is '/grp/crds/cache/references/jwst/jwst_miri_dark_0048.fits'.\n",
      "2019-09-10 12:45:06,404 - stpipe.Detector1Pipeline - INFO - Prefetch for GAIN reference file is '/grp/crds/cache/references/jwst/jwst_miri_gain_0008.fits'.\n",
      "2019-09-10 12:45:06,408 - stpipe.Detector1Pipeline - INFO - Prefetch for IPC reference file is '/grp/crds/cache/references/jwst/jwst_miri_ipc_0009.fits'.\n",
      "2019-09-10 12:45:06,414 - stpipe.Detector1Pipeline - INFO - Prefetch for LINEARITY reference file is '/grp/crds/cache/references/jwst/jwst_miri_linearity_0024.fits'.\n",
      "2019-09-10 12:45:06,421 - stpipe.Detector1Pipeline - INFO - Prefetch for MASK reference file is '/grp/crds/cache/references/jwst/jwst_miri_mask_0023.fits'.\n",
      "2019-09-10 12:45:06,425 - stpipe.Detector1Pipeline - INFO - Prefetch for PERSAT reference file is 'N/A'.\n",
      "2019-09-10 12:45:06,426 - stpipe.Detector1Pipeline - INFO - Prefetch for READNOISE reference file is '/grp/crds/cache/references/jwst/jwst_miri_readnoise_0039.fits'.\n",
      "2019-09-10 12:45:06,429 - stpipe.Detector1Pipeline - INFO - Prefetch for REFPIX reference file is 'N/A'.\n",
      "2019-09-10 12:45:06,430 - stpipe.Detector1Pipeline - INFO - Prefetch for RSCD reference file is '/grp/crds/cache/references/jwst/jwst_miri_rscd_0009.fits'.\n",
      "2019-09-10 12:45:06,438 - stpipe.Detector1Pipeline - INFO - Prefetch for SATURATION reference file is '/grp/crds/cache/references/jwst/jwst_miri_saturation_0022.fits'.\n",
      "2019-09-10 12:45:06,442 - stpipe.Detector1Pipeline - INFO - Prefetch for SUPERBIAS reference file is 'N/A'.\n",
      "2019-09-10 12:45:06,443 - stpipe.Detector1Pipeline - INFO - Prefetch for TRAPDENSITY reference file is 'N/A'.\n",
      "2019-09-10 12:45:06,444 - stpipe.Detector1Pipeline - INFO - Prefetch for TRAPPARS reference file is 'N/A'.\n",
      "2019-09-10 12:45:06,445 - stpipe.Detector1Pipeline - INFO - Starting calwebb_detector1 ...\n",
      "2019-09-10 12:45:06,752 - stpipe.Detector1Pipeline.group_scale - INFO - Step group_scale running with args (<RampModel(6, 10, 416, 72) from test.fits>,).\n",
      "2019-09-10 12:45:06,765 - stpipe.Detector1Pipeline.group_scale - INFO - NFRAMES and FRMDIVSR are equal; correction not needed\n",
      "2019-09-10 12:45:06,766 - stpipe.Detector1Pipeline.group_scale - INFO - Step will be skipped\n",
      "2019-09-10 12:45:06,767 - stpipe.Detector1Pipeline.group_scale - INFO - Step group_scale done\n",
      "2019-09-10 12:45:06,911 - stpipe.Detector1Pipeline.dq_init - INFO - Step dq_init running with args (<RampModel(6, 10, 416, 72) from test.fits>,).\n",
      "2019-09-10 12:45:07,014 - stpipe.Detector1Pipeline.dq_init - INFO - Using MASK reference file /grp/crds/cache/references/jwst/jwst_miri_mask_0023.fits\n",
      "2019-09-10 12:45:07,114 - stpipe.Detector1Pipeline.dq_init - INFO - Extracting mask subarray to match science data\n",
      "2019-09-10 12:45:07,125 - stpipe.Detector1Pipeline.dq_init - INFO - Step dq_init done\n",
      "2019-09-10 12:45:07,257 - stpipe.Detector1Pipeline - WARNING - /Users/jmiller/miniconda3/envs/crds-env/lib/python3.7/site-packages/jwst/stpipe/step.py:341: ResourceWarning: unclosed file <_io.FileIO name='test.fits' mode='rb' closefd=True>\n",
      "  gc.collect()\n",
      "\n",
      "2019-09-10 12:45:07,262 - stpipe.Detector1Pipeline.saturation - INFO - Step saturation running with args (<RampModel(6, 10, 416, 72) from test.fits>,).\n",
      "2019-09-10 12:45:07,283 - stpipe.Detector1Pipeline.saturation - INFO - Using SATURATION reference file /grp/crds/cache/references/jwst/jwst_miri_saturation_0022.fits\n",
      "2019-09-10 12:45:07,426 - stpipe.Detector1Pipeline.saturation - INFO - Extracting reference file subarray to match science data\n",
      "2019-09-10 12:45:07,451 - stpipe.Detector1Pipeline.saturation - INFO - Step saturation done\n",
      "2019-09-10 12:45:07,577 - stpipe.Detector1Pipeline.ipc - INFO - Step ipc running with args (<RampModel(6, 10, 416, 72) from test.fits>,).\n",
      "2019-09-10 12:45:07,635 - stpipe.Detector1Pipeline.ipc - INFO - Using IPC reference file /grp/crds/cache/references/jwst/jwst_miri_ipc_0009.fits\n",
      "2019-09-10 12:45:07,749 - stpipe.Detector1Pipeline.ipc - INFO - Step ipc done\n",
      "2019-09-10 12:45:07,879 - stpipe.Detector1Pipeline.firstframe - INFO - Step firstframe running with args (<RampModel(6, 10, 416, 72) from test.fits>,).\n",
      "2019-09-10 12:45:07,919 - stpipe.Detector1Pipeline.firstframe - INFO - Step firstframe done\n",
      "2019-09-10 12:45:08,060 - stpipe.Detector1Pipeline.lastframe - INFO - Step lastframe running with args (<RampModel(6, 10, 416, 72) from test.fits>,).\n",
      "2019-09-10 12:45:08,099 - stpipe.Detector1Pipeline.lastframe - INFO - Step lastframe done\n",
      "2019-09-10 12:45:08,231 - stpipe.Detector1Pipeline.linearity - INFO - Step linearity running with args (<RampModel(6, 10, 416, 72) from test.fits>,).\n",
      "2019-09-10 12:45:08,247 - stpipe.Detector1Pipeline.linearity - INFO - Using Linearity reference file /grp/crds/cache/references/jwst/jwst_miri_linearity_0024.fits\n",
      "2019-09-10 12:45:08,325 - stpipe.Detector1Pipeline.linearity - INFO - Extracting linearity subarray to match science data\n",
      "2019-09-10 12:45:08,366 - stpipe.Detector1Pipeline.linearity - INFO - Step linearity done\n",
      "2019-09-10 12:45:08,496 - stpipe.Detector1Pipeline.rscd - INFO - Step rscd running with args (<RampModel(6, 10, 416, 72) from test.fits>,).\n",
      "2019-09-10 12:45:08,527 - stpipe.Detector1Pipeline.rscd - INFO - Using RSCD reference file /grp/crds/cache/references/jwst/jwst_miri_rscd_0009.fits\n",
      "2019-09-10 12:45:08,708 - stpipe.Detector1Pipeline.rscd - INFO -  Working on integration 2\n",
      "2019-09-10 12:45:08,728 - stpipe.Detector1Pipeline.rscd - INFO -  Working on integration 3\n",
      "2019-09-10 12:45:08,743 - stpipe.Detector1Pipeline.rscd - INFO -  Working on integration 4\n",
      "2019-09-10 12:45:08,774 - stpipe.Detector1Pipeline.rscd - INFO -  Working on integration 5\n",
      "2019-09-10 12:45:08,787 - stpipe.Detector1Pipeline.rscd - INFO -  Working on integration 6\n",
      "2019-09-10 12:45:08,813 - stpipe.Detector1Pipeline.rscd - INFO - Step rscd done\n",
      "2019-09-10 12:45:08,966 - stpipe.Detector1Pipeline.dark_current - INFO - Step dark_current running with args (<RampModel(6, 10, 416, 72) from test.fits>,).\n"
     ]
    },
    {
     "name": "stderr",
     "output_type": "stream",
     "text": [
      "2019-09-10 12:45:08,991 - stpipe.Detector1Pipeline.dark_current - INFO - Using DARK reference file /grp/crds/cache/references/jwst/jwst_miri_dark_0048.fits\n",
      "2019-09-10 12:45:09,068 - stpipe.Detector1Pipeline.dark_current - INFO - Science data nints=6, ngroups=10, nframes=1, groupgap=0\n",
      "2019-09-10 12:45:09,068 - stpipe.Detector1Pipeline.dark_current - INFO - Dark data nints=2, ngroups=1000, nframes=1, groupgap=0\n",
      "2019-09-10 12:45:09,515 - stpipe.Detector1Pipeline.dark_current - INFO - Saved model in test_dark_current.fits\n",
      "2019-09-10 12:45:09,515 - stpipe.Detector1Pipeline.dark_current - INFO - Step dark_current done\n",
      "2019-09-10 12:45:09,648 - stpipe.Detector1Pipeline.refpix - INFO - Step refpix running with args (<RampModel(6, 10, 416, 72) from test_dark_current.fits>,).\n",
      "2019-09-10 12:45:09,662 - stpipe.Detector1Pipeline.refpix - INFO - use_side_ref_pixels = True\n",
      "2019-09-10 12:45:09,663 - stpipe.Detector1Pipeline.refpix - INFO - odd_even_columns = True\n",
      "2019-09-10 12:45:09,663 - stpipe.Detector1Pipeline.refpix - INFO - side_smoothing_length = 11\n",
      "2019-09-10 12:45:09,664 - stpipe.Detector1Pipeline.refpix - INFO - side_gain = 1.000000\n",
      "2019-09-10 12:45:09,665 - stpipe.Detector1Pipeline.refpix - INFO - odd_even_rows = True\n",
      "2019-09-10 12:45:09,697 - stpipe.Detector1Pipeline.refpix - WARNING - Refpix correction skipped for MIRI subarrays\n",
      "2019-09-10 12:45:09,699 - stpipe.Detector1Pipeline.refpix - INFO - Step refpix done\n",
      "2019-09-10 12:45:09,848 - stpipe.Detector1Pipeline.jump - INFO - Step jump running with args (<RampModel(6, 10, 416, 72) from test_dark_current.fits>,).\n",
      "2019-09-10 12:45:09,869 - stpipe.Detector1Pipeline.jump - INFO - CR rejection threshold = 4 sigma\n",
      "2019-09-10 12:45:09,898 - stpipe.Detector1Pipeline.jump - INFO - Using GAIN reference file: /grp/crds/cache/references/jwst/jwst_miri_gain_0008.fits\n",
      "2019-09-10 12:45:09,930 - stpipe.Detector1Pipeline.jump - INFO - Using READNOISE reference file: /grp/crds/cache/references/jwst/jwst_miri_readnoise_0039.fits\n",
      "2019-09-10 12:45:09,977 - stpipe.Detector1Pipeline.jump - INFO - Extracting gain subarray to match science data\n",
      "2019-09-10 12:45:09,983 - stpipe.Detector1Pipeline.jump - INFO - Executing two-point difference method\n",
      "2019-09-10 12:45:10,027 - stpipe.Detector1Pipeline.jump - INFO -  working on integration 1\n",
      "2019-09-10 12:45:10,043 - stpipe.Detector1Pipeline.jump - INFO - From highest outlier Two point found 24230 pixels with at least one CR\n",
      "2019-09-10 12:45:12,404 - stpipe.Detector1Pipeline.jump - INFO -  working on integration 2\n",
      "2019-09-10 12:45:12,419 - stpipe.Detector1Pipeline.jump - INFO - From highest outlier Two point found 19928 pixels with at least one CR\n",
      "2019-09-10 12:45:14,586 - stpipe.Detector1Pipeline.jump - INFO -  working on integration 3\n",
      "2019-09-10 12:45:14,597 - stpipe.Detector1Pipeline.jump - INFO - From highest outlier Two point found 22062 pixels with at least one CR\n",
      "2019-09-10 12:45:16,758 - stpipe.Detector1Pipeline.jump - INFO -  working on integration 4\n",
      "2019-09-10 12:45:16,769 - stpipe.Detector1Pipeline.jump - INFO - From highest outlier Two point found 24269 pixels with at least one CR\n",
      "2019-09-10 12:45:19,060 - stpipe.Detector1Pipeline.jump - INFO -  working on integration 5\n",
      "2019-09-10 12:45:19,072 - stpipe.Detector1Pipeline.jump - INFO - From highest outlier Two point found 22088 pixels with at least one CR\n",
      "2019-09-10 12:45:21,290 - stpipe.Detector1Pipeline.jump - INFO -  working on integration 6\n",
      "2019-09-10 12:45:21,301 - stpipe.Detector1Pipeline.jump - INFO - From highest outlier Two point found 19956 pixels with at least one CR\n",
      "2019-09-10 12:45:23,513 - stpipe.Detector1Pipeline.jump - INFO - The execution time in seconds: 13.644254\n",
      "2019-09-10 12:45:23,520 - stpipe.Detector1Pipeline.jump - INFO - Step jump done\n",
      "2019-09-10 12:45:23,652 - stpipe.Detector1Pipeline.ramp_fit - INFO - Step ramp_fit running with args (<RampModel(6, 10, 416, 72) from test_dark_current.fits>,).\n",
      "2019-09-10 12:45:23,814 - stpipe.Detector1Pipeline.ramp_fit - INFO - Using READNOISE reference file: /grp/crds/cache/references/jwst/jwst_miri_readnoise_0039.fits\n",
      "2019-09-10 12:45:23,843 - stpipe.Detector1Pipeline.ramp_fit - INFO - Using GAIN reference file: /grp/crds/cache/references/jwst/jwst_miri_gain_0008.fits\n",
      "2019-09-10 12:45:23,868 - stpipe.Detector1Pipeline.ramp_fit - INFO - Using algorithm = ols\n",
      "2019-09-10 12:45:23,868 - stpipe.Detector1Pipeline.ramp_fit - INFO - Using weighting = optimal\n",
      "2019-09-10 12:45:23,922 - stpipe.Detector1Pipeline.ramp_fit - INFO - Number of leading groups that are flagged as DO_NOT_USE: 1\n",
      "2019-09-10 12:45:23,925 - stpipe.Detector1Pipeline.ramp_fit - INFO - MIRI dataset has all pixels in the final group flagged as DO_NOT_USE.\n",
      "2019-09-10 12:45:23,926 - stpipe.Detector1Pipeline.ramp_fit - INFO - Effective integration time per group: 0.15904\n",
      "2019-09-10 12:45:23,930 - stpipe.Detector1Pipeline.ramp_fit - INFO - Extracting gain subarray to match science data\n",
      "2019-09-10 12:45:34,508 - stpipe.Detector1Pipeline.ramp_fit - INFO - Number of groups per integration: 10\n",
      "2019-09-10 12:45:34,509 - stpipe.Detector1Pipeline.ramp_fit - INFO - Number of integrations: 6\n",
      "2019-09-10 12:45:34,532 - stpipe.Detector1Pipeline.ramp_fit - INFO - Step ramp_fit done\n",
      "2019-09-10 12:45:34,655 - stpipe.Detector1Pipeline.gain_scale - INFO - Step gain_scale running with args (<ImageModel(416, 72) from test_dark_current.fits>,).\n",
      "2019-09-10 12:45:34,698 - stpipe.Detector1Pipeline.gain_scale - INFO - GAINFACT not found in gain reference file\n",
      "2019-09-10 12:45:34,699 - stpipe.Detector1Pipeline.gain_scale - INFO - Step will be skipped\n",
      "2019-09-10 12:45:34,702 - stpipe.Detector1Pipeline.gain_scale - INFO - Step gain_scale done\n",
      "2019-09-10 12:45:34,851 - stpipe.Detector1Pipeline.gain_scale - INFO - Step gain_scale running with args (<CubeModel(6, 416, 72) from test_dark_current.fits>,).\n",
      "2019-09-10 12:45:34,907 - stpipe.Detector1Pipeline.gain_scale - INFO - GAINFACT not found in gain reference file\n",
      "2019-09-10 12:45:34,907 - stpipe.Detector1Pipeline.gain_scale - INFO - Step will be skipped\n",
      "2019-09-10 12:45:34,912 - stpipe.Detector1Pipeline.gain_scale - INFO - Step gain_scale done\n",
      "2019-09-10 12:45:34,913 - stpipe.Detector1Pipeline - INFO - ... ending calwebb_detector1\n",
      "2019-09-10 12:45:34,914 - stpipe.Detector1Pipeline - INFO - Step Detector1Pipeline done\n"
     ]
    },
    {
     "data": {
      "text/plain": [
       "<ImageModel(416, 72) from test_dark_current.fits>"
      ]
     },
     "execution_count": 91,
     "metadata": {},
     "output_type": "execute_result"
    }
   ],
   "source": [
    "! rm -f test_dark_current.fits   # remove the dark current output,  we'll recreate it another way...\n",
    "\n",
    "det1p = Detector1Pipeline()\n",
    "det1p.dark_current.save_results = True\n",
    "det1p.run(\"test.fits\")"
   ]
  },
  {
   "cell_type": "markdown",
   "metadata": {},
   "source": [
    "Setting save_results=True results in the output of the test_dark_current.fits file which can be passed into the PersistenceStep when run in isolation, next."
   ]
  },
  {
   "cell_type": "code",
   "execution_count": 92,
   "metadata": {},
   "outputs": [
    {
     "name": "stdout",
     "output_type": "stream",
     "text": [
      "test_dark_current.fits\r\n"
     ]
    }
   ],
   "source": [
    "! ls test_dark_current.fits   # make sure save_results worked."
   ]
  },
  {
   "cell_type": "markdown",
   "metadata": {},
   "source": [
    "***\n",
    "<a id=\"steps_with_config_files\"></a>\n",
    "## Run Individual Steps with Configuration Files\n",
    "\n",
    "You can also change parameter values in the .cfg files for individual Steps.\n",
    "\n",
    "Edit the cfgs/persistence.cfg file and change:\n",
    "\n",
    "```\n",
    "   input_trapsfilled = \"\"\n",
    "   flag_pers_cutoff = 40.\n",
    "   save_persistence = False\n",
    "```\n",
    "\n",
    "to:\n",
    "\n",
    "```\n",
    "   input_trapsfilled = \"\"\n",
    "   flag_pers_cutoff = 40.\n",
    "   save_persistence = True\n",
    "```\n",
    "\n",
    "This will cause PersistenceStep to output a third output file with suffix “_output_pers”. \n",
    "\n",
    "See https://jwst-pipeline.readthedocs.io/en/latest/jwst/persistence/description.html\n",
    "for more information on the persistence step."
   ]
  },
  {
   "cell_type": "code",
   "execution_count": 93,
   "metadata": {},
   "outputs": [
    {
     "name": "stderr",
     "output_type": "stream",
     "text": [
      "2019-09-10 12:45:44,127 - stpipe.persistence - INFO - PersistenceStep instance created.\n",
      "2019-09-10 12:45:44,294 - stpipe.persistence - INFO - Step persistence running with args ('test_dark_current.fits',).\n",
      "2019-09-10 12:45:44,501 - stpipe.persistence - WARNING - Missing reference file types:  PERSAT TRAPDENSITY TRAPPARS\n",
      "2019-09-10 12:45:44,505 - stpipe.persistence - INFO - Step persistence done\n"
     ]
    },
    {
     "data": {
      "text/plain": [
       "<RampModel(6, 10, 416, 72) from test_dark_current.fits>"
      ]
     },
     "execution_count": 93,
     "metadata": {},
     "output_type": "execute_result"
    }
   ],
   "source": [
    "from jwst.persistence.persistence_step import PersistenceStep\n",
    "\n",
    "output_model = PersistenceStep.call(\"test_dark_current.fits\", config_file=\"cfgs/persistence.cfg\")\n",
    "\n",
    "output_model"
   ]
  },
  {
   "cell_type": "markdown",
   "metadata": {},
   "source": [
    "***\n",
    "<a id=\"pipelines_level_123\"></a>\n",
    "## Run Level 1, 2, 3, Pipelines in Succession"
   ]
  },
  {
   "cell_type": "markdown",
   "metadata": {},
   "source": [
    "This section runs the test data through all stages of processing,  chaining the output of each processing level to the input of the next.   Output can optionally be saved to a file.   Alternatively,  in-memory pipeline output can\n",
    "be passed directly to the next level.\n",
    "\n",
    "Documentation on all JWST CAL pipelines can be found here: https://jwst-pipeline.readthedocs.io/en/latest/jwst/pipeline/main.html#pipelines"
   ]
  },
  {
   "cell_type": "markdown",
   "metadata": {},
   "source": [
    "### Run Level 1\n",
    "\n",
    "Stage 1 consists of detector-level corrections that are performed on a group-by-group basis, followed by ramp fitting. The output of stage 1 processing is a countrate image per exposure, or per integration for some modes. "
   ]
  },
  {
   "cell_type": "code",
   "execution_count": 96,
   "metadata": {},
   "outputs": [
    {
     "name": "stderr",
     "output_type": "stream",
     "text": [
      "2019-09-10 12:46:36,413 - stpipe.Detector1Pipeline - INFO - Detector1Pipeline instance created.\n",
      "2019-09-10 12:46:36,415 - stpipe.Detector1Pipeline.group_scale - INFO - GroupScaleStep instance created.\n",
      "2019-09-10 12:46:36,417 - stpipe.Detector1Pipeline.dq_init - INFO - DQInitStep instance created.\n",
      "2019-09-10 12:46:36,421 - stpipe.Detector1Pipeline.saturation - INFO - SaturationStep instance created.\n",
      "2019-09-10 12:46:36,424 - stpipe.Detector1Pipeline.ipc - INFO - IPCStep instance created.\n",
      "2019-09-10 12:46:36,429 - stpipe.Detector1Pipeline.superbias - INFO - SuperBiasStep instance created.\n",
      "2019-09-10 12:46:36,432 - stpipe.Detector1Pipeline.refpix - INFO - RefPixStep instance created.\n",
      "2019-09-10 12:46:36,434 - stpipe.Detector1Pipeline.rscd - INFO - RSCD_Step instance created.\n",
      "2019-09-10 12:46:36,436 - stpipe.Detector1Pipeline.firstframe - INFO - FirstFrameStep instance created.\n",
      "2019-09-10 12:46:36,438 - stpipe.Detector1Pipeline.lastframe - INFO - LastFrameStep instance created.\n",
      "2019-09-10 12:46:36,440 - stpipe.Detector1Pipeline.linearity - INFO - LinearityStep instance created.\n",
      "2019-09-10 12:46:36,442 - stpipe.Detector1Pipeline.dark_current - INFO - DarkCurrentStep instance created.\n",
      "2019-09-10 12:46:36,443 - stpipe.Detector1Pipeline.persistence - INFO - PersistenceStep instance created.\n",
      "2019-09-10 12:46:36,445 - stpipe.Detector1Pipeline.jump - INFO - JumpStep instance created.\n",
      "2019-09-10 12:46:36,447 - stpipe.Detector1Pipeline.ramp_fit - INFO - RampFitStep instance created.\n",
      "2019-09-10 12:46:36,449 - stpipe.Detector1Pipeline.gain_scale - INFO - GainScaleStep instance created.\n",
      "2019-09-10 12:46:36,602 - stpipe - WARNING - /Users/jmiller/miniconda3/envs/crds-env/lib/python3.7/site-packages/jwst/stpipe/step.py:341: ResourceWarning: unclosed file <_io.FileIO name='test_dark_current.fits' mode='rb' closefd=True>\n",
      "  gc.collect()\n",
      "\n",
      "2019-09-10 12:46:36,605 - stpipe.Detector1Pipeline - INFO - Step Detector1Pipeline running with args ('test.fits',).\n",
      "2019-09-10 12:46:36,771 - stpipe.Detector1Pipeline - WARNING - /Users/jmiller/miniconda3/envs/crds-env/lib/python3.7/site-packages/jwst/datamodels/util.py:165: NoTypeWarning: model_type not found. Opening test.fits as a RampModel\n",
      "  warnings.warn(errmsg, NoTypeWarning)\n",
      "\n",
      "2019-09-10 12:46:36,772 - stpipe.Detector1Pipeline - INFO - Prefetching reference files for dataset: 'test.fits' reftypes = ['dark', 'gain', 'linearity', 'mask', 'persat', 'readnoise', 'refpix', 'rscd', 'saturation', 'superbias', 'trapdensity', 'trappars']\n",
      "2019-09-10 12:46:36,798 - stpipe.Detector1Pipeline - INFO - Prefetch for DARK reference file is '/grp/crds/cache/references/jwst/jwst_miri_dark_0048.fits'.\n",
      "2019-09-10 12:46:36,802 - stpipe.Detector1Pipeline - INFO - Prefetch for GAIN reference file is '/grp/crds/cache/references/jwst/jwst_miri_gain_0008.fits'.\n",
      "2019-09-10 12:46:36,806 - stpipe.Detector1Pipeline - INFO - Prefetch for LINEARITY reference file is '/grp/crds/cache/references/jwst/jwst_miri_linearity_0024.fits'.\n",
      "2019-09-10 12:46:36,809 - stpipe.Detector1Pipeline - INFO - Prefetch for MASK reference file is '/grp/crds/cache/references/jwst/jwst_miri_mask_0023.fits'.\n",
      "2019-09-10 12:46:36,813 - stpipe.Detector1Pipeline - INFO - Prefetch for PERSAT reference file is 'N/A'.\n",
      "2019-09-10 12:46:36,814 - stpipe.Detector1Pipeline - INFO - Prefetch for READNOISE reference file is '/grp/crds/cache/references/jwst/jwst_miri_readnoise_0039.fits'.\n",
      "2019-09-10 12:46:36,818 - stpipe.Detector1Pipeline - INFO - Prefetch for REFPIX reference file is 'N/A'.\n",
      "2019-09-10 12:46:36,819 - stpipe.Detector1Pipeline - INFO - Prefetch for RSCD reference file is '/grp/crds/cache/references/jwst/jwst_miri_rscd_0009.fits'.\n",
      "2019-09-10 12:46:36,829 - stpipe.Detector1Pipeline - INFO - Prefetch for SATURATION reference file is '/grp/crds/cache/references/jwst/jwst_miri_saturation_0022.fits'.\n",
      "2019-09-10 12:46:36,833 - stpipe.Detector1Pipeline - INFO - Prefetch for SUPERBIAS reference file is 'N/A'.\n",
      "2019-09-10 12:46:36,834 - stpipe.Detector1Pipeline - INFO - Prefetch for TRAPDENSITY reference file is 'N/A'.\n",
      "2019-09-10 12:46:36,834 - stpipe.Detector1Pipeline - INFO - Prefetch for TRAPPARS reference file is 'N/A'.\n",
      "2019-09-10 12:46:36,836 - stpipe.Detector1Pipeline - INFO - Starting calwebb_detector1 ...\n",
      "2019-09-10 12:46:37,160 - stpipe.Detector1Pipeline.group_scale - INFO - Step group_scale running with args (<RampModel(6, 10, 416, 72) from test.fits>,).\n",
      "2019-09-10 12:46:37,174 - stpipe.Detector1Pipeline.group_scale - INFO - NFRAMES and FRMDIVSR are equal; correction not needed\n",
      "2019-09-10 12:46:37,175 - stpipe.Detector1Pipeline.group_scale - INFO - Step will be skipped\n",
      "2019-09-10 12:46:37,176 - stpipe.Detector1Pipeline.group_scale - INFO - Step group_scale done\n",
      "2019-09-10 12:46:37,337 - stpipe.Detector1Pipeline.dq_init - INFO - Step dq_init running with args (<RampModel(6, 10, 416, 72) from test.fits>,).\n",
      "2019-09-10 12:46:37,367 - stpipe.Detector1Pipeline.dq_init - INFO - Using MASK reference file /grp/crds/cache/references/jwst/jwst_miri_mask_0023.fits\n",
      "2019-09-10 12:46:37,481 - stpipe.Detector1Pipeline.dq_init - INFO - Extracting mask subarray to match science data\n",
      "2019-09-10 12:46:37,491 - stpipe.Detector1Pipeline.dq_init - INFO - Step dq_init done\n",
      "2019-09-10 12:46:37,632 - stpipe.Detector1Pipeline - WARNING - /Users/jmiller/miniconda3/envs/crds-env/lib/python3.7/site-packages/jwst/stpipe/step.py:341: ResourceWarning: unclosed file <_io.FileIO name='test.fits' mode='rb' closefd=True>\n",
      "  gc.collect()\n",
      "\n",
      "2019-09-10 12:46:37,638 - stpipe.Detector1Pipeline.saturation - INFO - Step saturation running with args (<RampModel(6, 10, 416, 72) from test.fits>,).\n",
      "2019-09-10 12:46:37,656 - stpipe.Detector1Pipeline.saturation - INFO - Using SATURATION reference file /grp/crds/cache/references/jwst/jwst_miri_saturation_0022.fits\n",
      "2019-09-10 12:46:37,746 - stpipe.Detector1Pipeline.saturation - INFO - Extracting reference file subarray to match science data\n",
      "2019-09-10 12:46:37,773 - stpipe.Detector1Pipeline.saturation - INFO - Step saturation done\n",
      "2019-09-10 12:46:37,908 - stpipe.Detector1Pipeline.ipc - INFO - Step ipc running with args (<RampModel(6, 10, 416, 72) from test.fits>,).\n",
      "2019-09-10 12:46:37,910 - stpipe.Detector1Pipeline.ipc - INFO - Step skipped.\n",
      "2019-09-10 12:46:37,911 - stpipe.Detector1Pipeline.ipc - INFO - Step ipc done\n",
      "2019-09-10 12:46:38,073 - stpipe.Detector1Pipeline.firstframe - INFO - Step firstframe running with args (<RampModel(6, 10, 416, 72) from test.fits>,).\n",
      "2019-09-10 12:46:38,129 - stpipe.Detector1Pipeline.firstframe - INFO - Step firstframe done\n",
      "2019-09-10 12:46:38,274 - stpipe.Detector1Pipeline.lastframe - INFO - Step lastframe running with args (<RampModel(6, 10, 416, 72) from test.fits>,).\n",
      "2019-09-10 12:46:38,332 - stpipe.Detector1Pipeline.lastframe - INFO - Step lastframe done\n",
      "2019-09-10 12:46:38,501 - stpipe.Detector1Pipeline.linearity - INFO - Step linearity running with args (<RampModel(6, 10, 416, 72) from test.fits>,).\n",
      "2019-09-10 12:46:38,517 - stpipe.Detector1Pipeline.linearity - INFO - Using Linearity reference file /grp/crds/cache/references/jwst/jwst_miri_linearity_0024.fits\n",
      "2019-09-10 12:46:38,601 - stpipe.Detector1Pipeline.linearity - INFO - Extracting linearity subarray to match science data\n",
      "2019-09-10 12:46:38,647 - stpipe.Detector1Pipeline.linearity - INFO - Step linearity done\n",
      "2019-09-10 12:46:38,792 - stpipe.Detector1Pipeline.rscd - INFO - Step rscd running with args (<RampModel(6, 10, 416, 72) from test.fits>,).\n",
      "2019-09-10 12:46:38,812 - stpipe.Detector1Pipeline.rscd - INFO - Using RSCD reference file /grp/crds/cache/references/jwst/jwst_miri_rscd_0009.fits\n",
      "2019-09-10 12:46:38,890 - stpipe.Detector1Pipeline.rscd - INFO -  Working on integration 2\n",
      "2019-09-10 12:46:38,909 - stpipe.Detector1Pipeline.rscd - INFO -  Working on integration 3\n",
      "2019-09-10 12:46:38,931 - stpipe.Detector1Pipeline.rscd - INFO -  Working on integration 4\n",
      "2019-09-10 12:46:38,945 - stpipe.Detector1Pipeline.rscd - INFO -  Working on integration 5\n",
      "2019-09-10 12:46:38,957 - stpipe.Detector1Pipeline.rscd - INFO -  Working on integration 6\n",
      "2019-09-10 12:46:38,985 - stpipe.Detector1Pipeline.rscd - INFO - Step rscd done\n",
      "2019-09-10 12:46:39,132 - stpipe.Detector1Pipeline.dark_current - INFO - Step dark_current running with args (<RampModel(6, 10, 416, 72) from test.fits>,).\n"
     ]
    },
    {
     "name": "stderr",
     "output_type": "stream",
     "text": [
      "2019-09-10 12:46:39,155 - stpipe.Detector1Pipeline.dark_current - INFO - Using DARK reference file /grp/crds/cache/references/jwst/jwst_miri_dark_0048.fits\n",
      "2019-09-10 12:46:39,230 - stpipe.Detector1Pipeline.dark_current - INFO - Science data nints=6, ngroups=10, nframes=1, groupgap=0\n",
      "2019-09-10 12:46:39,231 - stpipe.Detector1Pipeline.dark_current - INFO - Dark data nints=2, ngroups=1000, nframes=1, groupgap=0\n",
      "2019-09-10 12:46:39,447 - stpipe.Detector1Pipeline.dark_current - INFO - Step dark_current done\n",
      "2019-09-10 12:46:39,598 - stpipe.Detector1Pipeline.refpix - INFO - Step refpix running with args (<RampModel(6, 10, 416, 72) from test.fits>,).\n",
      "2019-09-10 12:46:39,611 - stpipe.Detector1Pipeline.refpix - INFO - use_side_ref_pixels = True\n",
      "2019-09-10 12:46:39,612 - stpipe.Detector1Pipeline.refpix - INFO - odd_even_columns = True\n",
      "2019-09-10 12:46:39,613 - stpipe.Detector1Pipeline.refpix - INFO - side_smoothing_length = 11\n",
      "2019-09-10 12:46:39,614 - stpipe.Detector1Pipeline.refpix - INFO - side_gain = 1.000000\n",
      "2019-09-10 12:46:39,614 - stpipe.Detector1Pipeline.refpix - INFO - odd_even_rows = True\n",
      "2019-09-10 12:46:39,646 - stpipe.Detector1Pipeline.refpix - WARNING - Refpix correction skipped for MIRI subarrays\n",
      "2019-09-10 12:46:39,648 - stpipe.Detector1Pipeline.refpix - INFO - Step refpix done\n",
      "2019-09-10 12:46:39,778 - stpipe.Detector1Pipeline.jump - INFO - Step jump running with args (<RampModel(6, 10, 416, 72) from test.fits>,).\n",
      "2019-09-10 12:46:39,793 - stpipe.Detector1Pipeline.jump - INFO - CR rejection threshold = 4 sigma\n",
      "2019-09-10 12:46:39,798 - stpipe.Detector1Pipeline.jump - INFO - Using GAIN reference file: /grp/crds/cache/references/jwst/jwst_miri_gain_0008.fits\n",
      "2019-09-10 12:46:39,827 - stpipe.Detector1Pipeline.jump - INFO - Using READNOISE reference file: /grp/crds/cache/references/jwst/jwst_miri_readnoise_0039.fits\n",
      "2019-09-10 12:46:39,872 - stpipe.Detector1Pipeline.jump - INFO - Extracting gain subarray to match science data\n",
      "2019-09-10 12:46:39,878 - stpipe.Detector1Pipeline.jump - INFO - Executing two-point difference method\n",
      "2019-09-10 12:46:39,922 - stpipe.Detector1Pipeline.jump - INFO -  working on integration 1\n",
      "2019-09-10 12:46:39,936 - stpipe.Detector1Pipeline.jump - INFO - From highest outlier Two point found 24230 pixels with at least one CR\n",
      "2019-09-10 12:46:42,376 - stpipe.Detector1Pipeline.jump - INFO -  working on integration 2\n",
      "2019-09-10 12:46:42,392 - stpipe.Detector1Pipeline.jump - INFO - From highest outlier Two point found 19928 pixels with at least one CR\n",
      "2019-09-10 12:46:44,645 - stpipe.Detector1Pipeline.jump - INFO -  working on integration 3\n",
      "2019-09-10 12:46:44,658 - stpipe.Detector1Pipeline.jump - INFO - From highest outlier Two point found 22062 pixels with at least one CR\n",
      "2019-09-10 12:46:46,969 - stpipe.Detector1Pipeline.jump - INFO -  working on integration 4\n",
      "2019-09-10 12:46:46,979 - stpipe.Detector1Pipeline.jump - INFO - From highest outlier Two point found 24269 pixels with at least one CR\n",
      "2019-09-10 12:46:49,371 - stpipe.Detector1Pipeline.jump - INFO -  working on integration 5\n",
      "2019-09-10 12:46:49,384 - stpipe.Detector1Pipeline.jump - INFO - From highest outlier Two point found 22088 pixels with at least one CR\n",
      "2019-09-10 12:46:51,613 - stpipe.Detector1Pipeline.jump - INFO -  working on integration 6\n",
      "2019-09-10 12:46:51,624 - stpipe.Detector1Pipeline.jump - INFO - From highest outlier Two point found 19956 pixels with at least one CR\n",
      "2019-09-10 12:46:53,893 - stpipe.Detector1Pipeline.jump - INFO - The execution time in seconds: 14.099516\n",
      "2019-09-10 12:46:53,895 - stpipe.Detector1Pipeline.jump - INFO - Step jump done\n",
      "2019-09-10 12:46:54,034 - stpipe.Detector1Pipeline.ramp_fit - INFO - Step ramp_fit running with args (<RampModel(6, 10, 416, 72) from test.fits>,).\n",
      "2019-09-10 12:46:54,063 - stpipe.Detector1Pipeline.ramp_fit - INFO - Using READNOISE reference file: /grp/crds/cache/references/jwst/jwst_miri_readnoise_0039.fits\n",
      "2019-09-10 12:46:54,102 - stpipe.Detector1Pipeline.ramp_fit - INFO - Using GAIN reference file: /grp/crds/cache/references/jwst/jwst_miri_gain_0008.fits\n",
      "2019-09-10 12:46:54,126 - stpipe.Detector1Pipeline.ramp_fit - INFO - Using algorithm = ols\n",
      "2019-09-10 12:46:54,127 - stpipe.Detector1Pipeline.ramp_fit - INFO - Using weighting = optimal\n",
      "2019-09-10 12:46:54,181 - stpipe.Detector1Pipeline.ramp_fit - INFO - Number of leading groups that are flagged as DO_NOT_USE: 1\n",
      "2019-09-10 12:46:54,184 - stpipe.Detector1Pipeline.ramp_fit - INFO - MIRI dataset has all pixels in the final group flagged as DO_NOT_USE.\n",
      "2019-09-10 12:46:54,185 - stpipe.Detector1Pipeline.ramp_fit - INFO - Effective integration time per group: 0.15904\n",
      "2019-09-10 12:46:54,190 - stpipe.Detector1Pipeline.ramp_fit - INFO - Extracting gain subarray to match science data\n",
      "2019-09-10 12:47:04,854 - stpipe.Detector1Pipeline.ramp_fit - INFO - Number of groups per integration: 10\n",
      "2019-09-10 12:47:04,855 - stpipe.Detector1Pipeline.ramp_fit - INFO - Number of integrations: 6\n",
      "2019-09-10 12:47:04,880 - stpipe.Detector1Pipeline.ramp_fit - INFO - Step ramp_fit done\n",
      "2019-09-10 12:47:05,018 - stpipe.Detector1Pipeline.gain_scale - INFO - Step gain_scale running with args (<ImageModel(416, 72) from test.fits>,).\n",
      "2019-09-10 12:47:05,066 - stpipe.Detector1Pipeline.gain_scale - INFO - GAINFACT not found in gain reference file\n",
      "2019-09-10 12:47:05,066 - stpipe.Detector1Pipeline.gain_scale - INFO - Step will be skipped\n",
      "2019-09-10 12:47:05,069 - stpipe.Detector1Pipeline.gain_scale - INFO - Step gain_scale done\n",
      "2019-09-10 12:47:05,210 - stpipe.Detector1Pipeline.gain_scale - INFO - Step gain_scale running with args (<CubeModel(6, 416, 72) from test.fits>,).\n",
      "2019-09-10 12:47:05,257 - stpipe.Detector1Pipeline.gain_scale - INFO - GAINFACT not found in gain reference file\n",
      "2019-09-10 12:47:05,257 - stpipe.Detector1Pipeline.gain_scale - INFO - Step will be skipped\n",
      "2019-09-10 12:47:05,261 - stpipe.Detector1Pipeline.gain_scale - INFO - Step gain_scale done\n",
      "2019-09-10 12:47:05,261 - stpipe.Detector1Pipeline - INFO - ... ending calwebb_detector1\n",
      "2019-09-10 12:47:05,262 - stpipe.Detector1Pipeline - INFO - Step Detector1Pipeline done\n"
     ]
    }
   ],
   "source": [
    "output1 = Detector1Pipeline.call(\"test.fits\", config_file=\"cfgs/calwebb_detector1.cfg\")"
   ]
  },
  {
   "cell_type": "markdown",
   "metadata": {},
   "source": [
    "### Run Level 2\n",
    "\n",
    "Stage 2 processing consists of additional instrument-level and observing-mode corrections and calibrations to produce fully calibrated exposures. The details differ for imaging and spectroscopic exposures, and there are some corrections that are unique to certain instruments or modes. "
   ]
  },
  {
   "cell_type": "code",
   "execution_count": 97,
   "metadata": {},
   "outputs": [
    {
     "name": "stderr",
     "output_type": "stream",
     "text": [
      "2019-09-10 12:47:05,274 - stpipe.Image2Pipeline - INFO - Image2Pipeline instance created.\n",
      "2019-09-10 12:47:05,276 - stpipe.Image2Pipeline.bkg_subtract - INFO - BackgroundStep instance created.\n",
      "2019-09-10 12:47:05,278 - stpipe.Image2Pipeline.assign_wcs - INFO - AssignWcsStep instance created.\n",
      "2019-09-10 12:47:05,280 - stpipe.Image2Pipeline.flat_field - INFO - FlatFieldStep instance created.\n",
      "2019-09-10 12:47:05,283 - stpipe.Image2Pipeline.photom - INFO - PhotomStep instance created.\n",
      "2019-09-10 12:47:05,286 - stpipe.Image2Pipeline.resample - INFO - ResampleStep instance created.\n",
      "2019-09-10 12:47:05,455 - stpipe.Image2Pipeline - INFO - Step Image2Pipeline running with args (<ImageModel(416, 72) from test.fits>,).\n",
      "2019-09-10 12:47:05,470 - stpipe.Image2Pipeline - INFO - Prefetching reference files for dataset: 'test.fits' reftypes = ['area', 'camera', 'collimator', 'dflat', 'disperser', 'distortion', 'drizpars', 'fflat', 'filteroffset', 'flat', 'fore', 'fpa', 'ifufore', 'ifupost', 'ifuslicer', 'msa', 'ote', 'photom', 'regions', 'sflat', 'specwcs', 'wavelengthrange', 'wfssbkg']\n",
      "2019-09-10 12:47:05,486 - stpipe.Image2Pipeline - INFO - Prefetch for AREA reference file is '/grp/crds/cache/references/jwst/jwst_miri_area_0004.fits'.\n",
      "2019-09-10 12:47:05,490 - stpipe.Image2Pipeline - INFO - Prefetch for CAMERA reference file is 'N/A'.\n",
      "2019-09-10 12:47:05,491 - stpipe.Image2Pipeline - INFO - Prefetch for COLLIMATOR reference file is 'N/A'.\n",
      "2019-09-10 12:47:05,492 - stpipe.Image2Pipeline - INFO - Prefetch for DFLAT reference file is 'N/A'.\n",
      "2019-09-10 12:47:05,493 - stpipe.Image2Pipeline - INFO - Prefetch for DISPERSER reference file is 'N/A'.\n",
      "2019-09-10 12:47:05,494 - stpipe.Image2Pipeline - INFO - Prefetch for DISTORTION reference file is '/grp/crds/cache/references/jwst/jwst_miri_distortion_0028.asdf'.\n",
      "2019-09-10 12:47:05,500 - stpipe.Image2Pipeline - INFO - Prefetch for DRIZPARS reference file is '/grp/crds/cache/references/jwst/jwst_miri_drizpars_0001.fits'.\n",
      "2019-09-10 12:47:05,504 - stpipe.Image2Pipeline - INFO - Prefetch for FFLAT reference file is 'N/A'.\n",
      "2019-09-10 12:47:05,505 - stpipe.Image2Pipeline - INFO - Prefetch for FILTEROFFSET reference file is '/grp/crds/cache/references/jwst/jwst_miri_filteroffset_0004.asdf'.\n",
      "2019-09-10 12:47:05,509 - stpipe.Image2Pipeline - INFO - Prefetch for FLAT reference file is '/grp/crds/cache/references/jwst/jwst_miri_flat_0188.fits'.\n",
      "2019-09-10 12:47:05,513 - stpipe.Image2Pipeline - INFO - Prefetch for FORE reference file is 'N/A'.\n",
      "2019-09-10 12:47:05,514 - stpipe.Image2Pipeline - INFO - Prefetch for FPA reference file is 'N/A'.\n",
      "2019-09-10 12:47:05,515 - stpipe.Image2Pipeline - INFO - Prefetch for IFUFORE reference file is 'N/A'.\n",
      "2019-09-10 12:47:05,518 - stpipe.Image2Pipeline - INFO - Prefetch for IFUPOST reference file is 'N/A'.\n",
      "2019-09-10 12:47:05,519 - stpipe.Image2Pipeline - INFO - Prefetch for IFUSLICER reference file is 'N/A'.\n",
      "2019-09-10 12:47:05,520 - stpipe.Image2Pipeline - INFO - Prefetch for MSA reference file is 'N/A'.\n",
      "2019-09-10 12:47:05,522 - stpipe.Image2Pipeline - INFO - Prefetch for OTE reference file is 'N/A'.\n",
      "2019-09-10 12:47:05,523 - stpipe.Image2Pipeline - INFO - Prefetch for PHOTOM reference file is '/grp/crds/cache/references/jwst/jwst_miri_photom_0042.fits'.\n",
      "2019-09-10 12:47:05,526 - stpipe.Image2Pipeline - INFO - Prefetch for REGIONS reference file is 'N/A'.\n",
      "2019-09-10 12:47:05,527 - stpipe.Image2Pipeline - INFO - Prefetch for SFLAT reference file is 'N/A'.\n",
      "2019-09-10 12:47:05,530 - stpipe.Image2Pipeline - INFO - Prefetch for SPECWCS reference file is 'N/A'.\n",
      "2019-09-10 12:47:05,531 - stpipe.Image2Pipeline - INFO - Prefetch for WAVELENGTHRANGE reference file is 'N/A'.\n",
      "2019-09-10 12:47:05,532 - stpipe.Image2Pipeline - INFO - Prefetch for WFSSBKG reference file is 'N/A'.\n",
      "2019-09-10 12:47:05,533 - stpipe.Image2Pipeline - INFO - Starting calwebb_image2 ...\n",
      "2019-09-10 12:47:05,568 - stpipe.Image2Pipeline - INFO - Processing product test\n",
      "2019-09-10 12:47:05,569 - stpipe.Image2Pipeline - INFO - Working on input <ImageModel(416, 72) from test.fits> ...\n",
      "2019-09-10 12:47:05,703 - stpipe.Image2Pipeline.assign_wcs - INFO - Step assign_wcs running with args (<ImageModel(416, 72) from test.fits>,).\n",
      "2019-09-10 12:47:05,956 - stpipe.Image2Pipeline.assign_wcs - INFO - Created a MIRI mir_image pipeline with references {'distortion': '/grp/crds/cache/references/jwst/jwst_miri_distortion_0028.asdf', 'filteroffset': '/grp/crds/cache/references/jwst/jwst_miri_filteroffset_0004.asdf', 'specwcs': None, 'regions': None, 'wavelengthrange': None, 'camera': None, 'collimator': None, 'disperser': None, 'fore': None, 'fpa': None, 'msa': None, 'ote': None, 'ifupost': None, 'ifufore': None, 'ifuslicer': None}\n",
      "2019-09-10 12:47:05,982 - stpipe.Image2Pipeline.assign_wcs - INFO - Update S_REGION to POLYGON ICRS  273.096594074 65.605618360 273.098840566 65.618325933 273.093615778 65.618514643 273.091346037 65.605800996\n",
      "2019-09-10 12:47:05,983 - stpipe.Image2Pipeline.assign_wcs - INFO - assign_wcs updated S_REGION to POLYGON ICRS  273.096594074 65.605618360 273.098840566 65.618325933 273.093615778 65.618514643 273.091346037 65.605800996\n",
      "2019-09-10 12:47:05,984 - stpipe.Image2Pipeline.assign_wcs - INFO - COMPLETED assign_wcs\n",
      "2019-09-10 12:47:05,991 - stpipe.Image2Pipeline.assign_wcs - INFO - Step assign_wcs done\n",
      "2019-09-10 12:47:06,134 - stpipe.Image2Pipeline.flat_field - INFO - Step flat_field running with args (<ImageModel(416, 72) from test.fits>,).\n",
      "2019-09-10 12:47:06,203 - stpipe.Image2Pipeline.flat_field - WARNING - Keyword CDP_PARTIAL_DATA does not correspond to an existing DQ mnemonic, so will be ignored\n",
      "2019-09-10 12:47:06,204 - stpipe.Image2Pipeline.flat_field - WARNING - Keyword CDP_LOW_QUAL does not correspond to an existing DQ mnemonic, so will be ignored\n",
      "2019-09-10 12:47:06,205 - stpipe.Image2Pipeline.flat_field - WARNING - Keyword CDP_UNRELIABLE_ERROR does not correspond to an existing DQ mnemonic, so will be ignored\n",
      "2019-09-10 12:47:06,206 - stpipe.Image2Pipeline.flat_field - WARNING - Keyword DIFF_PATTERN does not correspond to an existing DQ mnemonic, so will be ignored\n",
      "2019-09-10 12:47:06,308 - stpipe.Image2Pipeline.flat_field - INFO - Step flat_field done\n",
      "2019-09-10 12:47:06,455 - stpipe.Image2Pipeline.photom - INFO - Step photom running with args (<ImageModel(416, 72) from test.fits>,).\n",
      "2019-09-10 12:47:06,469 - stpipe.Image2Pipeline.photom - INFO - Using photom reference file: /grp/crds/cache/references/jwst/jwst_miri_photom_0042.fits\n",
      "2019-09-10 12:47:06,474 - stpipe.Image2Pipeline.photom - INFO - Using area reference file: /grp/crds/cache/references/jwst/jwst_miri_area_0004.fits\n",
      "2019-09-10 12:47:06,564 - stpipe.Image2Pipeline.photom - INFO - Using instrument: MIRI\n",
      "2019-09-10 12:47:06,566 - stpipe.Image2Pipeline.photom - INFO -  detector: MIRIMAGE\n",
      "2019-09-10 12:47:06,567 - stpipe.Image2Pipeline.photom - INFO -  exp_type: MIR_IMAGE\n",
      "2019-09-10 12:47:06,568 - stpipe.Image2Pipeline.photom - INFO -  filter: F770W\n",
      "2019-09-10 12:47:06,606 - stpipe.Image2Pipeline.photom - INFO -  subarray: SUBPRISM\n",
      "2019-09-10 12:47:06,607 - stpipe.Image2Pipeline.photom - INFO - PHOTMJSR value: 0.562788\n",
      "2019-09-10 12:47:06,637 - stpipe.Image2Pipeline.photom - INFO - Pixel area map copied to output.\n",
      "2019-09-10 12:47:06,641 - stpipe.Image2Pipeline.photom - INFO - Step photom done\n",
      "2019-09-10 12:47:06,792 - stpipe.Image2Pipeline.resample - INFO - Step resample running with args (<ImageModel(416, 72) from test.fits>,).\n",
      "2019-09-10 12:47:06,812 - stpipe.Image2Pipeline.resample - INFO - Drizpars reference file: /grp/crds/cache/references/jwst/jwst_miri_drizpars_0001.fits\n",
      "2019-09-10 12:47:06,913 - stpipe.Image2Pipeline.resample - INFO - Drizzling (416, 72) --> (424, 102)\n",
      "2019-09-10 12:47:06,933 - stpipe.Image2Pipeline.resample - INFO - Update S_REGION to POLYGON ICRS  273.098879264 65.605600181 273.098881126 65.618509869 273.091357977 65.618509869 273.091359853 65.605600180\n",
      "2019-09-10 12:47:06,935 - stpipe.Image2Pipeline.resample - WARNING - /Users/jmiller/miniconda3/envs/crds-env/lib/python3.7/site-packages/asdf/schema.py:250: ResourceWarning: unclosed file <_io.FileIO name='/grp/crds/cache/references/jwst/jwst_miri_area_0004.fits' mode='rb' closefd=True>\n",
      "  s = load_schema(schema_path, self.ctx.resolver)\n",
      "\n"
     ]
    },
    {
     "name": "stderr",
     "output_type": "stream",
     "text": [
      "2019-09-10 12:47:07,056 - stpipe.Image2Pipeline.resample - INFO - Saved model in test_i2d.fits\n",
      "2019-09-10 12:47:07,057 - stpipe.Image2Pipeline.resample - INFO - Step resample done\n",
      "2019-09-10 12:47:07,058 - stpipe.Image2Pipeline - INFO - Finished processing product test\n",
      "2019-09-10 12:47:07,059 - stpipe.Image2Pipeline - INFO - ... ending calwebb_image2\n",
      "2019-09-10 12:47:07,234 - stpipe.Image2Pipeline - INFO - Saved model in test_cal.fits\n",
      "2019-09-10 12:47:07,235 - stpipe.Image2Pipeline - INFO - Step Image2Pipeline done\n"
     ]
    }
   ],
   "source": [
    "output2 = Image2Pipeline.call(output1, config_file=\"cfgs/calwebb_image2.cfg\")"
   ]
  },
  {
   "cell_type": "markdown",
   "metadata": {},
   "source": [
    "### Run Level 3\n",
    "\n",
    "Stage 3 processing consists of routines that work with multiple exposures and in most cases produce some kind of combined product. There are unique pipeline modules for stage 3 processing of imaging, spectroscopic, coronagraphic, AMI, and TSO observations."
   ]
  },
  {
   "cell_type": "code",
   "execution_count": 98,
   "metadata": {},
   "outputs": [
    {
     "name": "stderr",
     "output_type": "stream",
     "text": [
      "2019-09-10 12:47:07,255 - stpipe.Image3Pipeline - INFO - Image3Pipeline instance created.\n",
      "2019-09-10 12:47:07,257 - stpipe.Image3Pipeline.tweakreg - INFO - TweakRegStep instance created.\n",
      "2019-09-10 12:47:07,260 - stpipe.Image3Pipeline.skymatch - INFO - SkyMatchStep instance created.\n",
      "2019-09-10 12:47:07,262 - stpipe.Image3Pipeline.outlier_detection - INFO - OutlierDetectionStep instance created.\n",
      "2019-09-10 12:47:07,264 - stpipe.Image3Pipeline.resample - INFO - ResampleStep instance created.\n",
      "2019-09-10 12:47:07,266 - stpipe.Image3Pipeline.source_catalog - INFO - SourceCatalogStep instance created.\n",
      "2019-09-10 12:47:07,420 - stpipe.Image3Pipeline - INFO - Step Image3Pipeline running with args (<ImageModel(416, 72) from test_cal.fits>,).\n",
      "2019-09-10 12:47:07,434 - stpipe.Image3Pipeline - INFO - Prefetching reference files for dataset: 'test_cal.fits' reftypes = ['drizpars']\n",
      "2019-09-10 12:47:07,439 - stpipe.Image3Pipeline - INFO - Prefetch for DRIZPARS reference file is '/grp/crds/cache/references/jwst/jwst_miri_drizpars_0001.fits'.\n",
      "2019-09-10 12:47:07,442 - stpipe.Image3Pipeline - INFO - Starting calwebb_image3 ...\n",
      "2019-09-10 12:47:07,457 - stpipe.Image3Pipeline - INFO - Resampling images to final result...\n",
      "2019-09-10 12:47:07,597 - stpipe.Image3Pipeline.resample - INFO - Step resample running with args (<ImageModel(416, 72) from test_cal.fits>,).\n",
      "2019-09-10 12:47:07,617 - stpipe.Image3Pipeline.resample - INFO - Drizpars reference file: /grp/crds/cache/references/jwst/jwst_miri_drizpars_0001.fits\n",
      "2019-09-10 12:47:07,710 - stpipe.Image3Pipeline.resample - INFO - Drizzling (416, 72) --> (424, 102)\n",
      "2019-09-10 12:47:07,732 - stpipe.Image3Pipeline.resample - INFO - Update S_REGION to POLYGON ICRS  273.098879264 65.605600181 273.098881126 65.618509869 273.091357977 65.618509869 273.091359853 65.605600180\n",
      "2019-09-10 12:47:07,735 - stpipe.Image3Pipeline.resample - INFO - Step resample done\n",
      "2019-09-10 12:47:07,735 - stpipe.Image3Pipeline - INFO - Creating source catalog...\n",
      "2019-09-10 12:47:07,862 - stpipe.Image3Pipeline.source_catalog - INFO - Step source_catalog running with args (<DrizProductModel(424, 102) from test_cal.fits>,).\n",
      "2019-09-10 12:47:07,885 - stpipe.Image3Pipeline.source_catalog - WARNING - /Users/jmiller/miniconda3/envs/crds-env/lib/python3.7/site-packages/photutils/segmentation/detect.py:172: NoDetectionsWarning: No sources were found.\n",
      "  warnings.warn('No sources were found.', NoDetectionsWarning)\n",
      "\n",
      "2019-09-10 12:47:07,885 - stpipe.Image3Pipeline.source_catalog - INFO - No sources were found.  Source catalog will not be written.\n",
      "2019-09-10 12:47:07,886 - stpipe.Image3Pipeline.source_catalog - INFO - Step source_catalog done\n",
      "2019-09-10 12:47:07,887 - stpipe.Image3Pipeline - INFO - Step Image3Pipeline done\n"
     ]
    }
   ],
   "source": [
    "output3 = Image3Pipeline.call(output2[0], config_file=\"cfgs/calwebb_image3.cfg\")"
   ]
  },
  {
   "cell_type": "code",
   "execution_count": null,
   "metadata": {},
   "outputs": [],
   "source": []
  }
 ],
 "metadata": {
  "kernelspec": {
   "display_name": "Python 3",
   "language": "python",
   "name": "python3"
  },
  "language_info": {
   "codemirror_mode": {
    "name": "ipython",
    "version": 3
   },
   "file_extension": ".py",
   "mimetype": "text/x-python",
   "name": "python",
   "nbconvert_exporter": "python",
   "pygments_lexer": "ipython3",
   "version": "3.7.4"
  }
 },
 "nbformat": 4,
 "nbformat_minor": 4
}
